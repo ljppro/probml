{
 "cells": [
  {
   "cell_type": "code",
   "execution_count": 15,
   "id": "cbc10ad1",
   "metadata": {},
   "outputs": [],
   "source": [
    "from glob import glob\n",
    "import pandas as pd\n",
    "import os\n",
    "import nbformat"
   ]
  },
  {
   "cell_type": "code",
   "execution_count": 2,
   "id": "5283a731",
   "metadata": {},
   "outputs": [
    {
     "data": {
      "text/plain": [
       "(183, '../../notebooks/book2/18/bnn_mnist_sgld.ipynb')"
      ]
     },
     "execution_count": 2,
     "metadata": {},
     "output_type": "execute_result"
    }
   ],
   "source": [
    "book2 = glob(\"../../notebooks/book2/*/*.ipynb\")\n",
    "len(book2), book2[0]"
   ]
  },
  {
   "cell_type": "code",
   "execution_count": 3,
   "id": "e721747b",
   "metadata": {},
   "outputs": [
    {
     "data": {
      "text/plain": [
       "(23,\n",
       " ['../../notebooks/book2/09/linreg_bayes_svi_hmc_pyro.ipynb',\n",
       "  '../../notebooks/book2/09/svi_gmm_demo_2d_tfp.ipynb',\n",
       "  '../../notebooks/book2/09/vb_gmm_tfp.ipynb',\n",
       "  '../../notebooks/book2/03/linreg_divorce_ppc_numpyro.ipynb',\n",
       "  '../../notebooks/book2/03/lkj_numpyro.ipynb',\n",
       "  '../../notebooks/book2/03/hbayes_binom_rats_pymc3.ipynb',\n",
       "  '../../notebooks/book2/03/schools8_pymc3.ipynb',\n",
       "  '../../notebooks/book2/04/gibbs_demo_potts_jax.ipynb',\n",
       "  '../../notebooks/book2/16/bnn_hierarchical_blackjax.ipynb',\n",
       "  '../../notebooks/book2/11/funnel_numpyro.ipynb',\n",
       "  '../../notebooks/book2/11/mcmc_traceplots_unigauss_numpyro.ipynb',\n",
       "  '../../notebooks/book2/17/gpc_demo_2d_sklearn.ipynb',\n",
       "  '../../notebooks/book2/15/activation_fun_deriv_jax.ipynb',\n",
       "  '../../notebooks/book2/15/lecun1989_flax.ipynb',\n",
       "  '../../notebooks/book2/14/linreg_hierarchical_non_centered_blackjax.ipynb',\n",
       "  '../../notebooks/book2/14/linreg_height_weight_numpyro.ipynb',\n",
       "  '../../notebooks/book2/14/logreg_iris_bayes_2d_pymc3.ipynb',\n",
       "  '../../notebooks/book2/20/vdvae_flax_demo_cifar.ipynb',\n",
       "  '../../notebooks/book2/28/causal_impact_tfp.ipynb',\n",
       "  '../../notebooks/book2/07/laplace_approx_beta_binom_jax.ipynb',\n",
       "  '../../notebooks/book2/07/hmc_beta_binom_blackjax.ipynb',\n",
       "  '../../notebooks/book2/07/advi_beta_binom_jax.ipynb',\n",
       "  '../../notebooks/book2/22/flow_spline_mnist_jax.ipynb'])"
      ]
     },
     "execution_count": 3,
     "metadata": {},
     "output_type": "execute_result"
    }
   ],
   "source": [
    "suffix = [\"tfp\", \"blackjax\", \"jax\", \"pyro\", \"numpyro\", \"pymc3\", \"pymc\", \"sklearn\", \"flax\"]\n",
    "suffix = [\"_\" + suff for suff in suffix]  # add underscore\n",
    "\n",
    "check_suffix = lambda nb_name: any([suff in nb_name for suff in suffix])\n",
    "nb_suffix = list(filter(lambda x: check_suffix(x), book2))\n",
    "len(nb_suffix), nb_suffix"
   ]
  },
  {
   "cell_type": "code",
   "execution_count": null,
   "id": "bee8c932",
   "metadata": {},
   "outputs": [],
   "source": []
  },
  {
   "cell_type": "code",
   "execution_count": 4,
   "id": "6a46c99d",
   "metadata": {},
   "outputs": [],
   "source": [
    "def replace_to_without_suffix(nb_path, do_replace):\n",
    "    old_path = nb_path\n",
    "    for suff in suffix:\n",
    "        nb_path = nb_path.replace(suff, \"\")\n",
    "\n",
    "    if do_replace:\n",
    "        os.rename(old_path, nb_path)\n",
    "    return (old_path, nb_path)"
   ]
  },
  {
   "cell_type": "code",
   "execution_count": 5,
   "id": "c4f353e7",
   "metadata": {},
   "outputs": [
    {
     "data": {
      "text/plain": [
       "[('../../notebooks/book2/09/linreg_bayes_svi_hmc_pyro.ipynb',\n",
       "  '../../notebooks/book2/09/linreg_bayes_svi_hmc.ipynb'),\n",
       " ('../../notebooks/book2/09/svi_gmm_demo_2d_tfp.ipynb',\n",
       "  '../../notebooks/book2/09/svi_gmm_demo_2d.ipynb'),\n",
       " ('../../notebooks/book2/09/vb_gmm_tfp.ipynb',\n",
       "  '../../notebooks/book2/09/vb_gmm.ipynb'),\n",
       " ('../../notebooks/book2/03/linreg_divorce_ppc_numpyro.ipynb',\n",
       "  '../../notebooks/book2/03/linreg_divorce_ppc.ipynb'),\n",
       " ('../../notebooks/book2/03/lkj_numpyro.ipynb',\n",
       "  '../../notebooks/book2/03/lkj.ipynb'),\n",
       " ('../../notebooks/book2/03/hbayes_binom_rats_pymc3.ipynb',\n",
       "  '../../notebooks/book2/03/hbayes_binom_rats.ipynb'),\n",
       " ('../../notebooks/book2/03/schools8_pymc3.ipynb',\n",
       "  '../../notebooks/book2/03/schools8.ipynb'),\n",
       " ('../../notebooks/book2/04/gibbs_demo_potts_jax.ipynb',\n",
       "  '../../notebooks/book2/04/gibbs_demo_potts.ipynb'),\n",
       " ('../../notebooks/book2/16/bnn_hierarchical_blackjax.ipynb',\n",
       "  '../../notebooks/book2/16/bnn_hierarchical.ipynb')]"
      ]
     },
     "execution_count": 5,
     "metadata": {},
     "output_type": "execute_result"
    }
   ],
   "source": [
    "nb_pairs = list(map(replace_to_without_suffix, nb_suffix, [1] * len(suffix)))\n",
    "nb_pairs"
   ]
  },
  {
   "cell_type": "markdown",
   "id": "d3ab2017",
   "metadata": {},
   "source": [
    "## Update latex source code"
   ]
  },
  {
   "cell_type": "code",
   "execution_count": 6,
   "id": "25b0227e",
   "metadata": {},
   "outputs": [
    {
     "data": {
      "text/plain": [
       "('../../../bookv2/book2/comp/comp-methods.tex', 384)"
      ]
     },
     "execution_count": 6,
     "metadata": {},
     "output_type": "execute_result"
    }
   ],
   "source": [
    "tex_files = glob(\"../../../bookv2/book2/*/*.tex\")\n",
    "tex_files[5], len(tex_files)"
   ]
  },
  {
   "cell_type": "code",
   "execution_count": 7,
   "id": "4e728808",
   "metadata": {},
   "outputs": [],
   "source": [
    "def make_latex_nb(nb_path):\n",
    "    \"\"\"\n",
    "    foo_jax -> foo\\_jax\n",
    "    \"\"\"\n",
    "    nb = nb_path.split(\"/\")[-1]\n",
    "    nb = nb.replace(\"_\", \"\\_\").replace(\".ipynb\", \"\")\n",
    "    return nb\n",
    "\n",
    "\n",
    "def replace_keyword_in_tex(tex_file, old_nb, new_nb):\n",
    "\n",
    "    with open(tex_file, \"r\") as fp:\n",
    "        content = fp.read()\n",
    "\n",
    "    old = make_latex_nb(old_nb)  # foo_jax -> foo\\_jax\n",
    "    new = make_latex_nb(new_nb)\n",
    "\n",
    "    if old in content:\n",
    "        print(f\"In {tex_file} - {old} -> {new}\")\n",
    "    content = content.replace(old, new)\n",
    "\n",
    "    with open(tex_file, \"w\") as fp:\n",
    "        fp.write(content)"
   ]
  },
  {
   "cell_type": "code",
   "execution_count": 73,
   "id": "f75a5c14",
   "metadata": {},
   "outputs": [
    {
     "name": "stdout",
     "output_type": "stream",
     "text": [
      "In ../../../bookv2/book2/comp/comp-methods.tex - advi_beta_binom_jax.ipynb -> advi_beta_binom.ipynb\n"
     ]
    }
   ],
   "source": [
    "replace_keyword_in_tex(tex_files[5], \"advi_beta_binom_jax.ipynb\", \"advi_beta_binom.ipynb\")"
   ]
  },
  {
   "cell_type": "code",
   "execution_count": 10,
   "id": "1624460b",
   "metadata": {},
   "outputs": [],
   "source": [
    "for pair in nb_pairs:\n",
    "    old, new = pair\n",
    "    # print(old, new)\n",
    "    list(map(replace_keyword_in_tex, tex_files, [old] * len(tex_files), [new] * len(tex_files)))"
   ]
  },
  {
   "cell_type": "code",
   "execution_count": null,
   "id": "a5c3e831",
   "metadata": {},
   "outputs": [],
   "source": []
  },
  {
   "cell_type": "markdown",
   "id": "5d407727",
   "metadata": {},
   "source": [
    "## Update in notebooks "
   ]
  },
  {
   "cell_type": "code",
   "execution_count": 11,
   "id": "11678799",
   "metadata": {},
   "outputs": [],
   "source": [
    "def apply_fun_to_notebook(notebook, fun, old_nb_path, new_nb_path):\n",
    "    \"\"\"\n",
    "    fun should take one argument: code\n",
    "    \"\"\"\n",
    "    nb = nbformat.read(notebook, as_version=4)\n",
    "    for cell in nb.cells:\n",
    "        code = cell[\"source\"]\n",
    "        updated_code = fun(code, old_nb_path, new_nb_path)\n",
    "        if updated_code != code:\n",
    "            cell[\"source\"] = updated_code\n",
    "            nbformat.write(nb, notebook)\n",
    "\n",
    "\n",
    "def replace_keyword(code, old_nb_path, new_nb_path):\n",
    "    old_nb = old_nb_path.split(\"/\")[-1]\n",
    "    new_nb = new_nb_path.split(\"/\")[-1]\n",
    "    code = code.replace(old_nb, new_nb)\n",
    "    return code"
   ]
  },
  {
   "cell_type": "code",
   "execution_count": 19,
   "id": "203c478d",
   "metadata": {},
   "outputs": [],
   "source": [
    "book2 = glob(\"../../notebooks/book2/*/*.ipynb\")\n",
    "for pair in nb_pairs:\n",
    "    list(\n",
    "        map(\n",
    "            apply_fun_to_notebook, book2, [replace_keyword] * len(book2), [pair[0]] * len(book2), [pair[1]] * len(book2)\n",
    "        )\n",
    "    )"
   ]
  },
  {
   "cell_type": "code",
   "execution_count": null,
   "id": "95b20a70",
   "metadata": {},
   "outputs": [],
   "source": []
  }
 ],
 "metadata": {
  "kernelspec": {
   "display_name": "Python [conda env:py3713]",
   "language": "python",
   "name": "conda-env-py3713-py"
  },
  "language_info": {
   "codemirror_mode": {
    "name": "ipython",
    "version": 3
   },
   "file_extension": ".py",
   "mimetype": "text/x-python",
   "name": "python",
   "nbconvert_exporter": "python",
   "pygments_lexer": "ipython3",
   "version": "3.7.13"
  }
 },
 "nbformat": 4,
 "nbformat_minor": 5
}
