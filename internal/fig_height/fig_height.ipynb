{
 "cells": [
  {
   "cell_type": "code",
   "execution_count": 40,
   "id": "e404b09a",
   "metadata": {},
   "outputs": [],
   "source": [
    "import jax\n",
    "import requests\n",
    "from typing import Any\n",
    "from TexSoup import TexSoup\n",
    "import regex as re\n",
    "import os\n",
    "import pandas as pd\n",
    "from glob import glob\n",
    "import multiprocessing as mp\n",
    "from probml_utils.url_utils import extract_scripts_name_from_caption\n",
    "from IPython.display import clear_output"
   ]
  },
  {
   "cell_type": "code",
   "execution_count": 11,
   "id": "2baa527c",
   "metadata": {},
   "outputs": [],
   "source": [
    "path1 = \"../bookv2/book1/*/*.tex\"\n",
    "path2 = \"../bookv2/book2/*/*.tex\""
   ]
  },
  {
   "cell_type": "code",
   "execution_count": 12,
   "id": "92f84297",
   "metadata": {},
   "outputs": [
    {
     "data": {
      "text/plain": [
       "607"
      ]
     },
     "execution_count": 12,
     "metadata": {},
     "output_type": "execute_result"
    }
   ],
   "source": [
    "tex_files = glob(path2) + glob(path1)\n",
    "len(tex_files)"
   ]
  },
  {
   "cell_type": "code",
   "execution_count": 13,
   "id": "77ed38a9",
   "metadata": {},
   "outputs": [],
   "source": [
    "def make_soup(tex_file_path):\n",
    "    with open(tex_file_path, \"r\") as fp:\n",
    "        contents = fp.read()\n",
    "    try:\n",
    "        obj = TexSoup(contents)\n",
    "    except:\n",
    "        print(f\"{tex_file_path} failed to read!\")\n",
    "        return tex_file_path"
   ]
  },
  {
   "cell_type": "code",
   "execution_count": 14,
   "id": "74a6a439",
   "metadata": {},
   "outputs": [
    {
     "name": "stdout",
     "output_type": "stream",
     "text": [
      "../bookv2/book2/pf/pf-other.tex failed to read!\n",
      "../bookv2/book2/opt/bayesopt.tex failed to read!\n",
      "../bookv2/book2/shift/adversarial.tex failed to read!\n",
      "../bookv2/book2/lfm/ica.tex failed to read!\n",
      "../bookv2/book2/vi/recursive-vi.tex failed to read!\n",
      "../bookv2/book2/pred/testbed.tex failed to read!\n",
      "../bookv2/book2/mcmc/hmc.tex failed to read!\n",
      "../bookv2/book2/mcmc/sgmcmc.tex failed to read!\n",
      "../bookv2/book2/comp/comp-methods.tex failed to read!\n",
      "../bookv2/book2/ssm/hmm-short.tex failed to read!\n",
      "../bookv2/book2/vi/intro-vi.tex failed to read!\n",
      "../bookv2/book2/pf/proposals.tex failed to read!\n",
      "../bookv2/book2/vi/vb.tex failed to read!\n",
      "../bookv2/book2/mcmc/bigdata.tex failed to read!\n",
      "../bookv2/book2/stats/bayes-solns.tex failed to read!\n",
      "../bookv2/book2/nfm/vae.tex failed to read!\n",
      "../bookv2/book2/pf/old.tex failed to read!\n",
      "../bookv2/book2/prob/expfamLong.tex failed to read!\n",
      "../bookv2/book2/flows/flows.tex failed to read!\n",
      "../bookv2/book2/stats/josh.tex failed to read!\n",
      "../bookv2/book2/lfm/topic-inf.tex failed to read!\n",
      "../bookv2/book2/info/kl.tex failed to read!\n",
      "../bookv2/book2/stats/noninf.tex failed to read!\n",
      "../bookv2/book2/mcmc/convergence.tex failed to read!\n",
      "../bookv2/book2/diffusion/old2.tex failed to read!\n",
      "../bookv2/book2/vi/lower-bounds.tex failed to read!\n",
      "../bookv2/book2/npbayes/point_proc.tex failed to read!\n",
      "../bookv2/book2/bp/jinfer.tex failed to read!\n",
      "../bookv2/book2/gp/gp-classification.tex failed to read!\n",
      "../bookv2/book2/rl/policy-rl.tex failed to read!\n",
      "../bookv2/book2/rl/offpolicy-rl.tex failed to read!\n",
      "../bookv2/book2/glm/glm-supp.tex failed to read!\n",
      "../bookv2/book2/gp/kernels.tex failed to read!\n",
      "../bookv2/book1/Kernels1/svmStruct1.tex failed to read!\n",
      "../bookv2/book1/Lda1/gda1.tex failed to read!\n",
      "../bookv2/book2/gan/algorithms_theory.tex failed to read!\n",
      "../bookv2/book1/Fewer1/active1.tex failed to read!\n",
      "../bookv2/book2/genmo/evaluation.tex failed to read!\n",
      "../bookv2/book1/Dimred1/cca2.tex failed to read!\n",
      "../bookv2/book1/Glm1/glm1.tex failed to read!\n",
      "../bookv2/book1/Dtheory1/hyptest-freq.tex failed to read!\n",
      "../bookv2/book1/Linalg1/junk.tex failed to read!\n",
      "../bookv2/book1/Fewer1/ssl1.tex failed to read!\n",
      "../bookv2/book1/Glm1/expfamLong.tex failed to read!\n",
      "../bookv2/book1/Trees1/boosting.tex failed to read!\n",
      "../bookv2/book1/Trees1/rf.tex failed to read!\n",
      "../bookv2/book1/Linreg1/sparse1.tex failed to read!\n",
      "../bookv2/book1/Fewer1/transfer1.tex failed to read!\n"
     ]
    }
   ],
   "source": [
    "pool = mp.Pool(mp.cpu_count() - 2)\n",
    "soups_list = pool.map(make_soup, tex_files)"
   ]
  },
  {
   "cell_type": "code",
   "execution_count": 55,
   "id": "f5a774f5",
   "metadata": {},
   "outputs": [],
   "source": [
    "# save to csv\n",
    "defective_tex = []\n",
    "with open(\"tex_defective.txt\", \"w\") as fp:\n",
    "    for each in soups_list:\n",
    "        if each != None:\n",
    "            defective_tex.append(each)\n",
    "            print(each, file=fp)"
   ]
  },
  {
   "cell_type": "code",
   "execution_count": 41,
   "id": "35e152c0",
   "metadata": {},
   "outputs": [
    {
     "data": {
      "text/plain": [
       "(607, 48)"
      ]
     },
     "execution_count": 41,
     "metadata": {},
     "output_type": "execute_result"
    }
   ],
   "source": [
    "len(tex_files), len(defective_tex)"
   ]
  },
  {
   "cell_type": "code",
   "execution_count": 30,
   "id": "9b34d73f",
   "metadata": {},
   "outputs": [
    {
     "name": "stdout",
     "output_type": "stream",
     "text": [
      "606\n"
     ]
    }
   ],
   "source": [
    "soups = {}\n",
    "for i, file in enumerate(tex_files):\n",
    "    clear_output(wait=True)\n",
    "    print(i)\n",
    "    if file not in defective_tex:\n",
    "        with open(file, \"r\") as fp:\n",
    "            soups[file] = TexSoup(fp.read())"
   ]
  },
  {
   "cell_type": "code",
   "execution_count": 42,
   "id": "1e32ea5b",
   "metadata": {},
   "outputs": [
    {
     "name": "stdout",
     "output_type": "stream",
     "text": [
      "No height: \\includegraphics[height = 0.6\\linewidth, width=0.9\\linewidth]{\\figdir/model_view.png}\n"
     ]
    },
    {
     "data": {
      "text/plain": [
       "35"
      ]
     },
     "execution_count": 42,
     "metadata": {},
     "output_type": "execute_result"
    }
   ],
   "source": [
    "fig_name_to_height_book1 = {}\n",
    "fig_name_to_height_book2 = {}\n",
    "repeated_figures = []\n",
    "c = 0\n",
    "for tex_file in soups:\n",
    "    soup = soups[tex_file]\n",
    "    for fig in soup.find_all(\"figure\"):\n",
    "        incl_graphs = fig.find_all(\"includegraphics\")\n",
    "\n",
    "        for line in incl_graphs:\n",
    "            line = (\n",
    "                str(line)\n",
    "                .replace(\"\\\\twofigheight\", \"1.85in\")\n",
    "                .replace(\"\\\\textwidth\", \"*6in\")\n",
    "                .replace(\"\\\\dldir\", \"\\\\figdir\")\n",
    "            )\n",
    "            # print(f\"******* {line} ******\")\n",
    "            try:\n",
    "                fig_height = re.findall(r\"height=(.+?in)\", str(line))[0]\n",
    "            except IndexError:\n",
    "                if \"height\" in line:\n",
    "                    print(f\"No height: {line}\")\n",
    "                # print(f\"->>>>>>>>>> fig_height is missing!! <<<<<<<<<<<\")\n",
    "                continue\n",
    "\n",
    "            try:\n",
    "                fig_name = re.findall(r\"figdir/(.+)?}\", str(line))[0]\n",
    "            except IndexError:\n",
    "                print(f\"No fig_name: {line}\")\n",
    "                continue\n",
    "\n",
    "            if fig_name in fig_name_to_height and fig_name_to_height[fig_name] != fig_height:\n",
    "                repeated_figures.append([fig_name, fig_height])\n",
    "                c += 1\n",
    "                # print(f\"{fig_name} exists already\")\n",
    "                pass\n",
    "            if \"book1\" in tex_file:\n",
    "                fig_name_to_height_book1[fig_name] = fig_height\n",
    "            else:\n",
    "                fig_name_to_height_book2[fig_name] = fig_height"
   ]
  },
  {
   "cell_type": "code",
   "execution_count": 56,
   "id": "66249378",
   "metadata": {},
   "outputs": [
    {
     "data": {
      "text/plain": [
       "630"
      ]
     },
     "execution_count": 56,
     "metadata": {},
     "output_type": "execute_result"
    }
   ],
   "source": [
    "len(fig_name_to_height_book1)"
   ]
  },
  {
   "cell_type": "code",
   "execution_count": 57,
   "id": "0a338dcc",
   "metadata": {},
   "outputs": [
    {
     "data": {
      "text/plain": [
       "839"
      ]
     },
     "execution_count": 57,
     "metadata": {},
     "output_type": "execute_result"
    }
   ],
   "source": [
    "len(fig_name_to_height_book2)"
   ]
  },
  {
   "cell_type": "code",
   "execution_count": 52,
   "id": "7a694577",
   "metadata": {},
   "outputs": [
    {
     "data": {
      "text/html": [
       "<div>\n",
       "<style scoped>\n",
       "    .dataframe tbody tr th:only-of-type {\n",
       "        vertical-align: middle;\n",
       "    }\n",
       "\n",
       "    .dataframe tbody tr th {\n",
       "        vertical-align: top;\n",
       "    }\n",
       "\n",
       "    .dataframe thead th {\n",
       "        text-align: right;\n",
       "    }\n",
       "</style>\n",
       "<table border=\"1\" class=\"dataframe\">\n",
       "  <thead>\n",
       "    <tr style=\"text-align: right;\">\n",
       "      <th></th>\n",
       "      <th>fig_name</th>\n",
       "      <th>fig_height</th>\n",
       "    </tr>\n",
       "  </thead>\n",
       "  <tbody>\n",
       "    <tr>\n",
       "      <th>419</th>\n",
       "      <td>AAAquad</td>\n",
       "      <td>1.7in</td>\n",
       "    </tr>\n",
       "    <tr>\n",
       "      <th>415</th>\n",
       "      <td>AAAsolnExists</td>\n",
       "      <td>2in</td>\n",
       "    </tr>\n",
       "    <tr>\n",
       "      <th>394</th>\n",
       "      <td>AAAvectorNorms</td>\n",
       "      <td>1.5in</td>\n",
       "    </tr>\n",
       "    <tr>\n",
       "      <th>593</th>\n",
       "      <td>BERT-fig</td>\n",
       "      <td>1.5in</td>\n",
       "    </tr>\n",
       "    <tr>\n",
       "      <th>416</th>\n",
       "      <td>ConvexSetsHalfplanes</td>\n",
       "      <td>1.5in</td>\n",
       "    </tr>\n",
       "    <tr>\n",
       "      <th>...</th>\n",
       "      <td>...</td>\n",
       "      <td>...</td>\n",
       "    </tr>\n",
       "    <tr>\n",
       "      <th>528</th>\n",
       "      <td>xor-heaviside.pdf</td>\n",
       "      <td>1.5in</td>\n",
       "    </tr>\n",
       "    <tr>\n",
       "      <th>544</th>\n",
       "      <td>xorTable</td>\n",
       "      <td>1.5in</td>\n",
       "    </tr>\n",
       "    <tr>\n",
       "      <th>23</th>\n",
       "      <td>yeastHeatMap</td>\n",
       "      <td>2in</td>\n",
       "    </tr>\n",
       "    <tr>\n",
       "      <th>27</th>\n",
       "      <td>yeastKmeans16</td>\n",
       "      <td>2in</td>\n",
       "    </tr>\n",
       "    <tr>\n",
       "      <th>24</th>\n",
       "      <td>yeastTimeSeries</td>\n",
       "      <td>2in</td>\n",
       "    </tr>\n",
       "  </tbody>\n",
       "</table>\n",
       "<p>630 rows × 2 columns</p>\n",
       "</div>"
      ],
      "text/plain": [
       "                 fig_name fig_height\n",
       "419               AAAquad      1.7in\n",
       "415         AAAsolnExists        2in\n",
       "394        AAAvectorNorms      1.5in\n",
       "593              BERT-fig      1.5in\n",
       "416  ConvexSetsHalfplanes      1.5in\n",
       "..                    ...        ...\n",
       "528     xor-heaviside.pdf      1.5in\n",
       "544              xorTable      1.5in\n",
       "23           yeastHeatMap        2in\n",
       "27          yeastKmeans16        2in\n",
       "24        yeastTimeSeries        2in\n",
       "\n",
       "[630 rows x 2 columns]"
      ]
     },
     "execution_count": 52,
     "metadata": {},
     "output_type": "execute_result"
    }
   ],
   "source": [
    "df1 = pd.DataFrame(\n",
    "    zip(fig_name_to_height_book1.keys(), fig_name_to_height_book1.values()), columns=[\"fig_name\", \"fig_height\"]\n",
    ")\n",
    "df1.sort_values(by=\"fig_name\", inplace=True)\n",
    "df1"
   ]
  },
  {
   "cell_type": "code",
   "execution_count": 53,
   "id": "6cee5f36",
   "metadata": {},
   "outputs": [
    {
     "data": {
      "text/html": [
       "<div>\n",
       "<style scoped>\n",
       "    .dataframe tbody tr th:only-of-type {\n",
       "        vertical-align: middle;\n",
       "    }\n",
       "\n",
       "    .dataframe tbody tr th {\n",
       "        vertical-align: top;\n",
       "    }\n",
       "\n",
       "    .dataframe thead th {\n",
       "        text-align: right;\n",
       "    }\n",
       "</style>\n",
       "<table border=\"1\" class=\"dataframe\">\n",
       "  <thead>\n",
       "    <tr style=\"text-align: right;\">\n",
       "      <th></th>\n",
       "      <th>fig_name</th>\n",
       "      <th>fig_height</th>\n",
       "    </tr>\n",
       "  </thead>\n",
       "  <tbody>\n",
       "    <tr>\n",
       "      <th>714</th>\n",
       "      <td>ADF2</td>\n",
       "      <td>2in</td>\n",
       "    </tr>\n",
       "    <tr>\n",
       "      <th>110</th>\n",
       "      <td>AIR-gen</td>\n",
       "      <td>2.5in</td>\n",
       "    </tr>\n",
       "    <tr>\n",
       "      <th>111</th>\n",
       "      <td>AIR-inf</td>\n",
       "      <td>2.5in</td>\n",
       "    </tr>\n",
       "    <tr>\n",
       "      <th>548</th>\n",
       "      <td>Agg_example1</td>\n",
       "      <td>1.5in</td>\n",
       "    </tr>\n",
       "    <tr>\n",
       "      <th>549</th>\n",
       "      <td>Agg_example2</td>\n",
       "      <td>1.5in</td>\n",
       "    </tr>\n",
       "    <tr>\n",
       "      <th>...</th>\n",
       "      <td>...</td>\n",
       "      <td>...</td>\n",
       "    </tr>\n",
       "    <tr>\n",
       "      <th>559</th>\n",
       "      <td>world-model-overview</td>\n",
       "      <td>1.5in</td>\n",
       "    </tr>\n",
       "    <tr>\n",
       "      <th>727</th>\n",
       "      <td>yaroslav-chain</td>\n",
       "      <td>0.6in</td>\n",
       "    </tr>\n",
       "    <tr>\n",
       "      <th>728</th>\n",
       "      <td>yaroslav-resnet</td>\n",
       "      <td>1in</td>\n",
       "    </tr>\n",
       "    <tr>\n",
       "      <th>729</th>\n",
       "      <td>yaroslav-skip</td>\n",
       "      <td>1in</td>\n",
       "    </tr>\n",
       "    <tr>\n",
       "      <th>730</th>\n",
       "      <td>yaroslav-towers</td>\n",
       "      <td>1in</td>\n",
       "    </tr>\n",
       "  </tbody>\n",
       "</table>\n",
       "<p>839 rows × 2 columns</p>\n",
       "</div>"
      ],
      "text/plain": [
       "                 fig_name fig_height\n",
       "714                  ADF2        2in\n",
       "110               AIR-gen      2.5in\n",
       "111               AIR-inf      2.5in\n",
       "548          Agg_example1      1.5in\n",
       "549          Agg_example2      1.5in\n",
       "..                    ...        ...\n",
       "559  world-model-overview      1.5in\n",
       "727        yaroslav-chain      0.6in\n",
       "728       yaroslav-resnet        1in\n",
       "729         yaroslav-skip        1in\n",
       "730       yaroslav-towers        1in\n",
       "\n",
       "[839 rows x 2 columns]"
      ]
     },
     "execution_count": 53,
     "metadata": {},
     "output_type": "execute_result"
    }
   ],
   "source": [
    "df2 = pd.DataFrame(\n",
    "    zip(fig_name_to_height_book2.keys(), fig_name_to_height_book2.values()), columns=[\"fig_name\", \"fig_height\"]\n",
    ")\n",
    "df2.sort_values(by=\"fig_name\", inplace=True)\n",
    "df2"
   ]
  },
  {
   "cell_type": "code",
   "execution_count": 54,
   "id": "38d09f32",
   "metadata": {},
   "outputs": [
    {
     "data": {
      "text/plain": [
       "array(['2in', '2.5in', '1.5in', '1in', '4.5in', '0.75in', '3in', '0.6in',\n",
       "       '4in', '1.1in', '1.75in', '1.2in', '1.85in', '1.8in', '1.25in',\n",
       "       '1.65in', '0.2in', '0.8in', '2.7in', '0.5in', '1.525in', '2.25in',\n",
       "       '1.3in', '0.23*6in', '3.5in', '.5in', '0.195*6in', '.8in', '2.0in',\n",
       "       '1.4in', '1.6in', '1.57in', '0.181*6in', '0.6*6in', '2.75in',\n",
       "       '2.2in'], dtype=object)"
      ]
     },
     "execution_count": 54,
     "metadata": {},
     "output_type": "execute_result"
    }
   ],
   "source": [
    "df2[\"fig_height\"].unique()"
   ]
  },
  {
   "cell_type": "code",
   "execution_count": 60,
   "id": "0ab88c7a",
   "metadata": {},
   "outputs": [],
   "source": [
    "root_path = \"../pyprobml/\""
   ]
  },
  {
   "cell_type": "code",
   "execution_count": 61,
   "id": "496ee442",
   "metadata": {},
   "outputs": [],
   "source": [
    "md = \"# Book1 figures to height mapping\\n\"\n",
    "md += df1.to_markdown(index=False)\n",
    "with open(os.path.join(root_path, \"internal/fig_height/fig_height_book1.md\"), \"w\") as fp:\n",
    "    fp.write(md)"
   ]
  },
  {
   "cell_type": "code",
   "execution_count": 62,
   "id": "b86e214f",
   "metadata": {},
   "outputs": [],
   "source": [
    "md = \"# Book2 figures to height mapping\\n\"\n",
    "md += df2.to_markdown(index=False)\n",
    "with open(os.path.join(root_path, \"internal/fig_height/fig_height_book2.md\"), \"w\") as fp:\n",
    "    fp.write(md)"
   ]
  },
  {
   "cell_type": "code",
   "execution_count": null,
   "id": "7a7f37a5",
   "metadata": {},
   "outputs": [],
   "source": []
  }
 ],
 "metadata": {
  "kernelspec": {
   "display_name": "Python [conda env:py3713_2]",
   "language": "python",
   "name": "conda-env-py3713_2-py"
  },
  "language_info": {
   "codemirror_mode": {
    "name": "ipython",
    "version": 3
   },
   "file_extension": ".py",
   "mimetype": "text/x-python",
   "name": "python",
   "nbconvert_exporter": "python",
   "pygments_lexer": "ipython3",
   "version": "3.7.13"
  },
  "varInspector": {
   "cols": {
    "lenName": 16,
    "lenType": 16,
    "lenVar": 40
   },
   "kernels_config": {
    "python": {
     "delete_cmd_postfix": "",
     "delete_cmd_prefix": "del ",
     "library": "var_list.py",
     "varRefreshCmd": "print(var_dic_list())"
    },
    "r": {
     "delete_cmd_postfix": ") ",
     "delete_cmd_prefix": "rm(",
     "library": "var_list.r",
     "varRefreshCmd": "cat(var_dic_list()) "
    }
   },
   "types_to_exclude": [
    "module",
    "function",
    "builtin_function_or_method",
    "instance",
    "_Feature"
   ],
   "window_display": false
  }
 },
 "nbformat": 4,
 "nbformat_minor": 5
}
