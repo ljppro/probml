{
 "cells": [
  {
   "cell_type": "code",
   "execution_count": 31,
   "id": "254ab61d",
   "metadata": {},
   "outputs": [],
   "source": [
    "import os"
   ]
  },
  {
   "cell_type": "code",
   "execution_count": 32,
   "id": "00df2802",
   "metadata": {},
   "outputs": [
    {
     "data": {
      "text/plain": [
       "{'naive_bayes_mnist': '09',\n",
       " 'image_augmentation': '19',\n",
       " 'finetune_cnn': '19',\n",
       " 'skipgram': '20',\n",
       " 'nmt_attention': '15',\n",
       " 'resnet': '14',\n",
       " 'lenet': '14',\n",
       " 'batchnorm': '14',\n",
       " 'nmt': '15',\n",
       " 'multi_head_attention': '15',\n",
       " 'gru': '15',\n",
       " 'cnn1d_sentiment': '15',\n",
       " 'entailment_attention_mlp': '15',\n",
       " 'conv2d': '14',\n",
       " 'attention': '15',\n",
       " 'rnn': '15',\n",
       " 'densenet': '14',\n",
       " 'positional_encoding': '15',\n",
       " 'transformers': '15',\n",
       " 'bert': '15',\n",
       " 'rnn_sentiment': '15',\n",
       " 'word_analogies': '20',\n",
       " 'multi_gpu_training': '13',\n",
       " 'lstm': '15'}"
      ]
     },
     "execution_count": 32,
     "metadata": {},
     "output_type": "execute_result"
    }
   ],
   "source": [
    "with open(\"d2l_notebooks_mapping.txt\") as fp:\n",
    "    mapping = eval(fp.read())\n",
    "mapping"
   ]
  },
  {
   "cell_type": "code",
   "execution_count": 33,
   "id": "b3cf0996",
   "metadata": {},
   "outputs": [],
   "source": [
    "source_path = \"../../probml-notebooks/notebooks-d2l\"\n",
    "dest_path = \"../notebooks/book1/\""
   ]
  },
  {
   "cell_type": "code",
   "execution_count": 34,
   "id": "97ee7eb3",
   "metadata": {},
   "outputs": [
    {
     "name": "stderr",
     "output_type": "stream",
     "text": [
      "cp: cannot stat '../../probml-notebooks/notebooks-d2l/naive_bayes_mnist_torch.ipynb': No such file or directory\n",
      "cp: cannot stat '../../probml-notebooks/notebooks-d2l/multi_head_attention_torch.ipynb': No such file or directory\n",
      "cp: cannot stat '../../probml-notebooks/notebooks-d2l/positional_encoding_torch.ipynb': No such file or directory\n"
     ]
    },
    {
     "data": {
      "text/plain": [
       "[['../../probml-notebooks/notebooks-d2l/naive_bayes_mnist_torch.ipynb',\n",
       "  '../notebooks/book1/09/naive_bayes_mnist_torch.ipynb'],\n",
       " ['../../probml-notebooks/notebooks-d2l/multi_head_attention_torch.ipynb',\n",
       "  '../notebooks/book1/15/multi_head_attention_torch.ipynb'],\n",
       " ['../../probml-notebooks/notebooks-d2l/positional_encoding_torch.ipynb',\n",
       "  '../notebooks/book1/15/positional_encoding_torch.ipynb']]"
      ]
     },
     "execution_count": 34,
     "metadata": {},
     "output_type": "execute_result"
    }
   ],
   "source": [
    "failed = []\n",
    "for notebook in mapping:\n",
    "    source_notebook_path = os.path.join(source_path, notebook + \"_torch.ipynb\")\n",
    "    dest_notebook_path = os.path.join(dest_path, mapping[notebook], notebook + \"_torch.ipynb\")\n",
    "    if os.system(f\"cp {source_notebook_path} {dest_notebook_path}\") != 0:\n",
    "        failed.append([source_notebook_path, dest_notebook_path])\n",
    "failed"
   ]
  },
  {
   "cell_type": "code",
   "execution_count": 35,
   "id": "0b6bf9db",
   "metadata": {},
   "outputs": [],
   "source": [
    "for each in failed:\n",
    "    source = each[0].replace(\"_torch\", \"\")\n",
    "    dest = each[1]\n",
    "    os.system(f\"cp {source} {dest}\")"
   ]
  }
 ],
 "metadata": {
  "kernelspec": {
   "display_name": "Python [conda env:probml_py3713]",
   "language": "python",
   "name": "conda-env-probml_py3713-py"
  },
  "language_info": {
   "codemirror_mode": {
    "name": "ipython",
    "version": 3
   },
   "file_extension": ".py",
   "mimetype": "text/x-python",
   "name": "python",
   "nbconvert_exporter": "python",
   "pygments_lexer": "ipython3",
   "version": "3.7.13"
  }
 },
 "nbformat": 4,
 "nbformat_minor": 5
}
