{
  "nbformat": 4,
  "nbformat_minor": 0,
  "metadata": {
    "colab": {
      "name": "hmm_bach_chorales.ipynb",
      "provenance": [],
      "authorship_tag": "ABX9TyPvWC09W5n6ny6Lc58br/yx"
    },
    "kernelspec": {
      "name": "python3",
      "display_name": "Python 3"
    },
    "language_info": {
      "name": "python"
    }
  },
  "cells": [
    {
      "cell_type": "markdown",
      "source": [
        "# HMM Bach Chorales\n",
        "\n",
        "Seee\n",
        "\n",
        "https://colab.research.google.com/github/probml/ssm-jax/blob/main/ssm_jax/hmm/demos/hmm_bach_chorales.ipynb\n"
      ],
      "metadata": {
        "id": "d0Bo_V2RRvbv"
      }
    }
  ]
}