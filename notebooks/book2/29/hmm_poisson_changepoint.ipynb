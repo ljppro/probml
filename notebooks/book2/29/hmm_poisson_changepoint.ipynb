{
  "nbformat": 4,
  "nbformat_minor": 0,
  "metadata": {
    "colab": {
      "name": "hmm_poisson_changepoint.ipynb",
      "provenance": [],
      "authorship_tag": "ABX9TyN4o5ZCewNEKJemuaSVqSdS"
    },
    "kernelspec": {
      "name": "python3",
      "display_name": "Python 3"
    },
    "language_info": {
      "name": "python"
    }
  },
  "cells": [
    {
      "cell_type": "code",
      "execution_count": null,
      "metadata": {
        "id": "iqzRhuwLSrDL"
      },
      "outputs": [],
      "source": [
        ""
      ]
    },
    {
      "cell_type": "markdown",
      "source": [
        "# HMM Poisson Changepoint demo\n",
        "\n",
        "See \n",
        "https://colab.research.google.com/github/probml/ssm-jax/blob/main/ssm_jax/hmm/demos/poisson_hmm_changepoint.ipynb\n"
      ],
      "metadata": {
        "id": "34h7tUx2Suv7"
      }
    },
    {
      "cell_type": "code",
      "source": [
        ""
      ],
      "metadata": {
        "id": "sYWz_DbBSxSy"
      },
      "execution_count": null,
      "outputs": []
    }
  ]
}