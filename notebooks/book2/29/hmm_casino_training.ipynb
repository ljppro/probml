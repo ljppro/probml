{
  "cells": [
    {
      "cell_type": "markdown",
      "source": [
        "# HMM Casino training demo\n",
        "\n",
        "See\n",
        "\n",
        "https://colab.research.google.com/github/probml/ssm-jax/blob/main/ssm_jax/hmm/demos/casino_training.ipynb\n",
        "\n"
      ],
      "metadata": {
        "id": "rjFCnNdaNBC_"
      }
    }
  ],
  "metadata": {
    "colab": {
      "name": "hmm_casino_training",
      "provenance": []
    },
    "kernelspec": {
      "display_name": "Python 3",
      "name": "python3"
    }
  },
  "nbformat": 4,
  "nbformat_minor": 0
}