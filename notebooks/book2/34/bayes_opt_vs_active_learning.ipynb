{
 "cells": [
  {
   "cell_type": "code",
   "execution_count": 1,
   "id": "c201ed65",
   "metadata": {},
   "outputs": [],
   "source": [
    "%%capture\n",
    "try:\n",
    "    from tinygp import kernels, GaussianProcess\n",
    "except ModuleNotFoundError:\n",
    "    %pip install -qq tinygp\n",
    "    from tinygp import kernels, GaussianProcess\n",
    "\n",
    "try:\n",
    "    import probml_utils as pml\n",
    "except ModuleNotFoundError:\n",
    "    %pip install git+https://github.com/probml/probml-utils.git\n",
    "    import probml_utils as pml\n",
    "\n",
    "try:\n",
    "    import tensorflow_probability.substrates.jax as tfp\n",
    "except ModuleNotFoundError:\n",
    "    %pip install tensorflow-probability\n",
    "    import tensorflow_probability.substrates.jax as tfp\n",
    "\n",
    "try:\n",
    "    import jaxopt\n",
    "except ModuleNotFoundError:\n",
    "    %pip install jaxopt\n",
    "    import jaxopt\n",
    "\n",
    "tfd = tfp.distributions\n",
    "\n",
    "from sklearn.model_selection import train_test_split\n",
    "import seaborn as sns\n",
    "import numpy as np\n",
    "import matplotlib.pyplot as plt\n",
    "\n",
    "import jax\n",
    "import jax.numpy as jnp"
   ]
  },
  {
   "cell_type": "code",
   "execution_count": 2,
   "id": "117802a5",
   "metadata": {},
   "outputs": [],
   "source": [
    "import os\n",
    "\n",
    "os.environ[\"LATEXIFY\"] = \"\"\n",
    "os.environ[\"FIG_DIR\"] = \"figures\""
   ]
  },
  {
   "cell_type": "code",
   "execution_count": 3,
   "id": "bad0ed52",
   "metadata": {},
   "outputs": [],
   "source": [
    "pml.latexify(width_scale_factor=2, fig_height=1.7)\n",
    "plt.rcParams[\"lines.markersize\"] = 3 if pml.is_latexify_enabled() else 6"
   ]
  },
  {
   "cell_type": "markdown",
   "id": "0f73cd8f",
   "metadata": {},
   "source": [
    "## Data"
   ]
  },
  {
   "cell_type": "code",
   "execution_count": 4,
   "id": "a2188e8d",
   "metadata": {
    "scrolled": true
   },
   "outputs": [
    {
     "name": "stderr",
     "output_type": "stream",
     "text": [
      "WARNING:absl:No GPU/TPU found, falling back to CPU. (Set TF_CPP_MIN_LOG_LEVEL=0 and rerun for more info.)\n"
     ]
    },
    {
     "data": {
      "image/png": "[encoded data removed]",
      "text/plain": [
       "<Figure size 216x122.4 with 1 Axes>"
      ]
     },
     "metadata": {
      "needs_background": "light"
     },
     "output_type": "display_data"
    }
   ],
   "source": [
    "seed = jax.random.PRNGKey(2)\n",
    "true_f = lambda x: jnp.sin(10 * x) * x\n",
    "x = jnp.linspace(0, 1, 100)\n",
    "noise_std = 0.05\n",
    "y = true_f(x) + jax.random.normal(seed, shape=x.shape) * noise_std\n",
    "\n",
    "x_train, x_pool, y_train, y_pool = train_test_split(x, y, train_size=2, random_state=7)\n",
    "\n",
    "plt.plot(x, true_f(x), label=\"True function\")\n",
    "plt.scatter(x_train, y_train, color=\"k\", label=\"Train data\")\n",
    "plt.legend();"
   ]
  },
  {
   "cell_type": "markdown",
   "id": "183eb951",
   "metadata": {},
   "source": [
    "## Common functions"
   ]
  },
  {
   "cell_type": "code",
   "execution_count": 5,
   "id": "953c7242",
   "metadata": {},
   "outputs": [],
   "source": [
    "def build_model(params, x):\n",
    "    log_variance, log_scale = params\n",
    "    variance, scale = jnp.exp(log_variance), jnp.exp(log_scale)\n",
    "    return GaussianProcess(variance * kernels.ExpSquared(scale=scale), x)\n",
    "\n",
    "\n",
    "def loss_fn(params, x, y):\n",
    "    model = build_model(params, x)\n",
    "    return -model.log_probability(y)\n",
    "\n",
    "\n",
    "def fit(params, x, y):\n",
    "    solution = solver.run(params, x=x, y=y)\n",
    "    return solution.params\n",
    "\n",
    "\n",
    "def predict(params, x, y, x_pool):\n",
    "    model = build_model(params, x)\n",
    "    pred_model = model.condition(y, x_pool, diag=noise_std**2).gp\n",
    "    return pred_model.loc, pred_model.variance\n",
    "\n",
    "\n",
    "def variance_fn(params, x_train, y_train, x_pool):\n",
    "    _, variance = predict(params, x_train, y_train, x_pool)\n",
    "    return variance\n",
    "\n",
    "\n",
    "def prob_of_improvement_fn(params, x_train, y_train, x_pool):\n",
    "    loc, _ = predict(params, x_train, y_train, x_train)\n",
    "    best_loc = jnp.max(loc)\n",
    "\n",
    "    loc, variance = predict(params, x_train, y_train, x_pool)\n",
    "    prob_of_improvement = jax.scipy.stats.norm.cdf((loc - best_loc) / (variance**0.5))\n",
    "    return prob_of_improvement"
   ]
  },
  {
   "cell_type": "code",
   "execution_count": 6,
   "id": "e434d9a0",
   "metadata": {},
   "outputs": [],
   "source": [
    "solver = jaxopt.ScipyMinimize(fun=loss_fn)\n",
    "log_scale = jnp.log(1.0)\n",
    "log_variance = jnp.log(1.0)\n",
    "initial_params = (log_variance, log_scale)\n",
    "n_iterations = 9"
   ]
  },
  {
   "cell_type": "code",
   "execution_count": 10,
   "id": "fc19506b",
   "metadata": {},
   "outputs": [],
   "source": [
    "def plot_function(\n",
    "    initial_x_train,\n",
    "    initial_y_train,\n",
    "    x_train,\n",
    "    y_train,\n",
    "    x_test,\n",
    "    y_pred,\n",
    "    y_var,\n",
    "    acquisition_fn_values,\n",
    "    acquisition_fn_name,\n",
    "    legend,\n",
    "):\n",
    "    fig, ax = plt.subplots(2, 1, gridspec_kw=dict(height_ratios=[2, 1]))\n",
    "\n",
    "    lower, upper = y_pred - 2 * (y_var**0.5), y_pred + 2 * (y_var**0.5)\n",
    "    ax[0].fill_between(x_test, lower, upper, alpha=0.4)\n",
    "    ax[0].scatter(initial_x_train, initial_y_train, color=\"k\", zorder=10)\n",
    "    ax[0].scatter(x_train, y_train, color=\"r\", zorder=5)\n",
    "    ax[0].plot(x, true_f(x), label=\"True function\")\n",
    "    ax[0].plot(x_test, y_pred, color=\"g\", linestyle=\"--\", label=\"Predictive mean\")\n",
    "    if legend:\n",
    "        ax[0].legend(frameon=False, loc=\"lower left\", fontsize=8)\n",
    "    else:\n",
    "        ax[0].legend([r\"95\\% confidence\"], loc=\"lower right\")\n",
    "\n",
    "    ax[0].set_ylim(-1.5, 1.1)\n",
    "\n",
    "    ax[1].plot(x, acquisition_fn_values, label=acquisition_fn_name)\n",
    "    ax[1].legend(frameon=False)\n",
    "    name = \"_\".join(acquisition_fn_name.lower().split())\n",
    "    pml.savefig(f\"active_learning_vs_bo_{name}\")\n",
    "\n",
    "\n",
    "def run_optimization_and_plot(\n",
    "    acquisition_fn, acquisition_fn_name, x_train, y_train, x_pool, y_pool, n_iterations, legend=True\n",
    "):\n",
    "    initial_x_train, initial_y_train = x_train, y_train\n",
    "    for _ in range(n_iterations):\n",
    "        best_params = fit(initial_params, x_train, y_train)\n",
    "        acquisition = acquisition_fn(best_params, x_train, y_train, x_pool)\n",
    "        best_idx = jnp.argmax(acquisition)\n",
    "        x_train = jnp.append(x_train, x_pool[best_idx])\n",
    "        y_train = jnp.append(y_train, y_pool[best_idx])\n",
    "        x_pool, y_pool = jax.tree_map(lambda x: jnp.delete(x, best_idx), (x_pool, y_pool))\n",
    "        print(\"Number of train points\", len(x_train))\n",
    "\n",
    "    y_pred, y_var = predict(best_params, x_train, y_train, x)\n",
    "    acquisition = acquisition_fn(best_params, x_train, y_train, x)\n",
    "    plot_function(\n",
    "        initial_x_train, initial_y_train, x_train, y_train, x, y_pred, y_var, acquisition, acquisition_fn_name, legend\n",
    "    );"
   ]
  },
  {
   "cell_type": "markdown",
   "id": "f520d830",
   "metadata": {},
   "source": [
    "## Active learning"
   ]
  },
  {
   "cell_type": "code",
   "execution_count": 11,
   "id": "208d31b7",
   "metadata": {},
   "outputs": [
    {
     "name": "stdout",
     "output_type": "stream",
     "text": [
      "Number of train points 3\n",
      "Number of train points 4\n",
      "Number of train points 5\n",
      "Number of train points 6\n",
      "Number of train points 7\n",
      "Number of train points 8\n",
      "Number of train points 9\n",
      "Number of train points 10\n",
      "Number of train points 11\n",
      "saving image to figures/active_learning_vs_bo_variance_latexified.pdf\n",
      "Figure size: [3.  1.7]\n"
     ]
    },
    {
     "data": {
      "image/png": "[encoded data removed]",
      "text/plain": [
       "<Figure size 216x122.4 with 2 Axes>"
      ]
     },
     "metadata": {
      "needs_background": "light"
     },
     "output_type": "display_data"
    }
   ],
   "source": [
    "run_optimization_and_plot(variance_fn, \"Variance\", x_train, y_train, x_pool, y_pool, n_iterations=9)"
   ]
  },
  {
   "cell_type": "markdown",
   "id": "659ae9ef",
   "metadata": {},
   "source": [
    "## Bayesian Optimization"
   ]
  },
  {
   "cell_type": "code",
   "execution_count": 12,
   "id": "ad0afcbe",
   "metadata": {},
   "outputs": [
    {
     "name": "stdout",
     "output_type": "stream",
     "text": [
      "Number of train points 3\n",
      "Number of train points 4\n",
      "Number of train points 5\n",
      "Number of train points 6\n",
      "Number of train points 7\n",
      "Number of train points 8\n",
      "Number of train points 9\n",
      "Number of train points 10\n",
      "Number of train points 11\n",
      "saving image to figures/active_learning_vs_bo_probability_of_improvement_latexified.pdf\n",
      "Figure size: [3.  1.7]\n"
     ]
    },
    {
     "data": {
      "image/png": "[encoded data removed]",
      "text/plain": [
       "<Figure size 216x122.4 with 2 Axes>"
      ]
     },
     "metadata": {
      "needs_background": "light"
     },
     "output_type": "display_data"
    }
   ],
   "source": [
    "run_optimization_and_plot(\n",
    "    prob_of_improvement_fn, \"Probability of improvement\", x_train, y_train, x_pool, y_pool, n_iterations=9, legend=False\n",
    ")"
   ]
  }
 ],
 "metadata": {
  "kernelspec": {
   "display_name": "Python [conda env:ajax]",
   "language": "python",
   "name": "conda-env-ajax-py"
  },
  "language_info": {
   "codemirror_mode": {
    "name": "ipython",
    "version": 3
   },
   "file_extension": ".py",
   "mimetype": "text/x-python",
   "name": "python",
   "nbconvert_exporter": "python",
   "pygments_lexer": "ipython3",
   "version": "3.9.12"
  }
 },
 "nbformat": 4,
 "nbformat_minor": 5
}
