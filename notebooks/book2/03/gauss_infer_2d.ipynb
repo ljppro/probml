{
 "cells": [
  {
   "cell_type": "markdown",
   "metadata": {},
   "source": [
    "Source of this notebook is here: https://colab.research.google.com/github/probml/pyprobml/blob/master/notebooks/book1/03/gauss_infer_2d.ipynb"
   ]
  }
 ],
 "metadata": {
  "colab": {
   "collapsed_sections": [],
   "name": "gauss_infer_2d.ipynb",
   "provenance": []
  },
  "kernelspec": {
   "display_name": "Python 3.7.13 ('py3713')",
   "language": "python",
   "name": "python3"
  },
  "language_info": {
   "codemirror_mode": {
    "name": "ipython",
    "version": 3
   },
   "file_extension": ".py",
   "mimetype": "text/x-python",
   "name": "python",
   "nbconvert_exporter": "python",
   "pygments_lexer": "ipython3",
   "version": "3.7.13"
  },
  "vscode": {
   "interpreter": {
    "hash": "a787a6e8bcd3d3d3e4a766006c27db2c5a636d1b43e1d89cd16234e9a9c2591c"
   }
  },
  "widgets": {
   "application/vnd.jupyter.widget-state+json": {
    "13362742f0b84c20b9e46dfdf1f6b5dc": {
     "model_module": "@jupyter-widgets/controls",
     "model_module_version": "1.5.0",
     "model_name": "SliderStyleModel",
     "state": {
      "_model_module": "@jupyter-widgets/controls",
      "_model_module_version": "1.5.0",
      "_model_name": "SliderStyleModel",
      "_view_count": null,
      "_view_module": "@jupyter-widgets/base",
      "_view_module_version": "1.2.0",
      "_view_name": "StyleView",
      "description_width": "",
      "handle_color": null
     }
    },
    "6557b93cdba04cd8a210426662ff4ae5": {
     "model_module": "@jupyter-widgets/controls",
     "model_module_version": "1.5.0",
     "model_name": "VBoxModel",
     "state": {
      "_dom_classes": [
       "widget-interact"
      ],
      "_model_module": "@jupyter-widgets/controls",
      "_model_module_version": "1.5.0",
      "_model_name": "VBoxModel",
      "_view_count": null,
      "_view_module": "@jupyter-widgets/controls",
      "_view_module_version": "1.5.0",
      "_view_name": "VBoxView",
      "box_style": "",
      "children": [
       "IPY_MODEL_dfb2dded453b4e0cadb00030171dec81",
       "IPY_MODEL_b6b8fc10566e4df198f60f14ae82b634",
       "IPY_MODEL_7d1908c142a643289a2b0b2147cc99df"
      ],
      "layout": "IPY_MODEL_d34d1219db274ed9a22ab773ec1f4f3d"
     }
    },
    "7d1908c142a643289a2b0b2147cc99df": {
     "model_module": "@jupyter-widgets/output",
     "model_module_version": "1.0.0",
     "model_name": "OutputModel",
     "state": {
      "_dom_classes": [],
      "_model_module": "@jupyter-widgets/output",
      "_model_module_version": "1.0.0",
      "_model_name": "OutputModel",
      "_view_count": null,
      "_view_module": "@jupyter-widgets/output",
      "_view_module_version": "1.0.0",
      "_view_name": "OutputView",
      "layout": "IPY_MODEL_9388e86738644254b07e8984d685f5a8",
      "msg_id": "",
      "outputs": [
       {
        "data": {
         "image/png": "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\n",
         "text/plain": "<Figure size 432x288 with 1 Axes>"
        },
        "metadata": {
         "needs_background": "light"
        },
        "output_type": "display_data"
       }
      ]
     }
    },
    "8bb5443e3faf471f97014f29df4d25cc": {
     "model_module": "@jupyter-widgets/base",
     "model_module_version": "1.2.0",
     "model_name": "LayoutModel",
     "state": {
      "_model_module": "@jupyter-widgets/base",
      "_model_module_version": "1.2.0",
      "_model_name": "LayoutModel",
      "_view_count": null,
      "_view_module": "@jupyter-widgets/base",
      "_view_module_version": "1.2.0",
      "_view_name": "LayoutView",
      "align_content": null,
      "align_items": null,
      "align_self": null,
      "border": null,
      "bottom": null,
      "display": null,
      "flex": null,
      "flex_flow": null,
      "grid_area": null,
      "grid_auto_columns": null,
      "grid_auto_flow": null,
      "grid_auto_rows": null,
      "grid_column": null,
      "grid_gap": null,
      "grid_row": null,
      "grid_template_areas": null,
      "grid_template_columns": null,
      "grid_template_rows": null,
      "height": null,
      "justify_content": null,
      "justify_items": null,
      "left": null,
      "margin": null,
      "max_height": null,
      "max_width": null,
      "min_height": null,
      "min_width": null,
      "object_fit": null,
      "object_position": null,
      "order": null,
      "overflow": null,
      "overflow_x": null,
      "overflow_y": null,
      "padding": null,
      "right": null,
      "top": null,
      "visibility": null,
      "width": null
     }
    },
    "9388e86738644254b07e8984d685f5a8": {
     "model_module": "@jupyter-widgets/base",
     "model_module_version": "1.2.0",
     "model_name": "LayoutModel",
     "state": {
      "_model_module": "@jupyter-widgets/base",
      "_model_module_version": "1.2.0",
      "_model_name": "LayoutModel",
      "_view_count": null,
      "_view_module": "@jupyter-widgets/base",
      "_view_module_version": "1.2.0",
      "_view_name": "LayoutView",
      "align_content": null,
      "align_items": null,
      "align_self": null,
      "border": null,
      "bottom": null,
      "display": null,
      "flex": null,
      "flex_flow": null,
      "grid_area": null,
      "grid_auto_columns": null,
      "grid_auto_flow": null,
      "grid_auto_rows": null,
      "grid_column": null,
      "grid_gap": null,
      "grid_row": null,
      "grid_template_areas": null,
      "grid_template_columns": null,
      "grid_template_rows": null,
      "height": null,
      "justify_content": null,
      "justify_items": null,
      "left": null,
      "margin": null,
      "max_height": null,
      "max_width": null,
      "min_height": null,
      "min_width": null,
      "object_fit": null,
      "object_position": null,
      "order": null,
      "overflow": null,
      "overflow_x": null,
      "overflow_y": null,
      "padding": null,
      "right": null,
      "top": null,
      "visibility": null,
      "width": null
     }
    },
    "b6b8fc10566e4df198f60f14ae82b634": {
     "model_module": "@jupyter-widgets/controls",
     "model_module_version": "1.5.0",
     "model_name": "IntSliderModel",
     "state": {
      "_dom_classes": [],
      "_model_module": "@jupyter-widgets/controls",
      "_model_module_version": "1.5.0",
      "_model_name": "IntSliderModel",
      "_view_count": null,
      "_view_module": "@jupyter-widgets/controls",
      "_view_module_version": "1.5.0",
      "_view_name": "IntSliderView",
      "continuous_update": true,
      "description": "n_",
      "description_tooltip": null,
      "disabled": false,
      "layout": "IPY_MODEL_8bb5443e3faf471f97014f29df4d25cc",
      "max": 20,
      "min": 1,
      "orientation": "horizontal",
      "readout": true,
      "readout_format": "d",
      "step": 1,
      "style": "IPY_MODEL_13362742f0b84c20b9e46dfdf1f6b5dc",
      "value": 10
     }
    },
    "bab25a894ad24dfc860f7676c8103484": {
     "model_module": "@jupyter-widgets/base",
     "model_module_version": "1.2.0",
     "model_name": "LayoutModel",
     "state": {
      "_model_module": "@jupyter-widgets/base",
      "_model_module_version": "1.2.0",
      "_model_name": "LayoutModel",
      "_view_count": null,
      "_view_module": "@jupyter-widgets/base",
      "_view_module_version": "1.2.0",
      "_view_name": "LayoutView",
      "align_content": null,
      "align_items": null,
      "align_self": null,
      "border": null,
      "bottom": null,
      "display": null,
      "flex": null,
      "flex_flow": null,
      "grid_area": null,
      "grid_auto_columns": null,
      "grid_auto_flow": null,
      "grid_auto_rows": null,
      "grid_column": null,
      "grid_gap": null,
      "grid_row": null,
      "grid_template_areas": null,
      "grid_template_columns": null,
      "grid_template_rows": null,
      "height": null,
      "justify_content": null,
      "justify_items": null,
      "left": null,
      "margin": null,
      "max_height": null,
      "max_width": null,
      "min_height": null,
      "min_width": null,
      "object_fit": null,
      "object_position": null,
      "order": null,
      "overflow": null,
      "overflow_x": null,
      "overflow_y": null,
      "padding": null,
      "right": null,
      "top": null,
      "visibility": null,
      "width": null
     }
    },
    "ccb1d8424e674d3096d59761c601b27e": {
     "model_module": "@jupyter-widgets/controls",
     "model_module_version": "1.5.0",
     "model_name": "SliderStyleModel",
     "state": {
      "_model_module": "@jupyter-widgets/controls",
      "_model_module_version": "1.5.0",
      "_model_name": "SliderStyleModel",
      "_view_count": null,
      "_view_module": "@jupyter-widgets/base",
      "_view_module_version": "1.2.0",
      "_view_name": "StyleView",
      "description_width": "",
      "handle_color": null
     }
    },
    "d34d1219db274ed9a22ab773ec1f4f3d": {
     "model_module": "@jupyter-widgets/base",
     "model_module_version": "1.2.0",
     "model_name": "LayoutModel",
     "state": {
      "_model_module": "@jupyter-widgets/base",
      "_model_module_version": "1.2.0",
      "_model_name": "LayoutModel",
      "_view_count": null,
      "_view_module": "@jupyter-widgets/base",
      "_view_module_version": "1.2.0",
      "_view_name": "LayoutView",
      "align_content": null,
      "align_items": null,
      "align_self": null,
      "border": null,
      "bottom": null,
      "display": null,
      "flex": null,
      "flex_flow": null,
      "grid_area": null,
      "grid_auto_columns": null,
      "grid_auto_flow": null,
      "grid_auto_rows": null,
      "grid_column": null,
      "grid_gap": null,
      "grid_row": null,
      "grid_template_areas": null,
      "grid_template_columns": null,
      "grid_template_rows": null,
      "height": null,
      "justify_content": null,
      "justify_items": null,
      "left": null,
      "margin": null,
      "max_height": null,
      "max_width": null,
      "min_height": null,
      "min_width": null,
      "object_fit": null,
      "object_position": null,
      "order": null,
      "overflow": null,
      "overflow_x": null,
      "overflow_y": null,
      "padding": null,
      "right": null,
      "top": null,
      "visibility": null,
      "width": null
     }
    },
    "dfb2dded453b4e0cadb00030171dec81": {
     "model_module": "@jupyter-widgets/controls",
     "model_module_version": "1.5.0",
     "model_name": "IntSliderModel",
     "state": {
      "_dom_classes": [],
      "_model_module": "@jupyter-widgets/controls",
      "_model_module_version": "1.5.0",
      "_model_name": "IntSliderModel",
      "_view_count": null,
      "_view_module": "@jupyter-widgets/controls",
      "_view_module_version": "1.5.0",
      "_view_name": "IntSliderView",
      "continuous_update": true,
      "description": "random_state",
      "description_tooltip": null,
      "disabled": false,
      "layout": "IPY_MODEL_bab25a894ad24dfc860f7676c8103484",
      "max": 10,
      "min": 1,
      "orientation": "horizontal",
      "readout": true,
      "readout_format": "d",
      "step": 1,
      "style": "IPY_MODEL_ccb1d8424e674d3096d59761c601b27e",
      "value": 5
     }
    }
   }
  }
 },
 "nbformat": 4,
 "nbformat_minor": 0
}
