{
 "cells": [
  {
   "cell_type": "markdown",
   "metadata": {},
   "source": [
    "## Kernel Ridge Regression Vs Gaussian Process"
   ]
  },
  {
   "cell_type": "code",
   "execution_count": null,
   "metadata": {},
   "outputs": [],
   "source": [
    "import jax\n",
    "import jax.numpy as jnp\n",
    "import seaborn as sns\n",
    "import matplotlib.pyplot as plt\n",
    "\n",
    "try:\n",
    "    from probml_utils import latexify, savefig, is_latexify_enabled\n",
    "except ModuleNotFoundError:\n",
    "    %pip install git+https://github.com/probml/probml-utils.git\n",
    "    from probml_utils import latexify, savefig, is_latexify_enabled\n",
    "\n",
    "jax.config.update(\"jax_enable_x64\", True)\n",
    "\n",
    "try:\n",
    "    import tinygp\n",
    "except ModuleNotFoundError:\n",
    "    %pip install -qqq tinygp\n",
    "    import tinygp\n",
    "\n",
    "try:\n",
    "    import jaxopt\n",
    "except ModuleNotFoundError:\n",
    "    %pip install jaxopt\n",
    "    import jaxopt\n",
    "\n",
    "from tinygp import GaussianProcess, kernels\n",
    "import time\n",
    "from sklearn.kernel_ridge import KernelRidge\n",
    "from sklearn.model_selection import GridSearchCV\n",
    "from sklearn.gaussian_process.kernels import ExpSineSquared\n",
    "\n",
    "latexify(width_scale_factor=1, fig_height=2)\n",
    "marksize = 10 if is_latexify_enabled() else 30"
   ]
  },
  {
   "cell_type": "markdown",
   "metadata": {},
   "source": [
    "### Data"
   ]
  },
  {
   "cell_type": "code",
   "execution_count": null,
   "metadata": {},
   "outputs": [],
   "source": [
    "key = jax.random.PRNGKey(0)\n",
    "\n",
    "# Generate sample data\n",
    "X = 15 * jax.random.uniform(key, (100, 1))\n",
    "key_split = jax.random.split(key, 2)\n",
    "y = jnp.sin(X).ravel()\n",
    "y += 3 * (0.5 - jax.random.uniform(key_split[0], (X.shape[0],)))  # add noise"
   ]
  },
  {
   "cell_type": "markdown",
   "metadata": {},
   "source": [
    "### Fitting the Models"
   ]
  },
  {
   "cell_type": "code",
   "execution_count": null,
   "metadata": {},
   "outputs": [],
   "source": [
    "# Fit KernelRidge with parameter selection based on 5-fold cross validation\n",
    "param_grid = {\n",
    "    \"alpha\": [1e0, 1e-1, 1e-2, 1e-3],\n",
    "    \"kernel\": [ExpSineSquared(l, p) for l in jnp.logspace(-2, 2, 10) for p in jnp.logspace(0, 2, 10)],\n",
    "}\n",
    "\n",
    "kr = GridSearchCV(KernelRidge(), param_grid=param_grid)\n",
    "stime = time.time()\n",
    "kr.fit(X, y)\n",
    "print(\"Time for KRR fitting: %.3f\" % (time.time() - stime))"
   ]
  },
  {
   "cell_type": "code",
   "execution_count": null,
   "metadata": {},
   "outputs": [],
   "source": [
    "# Fit GP using scipy.minimize\n",
    "theta_init = {\"log_diag\": jnp.log(1e-1), \"log_scale\": jnp.log(5.0), \"log_gamma\": jnp.log(2.0)}\n",
    "\n",
    "stime = time.time()\n",
    "\n",
    "\n",
    "def neg_log_likelihood(theta, X, y):\n",
    "    kernel = kernels.ExpSineSquared(scale=jnp.exp(theta[\"log_scale\"]), gamma=jnp.exp(theta[\"log_gamma\"]))\n",
    "    gp = GaussianProcess(kernel, X, diag=jnp.exp(theta[\"log_diag\"]))\n",
    "    return -gp.log_probability(y)\n",
    "\n",
    "\n",
    "obj = jax.jit(jax.value_and_grad(neg_log_likelihood))\n",
    "solver = jaxopt.ScipyMinimize(fun=neg_log_likelihood)\n",
    "soln = solver.run(theta_init, X=X, y=y)\n",
    "print(\"Time for GPR fitting: %.3f\" % (time.time() - stime))"
   ]
  },
  {
   "cell_type": "markdown",
   "metadata": {},
   "source": [
    "### Predicting the models"
   ]
  },
  {
   "cell_type": "code",
   "execution_count": null,
   "metadata": {},
   "outputs": [],
   "source": [
    "# Predict using kernel ridge\n",
    "X_plot = jnp.linspace(0, 20, 10000)[:, None]\n",
    "stime = time.time()\n",
    "y_kr = kr.predict(X_plot)\n",
    "print(\"Time for KRR prediction: %.3f\" % (time.time() - stime))\n",
    "\n",
    "# Predict using gp.predict\n",
    "X_plot = X_plot.reshape(\n",
    "    -1,\n",
    ")\n",
    "y = y.reshape(\n",
    "    -1,\n",
    ")\n",
    "\n",
    "\n",
    "def build_gp(theta_, X):\n",
    "    kernel = kernels.ExpSineSquared(scale=jnp.exp(theta_[\"log_scale\"]), gamma=jnp.exp(theta_[\"log_gamma\"]))\n",
    "    gp = GaussianProcess(kernel, X, diag=jnp.exp(theta_[\"log_diag\"]))\n",
    "    return gp\n",
    "\n",
    "\n",
    "# predict without variance\n",
    "stime = time.time()\n",
    "gp = build_gp(soln.params, X)\n",
    "y_mu = gp.predict(y, X_plot, return_var=False)\n",
    "print(\"Time for GPR prediction: %.3f\" % (time.time() - stime))\n",
    "\n",
    "# predict with variance\n",
    "stime = time.time()\n",
    "gp = build_gp(soln.params, X)\n",
    "y_mu, y_var = gp.predict(y, X_plot, return_var=True)\n",
    "print(\"Time for GPR prediction with standard-deviation: %.3f\" % (time.time() - stime))"
   ]
  },
  {
   "cell_type": "markdown",
   "metadata": {},
   "source": [
    "### Plots"
   ]
  },
  {
   "cell_type": "code",
   "execution_count": null,
   "metadata": {},
   "outputs": [],
   "source": [
    "# Plot results\n",
    "plt.figure()\n",
    "X_plot = X_plot.reshape(-1, 1)\n",
    "y_var = y_var + jnp.exp(soln.params[\"log_diag\"])\n",
    "plt.scatter(X, y, c=\"k\", label=\"$data$\", s=marksize)\n",
    "plt.plot(X_plot, jnp.sin(X_plot), color=\"navy\", label=\"True\")\n",
    "plt.plot(X_plot, y_kr, color=\"turquoise\", label=\"KRR\")\n",
    "plt.plot(X_plot, y_mu, color=\"darkorange\", label=\"GPR\")\n",
    "\n",
    "plt.fill_between(\n",
    "    X_plot.flatten(), y_mu.flatten() - jnp.sqrt(y_var), y_mu.flatten() + jnp.sqrt(y_var), color=\"darkorange\", alpha=0.2\n",
    ")\n",
    "plt.xlabel(\"data\")\n",
    "plt.ylabel(\"target\")\n",
    "plt.ylim(-4, 4)\n",
    "sns.despine()\n",
    "plt.legend(loc=1, scatterpoints=1, prop={\"size\": 5}, frameon=False)\n",
    "savefig(\"krr_vs_gpr_latexified\")\n",
    "plt.show()"
   ]
  }
 ],
 "metadata": {
  "kernelspec": {
   "display_name": "Python 3.10.4 ('PyroNB')",
   "language": "python",
   "name": "python3"
  },
  "language_info": {
   "codemirror_mode": {
    "name": "ipython",
    "version": 3
   },
   "file_extension": ".py",
   "mimetype": "text/x-python",
   "name": "python",
   "nbconvert_exporter": "python",
   "pygments_lexer": "ipython3",
   "version": "3.10.4"
  },
  "orig_nbformat": 4,
  "vscode": {
   "interpreter": {
    "hash": "541be09f5402c733300b7f8bd26f7b397ff878a73a38074dfa6f900d5dc8ce66"
   }
  }
 },
 "nbformat": 4,
 "nbformat_minor": 2
}
