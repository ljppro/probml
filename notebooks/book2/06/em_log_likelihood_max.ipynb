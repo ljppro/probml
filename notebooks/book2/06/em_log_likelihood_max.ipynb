{
 "cells": [
  {
   "cell_type": "markdown",
   "id": "97ab0f47",
   "metadata": {},
   "source": [
    "Source of this notebook is here: https://colab.research.google.com/github/probml/pyprobml/blob/master/notebooks/book1/08/em_log_likelihood_max.ipynb"
   ]
  }
 ],
 "metadata": {},
 "nbformat": 4,
 "nbformat_minor": 5
}
