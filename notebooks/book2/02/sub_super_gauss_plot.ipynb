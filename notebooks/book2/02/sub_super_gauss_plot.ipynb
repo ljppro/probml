{
 "cells": [
  {
   "cell_type": "code",
   "execution_count": null,
   "id": "1abf6083",
   "metadata": {},
   "outputs": [],
   "source": [
    "try:\n",
    "    import probml_utils as pml\n",
    "except ModuleNotFoundError:\n",
    "    %pip install -qq git+https://github.com/probml/probml-utils.git\n",
    "    import probml_utils as pml\n",
    "import numpy as np\n",
    "from scipy.stats import uniform, laplace, norm\n",
    "import matplotlib.pyplot as plt\n",
    "\n",
    "n = 2000\n",
    "x = np.arange(-4, 4, 0.01)\n",
    "y1 = norm.pdf(x, 0, 1)\n",
    "y2 = uniform.pdf(x, -2, 4)\n",
    "y3 = laplace.pdf(x, 0, 1)\n",
    "\n",
    "plt.plot(x, y1, color=\"blue\")\n",
    "plt.plot(x, y2, color=\"green\")\n",
    "plt.plot(x, y3, color=\"red\")\n",
    "pml.savefig(\"1D.pdf\")\n",
    "plt.savefig(\"1D.pdf\")\n",
    "plt.show()\n",
    "\n",
    "x1 = np.random.normal(0, 1, n).reshape(n, 1)\n",
    "x2 = np.random.normal(0, 1, n).reshape(n, 1)\n",
    "plt.scatter(x1, x2, marker=\".\", color=\"blue\")\n",
    "plt.gca().set_aspect(\"equal\")\n",
    "plt.xlim(-4, 4)\n",
    "plt.ylim(-4, 4)\n",
    "plt.title(\"Gaussian\")\n",
    "pml.savefig(\"Gaussian.pdf\")\n",
    "plt.savefig(\"Gaussian.pdf\")\n",
    "plt.show()\n",
    "\n",
    "x1 = np.random.laplace(0, 1, n).reshape(n, 1)\n",
    "x2 = np.random.laplace(0, 1, n).reshape(n, 1)\n",
    "plt.scatter(x1, x2, marker=\".\", color=\"red\")\n",
    "plt.gca().set_aspect(\"equal\")\n",
    "plt.xlim(-8, 8)\n",
    "plt.ylim(-8, 8)\n",
    "plt.title(\"Laplace\")\n",
    "pml.savefig(\"Laplace.pdf\")\n",
    "plt.savefig(\"Laplace.pdf\")\n",
    "plt.show()\n",
    "\n",
    "x1 = np.random.uniform(-2, 2, n).reshape(n, 1)\n",
    "x2 = np.random.uniform(-2, 2, n).reshape(n, 1)\n",
    "plt.scatter(x1, x2, marker=\".\", color=\"green\")\n",
    "plt.gca().set_aspect(\"equal\")\n",
    "plt.xlim(-2.5, 2.5)\n",
    "plt.ylim(-2, 2)\n",
    "plt.title(\"Uniform\")\n",
    "pml.savefig(\"Uniform.pdf\")\n",
    "plt.savefig(\"Uniform.pdf\")\n",
    "plt.show()"
   ]
  }
 ],
 "metadata": {
  "kernelspec": {
   "display_name": "Python 3 (ipykernel)",
   "language": "python",
   "name": "python3"
  },
  "language_info": {
   "codemirror_mode": {
    "name": "ipython",
    "version": 3
   },
   "file_extension": ".py",
   "mimetype": "text/x-python",
   "name": "python",
   "nbconvert_exporter": "python",
   "pygments_lexer": "ipython3",
   "version": "3.9.7"
  }
 },
 "nbformat": 4,
 "nbformat_minor": 5
}
