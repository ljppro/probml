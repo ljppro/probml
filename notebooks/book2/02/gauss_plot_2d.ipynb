{
 "cells": [
  {
   "cell_type": "markdown",
   "metadata": {},
   "source": [
    "Source of this notebooks is here: https://colab.research.google.com/github/probml/pyprobml/blob/master/notebooks/book1/03/gauss_plot_2d.ipynb"
   ]
  }
 ],
 "metadata": {
  "language_info": {
   "name": "python"
  },
  "orig_nbformat": 4
 },
 "nbformat": 4,
 "nbformat_minor": 2
}
