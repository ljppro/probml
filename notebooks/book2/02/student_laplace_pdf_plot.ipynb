{
 "cells": [
  {
   "cell_type": "markdown",
   "id": "d8a62468",
   "metadata": {},
   "source": [
    "Source of this notebook is here: https://github.com/probml/pyprobml/blob/master/notebooks/book1/02/student_laplace_pdf_plot.ipynb"
   ]
  }
 ],
 "metadata": {
  "kernelspec": {
   "display_name": "Python 3 (ipykernel)",
   "language": "python",
   "name": "python3"
  },
  "language_info": {
   "codemirror_mode": {
    "name": "ipython",
    "version": 3
   },
   "file_extension": ".py",
   "mimetype": "text/x-python",
   "name": "python",
   "nbconvert_exporter": "python",
   "pygments_lexer": "ipython3",
   "version": "3.9.7"
  }
 },
 "nbformat": 4,
 "nbformat_minor": 5
}
