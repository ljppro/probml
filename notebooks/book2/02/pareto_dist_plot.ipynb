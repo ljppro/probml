{
 "cells": [
  {
   "cell_type": "code",
   "execution_count": null,
   "id": "e1eaf475",
   "metadata": {},
   "outputs": [],
   "source": [
    "# Plots Pareto distribution\n",
    "\n",
    "import numpy as np\n",
    "import matplotlib.pyplot as plt\n",
    "\n",
    "try:\n",
    "    import probml_utils as pml\n",
    "except ModuleNotFoundError:\n",
    "    %pip install -qq git+https://github.com/probml/probml-utils.git\n",
    "    import probml_utils as pml\n",
    "\n",
    "\n",
    "from scipy.stats import pareto\n",
    "\n",
    "params = [(0.1, 1), (0.1, 2), (0.2, 1), (0.2, 2)]\n",
    "styles = [\"b-\", \"r:\", \"k-.\", \"g--\"]\n",
    "labels = [\"m={:.2f}, k={:.2f}\".format(m, k) for m, k in params]\n",
    "x = np.linspace(0, 1, 1000)\n",
    "\n",
    "for i, param in enumerate(params):\n",
    "    m, k = param\n",
    "    probabilities = pareto.pdf(x, k, scale=m)\n",
    "    plt.plot(x, probabilities, styles[i], label=labels[i])\n",
    "\n",
    "plt.title(\"Pareto Distribution\")\n",
    "plt.legend()\n",
    "plt.axis((0.0, 0.5, 0, 20))\n",
    "pml.savefig(\"paretoPdf.pdf\")\n",
    "plt.show()\n",
    "\n",
    "\n",
    "for i, param in enumerate(params):\n",
    "    m, k = param\n",
    "    probabilities = pareto.pdf(x, k, scale=m)\n",
    "    plt.loglog(x, probabilities, styles[i], label=labels[i])\n",
    "\n",
    "plt.xlim(0.05, 1)\n",
    "plt.title(\"Log Pareto Distribution\")\n",
    "plt.legend()\n",
    "pml.savefig(\"paretoLogPdf.pdf\")\n",
    "plt.show()"
   ]
  }
 ],
 "metadata": {
  "kernelspec": {
   "display_name": "Python [conda env:root] *",
   "language": "python",
   "name": "conda-root-py"
  },
  "language_info": {
   "codemirror_mode": {
    "name": "ipython",
    "version": 3
   },
   "file_extension": ".py",
   "mimetype": "text/x-python",
   "name": "python",
   "nbconvert_exporter": "python",
   "pygments_lexer": "ipython3",
   "version": "3.9.7"
  }
 },
 "nbformat": 4,
 "nbformat_minor": 5
}
