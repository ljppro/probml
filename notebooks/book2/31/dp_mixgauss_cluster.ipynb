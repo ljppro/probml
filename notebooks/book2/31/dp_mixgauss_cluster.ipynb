{
 "cells": [
  {
   "cell_type": "code",
   "execution_count": 1,
   "metadata": {},
   "outputs": [
    {
     "ename": "ModuleNotFoundError",
     "evalue": "No module named 'probml_utils.dp_mixgauss_utils'",
     "output_type": "error",
     "traceback": [
      "\u001b[0;31m---------------------------------------------------------------------------\u001b[0m",
      "\u001b[0;31mModuleNotFoundError\u001b[0m                       Traceback (most recent call last)",
      "\u001b[1;32m/home/xinglong/git_local/pyprobml/notebooks/book2/31/dp_mixgauss_cluster.ipynb Cell 1'\u001b[0m in \u001b[0;36m<cell line: 7>\u001b[0;34m()\u001b[0m\n\u001b[1;32m      <a href='vscode-notebook-cell:/home/xinglong/git_local/pyprobml/notebooks/book2/31/dp_mixgauss_cluster.ipynb#ch0000000?line=3'>4</a>\u001b[0m     get_ipython()\u001b[39m.\u001b[39mrun_line_magic(\u001b[39m'\u001b[39m\u001b[39mpip\u001b[39m\u001b[39m'\u001b[39m, \u001b[39m'\u001b[39m\u001b[39minstall -qq git+https://github.com/probml/probml-utils.git\u001b[39m\u001b[39m'\u001b[39m)\n\u001b[1;32m      <a href='vscode-notebook-cell:/home/xinglong/git_local/pyprobml/notebooks/book2/31/dp_mixgauss_cluster.ipynb#ch0000000?line=4'>5</a>\u001b[0m     \u001b[39mimport\u001b[39;00m \u001b[39mprobml_utils\u001b[39;00m \u001b[39mas\u001b[39;00m \u001b[39mpml\u001b[39;00m\n\u001b[0;32m----> <a href='vscode-notebook-cell:/home/xinglong/git_local/pyprobml/notebooks/book2/31/dp_mixgauss_cluster.ipynb#ch0000000?line=6'>7</a>\u001b[0m \u001b[39mfrom\u001b[39;00m \u001b[39mprobml_utils\u001b[39;00m\u001b[39m.\u001b[39;00m\u001b[39mdp_mixgauss_utils\u001b[39;00m \u001b[39mimport\u001b[39;00m NormalInverseWishart, gmm_gibbs, dp_mixgauss_gibbs\n\u001b[1;32m      <a href='vscode-notebook-cell:/home/xinglong/git_local/pyprobml/notebooks/book2/31/dp_mixgauss_cluster.ipynb#ch0000000?line=8'>9</a>\u001b[0m \u001b[39mimport\u001b[39;00m \u001b[39mjax\u001b[39;00m\u001b[39m.\u001b[39;00m\u001b[39mnumpy\u001b[39;00m \u001b[39mas\u001b[39;00m \u001b[39mjnp\u001b[39;00m\n\u001b[1;32m     <a href='vscode-notebook-cell:/home/xinglong/git_local/pyprobml/notebooks/book2/31/dp_mixgauss_cluster.ipynb#ch0000000?line=9'>10</a>\u001b[0m \u001b[39mfrom\u001b[39;00m \u001b[39mjax\u001b[39;00m \u001b[39mimport\u001b[39;00m random, vmap\n",
      "\u001b[0;31mModuleNotFoundError\u001b[0m: No module named 'probml_utils.dp_mixgauss_utils'"
     ]
    }
   ],
   "source": [
    "try:\n",
    "    import probml_utils as pml\n",
    "except ModuleNotFoundError:\n",
    "    %pip install -qq git+https://github.com/probml/probml-utils.git\n",
    "    import probml_utils as pml\n",
    "\n",
    "from probml_utils.dp_mixgauss_utils import NormalInverseWishart, gmm_gibbs, dp_mixgauss_gibbs\n",
    "\n",
    "import jax.numpy as jnp\n",
    "from jax import random, vmap\n",
    "from jax.scipy.linalg import sqrtm\n",
    "import matplotlib.pyplot as plt"
   ]
  },
  {
   "cell_type": "code",
   "execution_count": null,
   "metadata": {},
   "outputs": [],
   "source": [
    "dim = 2\n",
    "concentration = 1.0\n",
    "num_of_clusters = 4\n",
    "num_of_data = 300\n",
    "num_of_samples = 1000"
   ]
  },
  {
   "cell_type": "code",
   "execution_count": null,
   "metadata": {},
   "outputs": [],
   "source": [
    "# Example 1\n",
    "key = random.PRNGKey(0)\n",
    "# Generating the true data\n",
    "key, *subkeys = random.split(key, 4)\n",
    "niw_params1 = dict(loc=jnp.zeros(dim), mean_precision=0.02, df=dim + 5, scale=jnp.eye(dim))\n",
    "niw1 = NormalInverseWishart(**niw_params1)\n",
    "cluster_weights = random.dirichlet(subkeys[1], concentration * jnp.ones(num_of_clusters))\n",
    "# cluster assignment of each datum\n",
    "cluster_indices = random.categorical(subkeys[2], jnp.log(cluster_weights), shape=(num_of_data,))\n",
    "cluster_params = niw1.sample(seed=subkeys[0], sample_shape=(num_of_clusters,))\n",
    "cluster_covs = cluster_params[\"Sigma\"]\n",
    "cluster_means = cluster_params[\"mu\"]\n",
    "# data\n",
    "mean_per_datum = cluster_means[cluster_indices]\n",
    "cov_per_datum = cluster_covs[cluster_indices]\n",
    "key, *subkeys = random.split(key, num_of_data + 1)\n",
    "data1 = vmap(random.multivariate_normal, in_axes=(0, 0, 0))(jnp.array(subkeys), mean_per_datum, cov_per_datum)\n",
    "# Clustering\n",
    "gmm_samples1 = gmm_gibbs(key, num_of_samples, data1, concentration, num_of_clusters, niw_params1)\n",
    "dp_samples1 = dp_mixgauss_gibbs(key, num_of_samples, data1, concentration, niw_params1)\n",
    "example1 = (gmm_samples1[-1], dp_samples1[-1])"
   ]
  },
  {
   "cell_type": "code",
   "execution_count": null,
   "metadata": {},
   "outputs": [],
   "source": [
    "# Example 2\n",
    "key = random.PRNGKey(1)\n",
    "# Generating the true data\n",
    "key, *subkeys = random.split(key, 4)\n",
    "niw_params2 = dict(loc=jnp.zeros(dim), mean_precision=0.05, df=dim + 5, scale=jnp.eye(dim))\n",
    "niw2 = NormalInverseWishart(**niw_params2)\n",
    "cluster_weights = random.dirichlet(subkeys[1], concentration * jnp.ones(num_of_clusters))\n",
    "# cluster assignment of each datum\n",
    "cluster_indices = random.categorical(subkeys[2], jnp.log(cluster_weights), shape=(num_of_data,))\n",
    "cluster_params = niw2.sample(seed=subkeys[0], sample_shape=(num_of_clusters,))\n",
    "cluster_covs = cluster_params[\"Sigma\"]\n",
    "cluster_means = cluster_params[\"mu\"]\n",
    "# data\n",
    "mean_per_datum = cluster_means[cluster_indices]\n",
    "cov_per_datum = cluster_covs[cluster_indices]\n",
    "key, *subkeys = random.split(key, num_of_data + 1)\n",
    "data2 = vmap(random.multivariate_normal, in_axes=(0, 0, 0))(jnp.array(subkeys), mean_per_datum, cov_per_datum)\n",
    "# Clustering\n",
    "gmm_samples2 = gmm_gibbs(key, num_of_samples, data2, concentration, num_of_clusters, niw_params2)\n",
    "dp_samples2 = dp_mixgauss_gibbs(key, num_of_samples, data2, concentration, niw_params2)\n",
    "example2 = (gmm_samples2[-1], dp_samples2[-1])"
   ]
  },
  {
   "cell_type": "code",
   "execution_count": null,
   "metadata": {},
   "outputs": [],
   "source": [
    "# Example 3\n",
    "key = random.PRNGKey(2)\n",
    "# Generating the true data\n",
    "key, *subkeys = random.split(key, 4)\n",
    "niw_params3 = dict(loc=jnp.zeros(dim), mean_precision=0.5, df=dim + 5, scale=jnp.eye(dim))\n",
    "niw3 = NormalInverseWishart(**niw_params3)\n",
    "cluster_weights = random.dirichlet(subkeys[1], concentration * jnp.ones(num_of_clusters))\n",
    "# cluster assignment of each datum\n",
    "cluster_indices = random.categorical(subkeys[2], jnp.log(cluster_weights), shape=(num_of_data,))\n",
    "cluster_params = niw3.sample(seed=subkeys[0], sample_shape=(num_of_clusters,))\n",
    "cluster_covs = cluster_params[\"Sigma\"]\n",
    "cluster_means = cluster_params[\"mu\"]\n",
    "# data\n",
    "mean_per_datum = cluster_means[cluster_indices]\n",
    "cov_per_datum = cluster_covs[cluster_indices]\n",
    "key, *subkeys = random.split(key, num_of_data + 1)\n",
    "data3 = vmap(random.multivariate_normal, in_axes=(0, 0, 0))(jnp.array(subkeys), mean_per_datum, cov_per_datum)\n",
    "# Clustering\n",
    "gmm_samples3 = gmm_gibbs(key, num_of_samples, data3, concentration, num_of_clusters, niw_params3)\n",
    "dp_samples3 = dp_mixgauss_gibbs(key, num_of_samples, data3, concentration, niw_params3)\n",
    "example3 = (gmm_samples3[-1], dp_samples3[-1])"
   ]
  },
  {
   "cell_type": "code",
   "execution_count": null,
   "metadata": {},
   "outputs": [],
   "source": [
    "# Plotting\n",
    "cmap = plt.get_cmap(\"tab10\")\n",
    "data = (data1, data2, data3)\n",
    "examples = (example1, example2, example3)\n",
    "# Different rows represents different clustering results;\n",
    "# different column represents different examples.\n",
    "fig, axes = plt.subplots(2, 3)\n",
    "plt.setp(axes, xticks=[], yticks=[])\n",
    "for i in range(3):\n",
    "    for j in range(2):\n",
    "        samples = examples[i][j]\n",
    "        clusters = jnp.unique(samples)\n",
    "        for k in clusters:\n",
    "            sub_samples = data[i][samples == k, :]\n",
    "            axes[j, i].scatter(sub_samples[:, 0], sub_samples[:, 1], color=cmap(k))\n",
    "plt.show()"
   ]
  }
 ],
 "metadata": {
  "interpreter": {
   "hash": "916dbcbb3f70747c44a77c7bcd40155683ae19c65e1c03b4aa3499c5328201f1"
  },
  "kernelspec": {
   "display_name": "Python 3.8.10 64-bit",
   "language": "python",
   "name": "python3"
  },
  "language_info": {
   "codemirror_mode": {
    "name": "ipython",
    "version": 3
   },
   "file_extension": ".py",
   "mimetype": "text/x-python",
   "name": "python",
   "nbconvert_exporter": "python",
   "pygments_lexer": "ipython3",
   "version": "3.8.10"
  },
  "orig_nbformat": 4
 },
 "nbformat": 4,
 "nbformat_minor": 2
}
