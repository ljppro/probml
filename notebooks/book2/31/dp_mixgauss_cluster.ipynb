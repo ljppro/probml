{
 "cells": [
  {
   "cell_type": "markdown",
   "metadata": {
    "id": "_AOU5X0p-FXf"
   },
   "source": [
    "# Compare clustering using finite mixture vs DP mixture of Gaussians"
   ]
  },
  {
   "cell_type": "code",
   "execution_count": 1,
   "metadata": {
    "colab": {
     "base_uri": "https://localhost:8080/"
    },
    "id": "vLrXQIW3pUaS",
    "outputId": "b36bc1ca-4ec1-45ad-8648-6e9e75765cb9"
   },
   "outputs": [],
   "source": [
    "try:\n",
    "    import probml_utils as pml\n",
    "except ModuleNotFoundError:\n",
    "    %pip install -qq git+https://github.com/probml/probml-utils.git\n",
    "    import probml_utils as pml\n",
    "\n",
    "from probml_utils.dp_mixgauss_utils import NormalInverseWishart, gmm_gibbs, dp_mixgauss_gibbs\n",
    "\n",
    "import jax.numpy as jnp\n",
    "from jax import random, vmap\n",
    "from jax.scipy.linalg import sqrtm\n",
    "import matplotlib.pyplot as plt\n",
    "import numpy as np"
   ]
  },
  {
   "cell_type": "code",
   "execution_count": 2,
   "metadata": {
    "id": "kkItrs3xqgsS"
   },
   "outputs": [],
   "source": [
    "# Silence WARNING:root:The use of `check_types` is deprecated and does not have any effect.\n",
    "# https://github.com/tensorflow/probability/issues/1523\n",
    "import logging\n",
    "\n",
    "logger = logging.getLogger()\n",
    "\n",
    "\n",
    "class CheckTypesFilter(logging.Filter):\n",
    "    def filter(self, record):\n",
    "        return \"check_types\" not in record.getMessage()\n",
    "\n",
    "\n",
    "logger.addFilter(CheckTypesFilter())"
   ]
  },
  {
   "cell_type": "code",
   "execution_count": 3,
   "metadata": {
    "id": "w4hhAUKwMdxD"
   },
   "outputs": [],
   "source": [
    "dim = 2\n",
    "concentration = 1.0\n",
    "n_data = 300\n",
    "n_gibbs_samples = 1000\n",
    "burn_in = 200\n",
    "mean_precisions = [0.01, 0.5]\n",
    "n_clusters_true = 4\n",
    "n_clusters_input = [2, 4, 6]"
   ]
  },
  {
   "cell_type": "code",
   "execution_count": 4,
   "metadata": {
    "colab": {
     "base_uri": "https://localhost:8080/"
    },
    "id": "iBxlG61LMdxD",
    "outputId": "09798d7a-d1f2-4e02-b71d-221878b4d4cf"
   },
   "outputs": [
    {
     "name": "stderr",
     "output_type": "stream",
     "text": [
      "WARNING:absl:No GPU/TPU found, falling back to CPU. (Set TF_CPP_MIN_LOG_LEVEL=0 and rerun for more info.)\n"
     ]
    },
    {
     "name": "stdout",
     "output_type": "stream",
     "text": [
      "Example with the precision parameter of the NIW prior being 0.01.\n",
      "Generating data ...\n",
      "Begin clustering via...\n",
      "finite mixture model with K = 2;\n",
      "finite mixture model with K = 4;\n",
      "finite mixture model with K = 6;\n",
      "DP mixture model.\n",
      "Finish clustering.\n",
      "Example with the precision parameter of the NIW prior being 0.5.\n",
      "Generating data ...\n",
      "Begin clustering via...\n",
      "finite mixture model with K = 2;\n",
      "finite mixture model with K = 4;\n",
      "finite mixture model with K = 6;\n",
      "DP mixture model.\n",
      "Finish clustering.\n"
     ]
    }
   ],
   "source": [
    "data_set = []\n",
    "samples_set = []\n",
    "for m_precision in mean_precisions:\n",
    "    print(f\"Example with the precision parameter of the NIW prior being {m_precision}.\")\n",
    "    print(\"Generating data ...\")\n",
    "    samples = []\n",
    "    # Generating the true data from a finite mixture model\n",
    "    key = random.PRNGKey(0)\n",
    "    key, *subkeys = random.split(key, 4)\n",
    "    niw_params = dict(loc=jnp.zeros(dim), mean_precision=m_precision, df=dim + 5, scale=jnp.eye(dim))\n",
    "    niw = NormalInverseWishart(**niw_params)\n",
    "    cluster_weights = random.dirichlet(subkeys[0], 5.0 * jnp.ones(n_clusters_true))\n",
    "    # cluster assignment of each datum\n",
    "    cluster_indices = random.categorical(subkeys[1], jnp.log(cluster_weights), shape=(n_data,))\n",
    "    cluster_params = niw.sample(seed=subkeys[2], sample_shape=(n_clusters_true,))\n",
    "    cluster_covs = cluster_params[\"Sigma\"]\n",
    "    cluster_means = cluster_params[\"mu\"]\n",
    "    # data\n",
    "    mean_per_datum = cluster_means[cluster_indices]\n",
    "    cov_per_datum = cluster_covs[cluster_indices]\n",
    "    key, *subkeys = random.split(key, n_data + 1)\n",
    "    data = vmap(random.multivariate_normal, in_axes=(0, 0, 0))(jnp.array(subkeys), mean_per_datum, cov_per_datum)\n",
    "    data_set.append(data)\n",
    "\n",
    "    print(\"Begin clustering via...\")\n",
    "    # Clustering via finite mixture model\n",
    "    for n_clusters in n_clusters_input:\n",
    "        print(f\"finite mixture model with K = {n_clusters};\")\n",
    "        gmm_samples = gmm_gibbs(key, burn_in + n_gibbs_samples, data, concentration, n_clusters, niw_params)\n",
    "        gmm_samples = gmm_samples[burn_in:]\n",
    "        samples.append(gmm_samples)\n",
    "\n",
    "    # Clustering via DP mixture model\n",
    "    print(f\"DP mixture model.\")\n",
    "    dp_samples = dp_mixgauss_gibbs(key, burn_in + n_gibbs_samples, data, concentration, niw_params)\n",
    "    dp_samples = dp_samples[burn_in:]\n",
    "    samples.append(dp_samples)\n",
    "\n",
    "    samples_set.append(samples)\n",
    "    print(\"Finish clustering.\")"
   ]
  },
  {
   "cell_type": "code",
   "execution_count": 5,
   "metadata": {
    "colab": {
     "base_uri": "https://localhost:8080/",
     "height": 1000
    },
    "id": "OEXRetsAMdxE",
    "outputId": "7b5c0ef7-5e2d-4640-9d3a-5f44767ceed6"
   },
   "outputs": [
    {
     "name": "stdout",
     "output_type": "stream",
     "text": [
      "(DeviceArray([0, 1], dtype=int32), DeviceArray([203,  97], dtype=int32))\n"
     ]
    },
    {
     "name": "stderr",
     "output_type": "stream",
     "text": [
      "/opt/anaconda3/lib/python3.8/site-packages/matplotlib/cbook/__init__.py:1289: ComplexWarning: Casting complex values to real discards the imaginary part\n",
      "  return np.asarray(x, float)\n",
      "/opt/anaconda3/lib/python3.8/site-packages/matplotlib/cbook/__init__.py:1289: ComplexWarning: Casting complex values to real discards the imaginary part\n",
      "  return np.asarray(x, float)\n"
     ]
    },
    {
     "name": "stdout",
     "output_type": "stream",
     "text": [
      "(DeviceArray([0, 1, 2], dtype=int32), DeviceArray([ 23,  72, 205], dtype=int32))\n"
     ]
    },
    {
     "name": "stderr",
     "output_type": "stream",
     "text": [
      "/opt/anaconda3/lib/python3.8/site-packages/matplotlib/cbook/__init__.py:1289: ComplexWarning: Casting complex values to real discards the imaginary part\n",
      "  return np.asarray(x, float)\n",
      "/opt/anaconda3/lib/python3.8/site-packages/matplotlib/cbook/__init__.py:1289: ComplexWarning: Casting complex values to real discards the imaginary part\n",
      "  return np.asarray(x, float)\n",
      "/opt/anaconda3/lib/python3.8/site-packages/matplotlib/cbook/__init__.py:1289: ComplexWarning: Casting complex values to real discards the imaginary part\n",
      "  return np.asarray(x, float)\n"
     ]
    },
    {
     "name": "stdout",
     "output_type": "stream",
     "text": [
      "(DeviceArray([1, 2, 4, 5], dtype=int32), DeviceArray([ 21,  36, 171,  72], dtype=int32))\n"
     ]
    },
    {
     "name": "stderr",
     "output_type": "stream",
     "text": [
      "/opt/anaconda3/lib/python3.8/site-packages/matplotlib/cbook/__init__.py:1289: ComplexWarning: Casting complex values to real discards the imaginary part\n",
      "  return np.asarray(x, float)\n",
      "/opt/anaconda3/lib/python3.8/site-packages/matplotlib/cbook/__init__.py:1289: ComplexWarning: Casting complex values to real discards the imaginary part\n",
      "  return np.asarray(x, float)\n",
      "/opt/anaconda3/lib/python3.8/site-packages/matplotlib/cbook/__init__.py:1289: ComplexWarning: Casting complex values to real discards the imaginary part\n",
      "  return np.asarray(x, float)\n",
      "/opt/anaconda3/lib/python3.8/site-packages/matplotlib/cbook/__init__.py:1289: ComplexWarning: Casting complex values to real discards the imaginary part\n",
      "  return np.asarray(x, float)\n"
     ]
    },
    {
     "name": "stdout",
     "output_type": "stream",
     "text": [
      "(DeviceArray([0, 3, 4, 5], dtype=int32), DeviceArray([ 22,  72,  29, 177], dtype=int32))\n"
     ]
    },
    {
     "name": "stderr",
     "output_type": "stream",
     "text": [
      "/opt/anaconda3/lib/python3.8/site-packages/matplotlib/cbook/__init__.py:1289: ComplexWarning: Casting complex values to real discards the imaginary part\n",
      "  return np.asarray(x, float)\n",
      "/opt/anaconda3/lib/python3.8/site-packages/matplotlib/cbook/__init__.py:1289: ComplexWarning: Casting complex values to real discards the imaginary part\n",
      "  return np.asarray(x, float)\n",
      "/opt/anaconda3/lib/python3.8/site-packages/matplotlib/cbook/__init__.py:1289: ComplexWarning: Casting complex values to real discards the imaginary part\n",
      "  return np.asarray(x, float)\n",
      "/opt/anaconda3/lib/python3.8/site-packages/matplotlib/cbook/__init__.py:1289: ComplexWarning: Casting complex values to real discards the imaginary part\n",
      "  return np.asarray(x, float)\n"
     ]
    },
    {
     "data": {
      "image/png": "[encoded data removed]",
      "text/plain": [
       "<Figure size 432x288 with 8 Axes>"
      ]
     },
     "metadata": {
      "needs_background": "light"
     },
     "output_type": "display_data"
    },
    {
     "name": "stdout",
     "output_type": "stream",
     "text": [
      "(DeviceArray([0, 1], dtype=int32), DeviceArray([  8, 292], dtype=int32))\n"
     ]
    },
    {
     "name": "stderr",
     "output_type": "stream",
     "text": [
      "/opt/anaconda3/lib/python3.8/site-packages/matplotlib/cbook/__init__.py:1289: ComplexWarning: Casting complex values to real discards the imaginary part\n",
      "  return np.asarray(x, float)\n",
      "/opt/anaconda3/lib/python3.8/site-packages/matplotlib/cbook/__init__.py:1289: ComplexWarning: Casting complex values to real discards the imaginary part\n",
      "  return np.asarray(x, float)\n"
     ]
    },
    {
     "name": "stdout",
     "output_type": "stream",
     "text": [
      "(DeviceArray([0, 2, 3], dtype=int32), DeviceArray([  1, 237,  62], dtype=int32))\n"
     ]
    },
    {
     "name": "stderr",
     "output_type": "stream",
     "text": [
      "/opt/anaconda3/lib/python3.8/site-packages/matplotlib/cbook/__init__.py:1289: ComplexWarning: Casting complex values to real discards the imaginary part\n",
      "  return np.asarray(x, float)\n",
      "/opt/anaconda3/lib/python3.8/site-packages/matplotlib/cbook/__init__.py:1289: ComplexWarning: Casting complex values to real discards the imaginary part\n",
      "  return np.asarray(x, float)\n"
     ]
    },
    {
     "name": "stdout",
     "output_type": "stream",
     "text": [
      "(DeviceArray([1, 2, 3, 4, 5], dtype=int32), DeviceArray([250,  31,   3,  12,   4], dtype=int32))\n"
     ]
    },
    {
     "name": "stderr",
     "output_type": "stream",
     "text": [
      "/opt/anaconda3/lib/python3.8/site-packages/matplotlib/cbook/__init__.py:1289: ComplexWarning: Casting complex values to real discards the imaginary part\n",
      "  return np.asarray(x, float)\n",
      "/opt/anaconda3/lib/python3.8/site-packages/matplotlib/cbook/__init__.py:1289: ComplexWarning: Casting complex values to real discards the imaginary part\n",
      "  return np.asarray(x, float)\n",
      "/opt/anaconda3/lib/python3.8/site-packages/matplotlib/cbook/__init__.py:1289: ComplexWarning: Casting complex values to real discards the imaginary part\n",
      "  return np.asarray(x, float)\n",
      "/opt/anaconda3/lib/python3.8/site-packages/matplotlib/cbook/__init__.py:1289: ComplexWarning: Casting complex values to real discards the imaginary part\n",
      "  return np.asarray(x, float)\n",
      "/opt/anaconda3/lib/python3.8/site-packages/matplotlib/cbook/__init__.py:1289: ComplexWarning: Casting complex values to real discards the imaginary part\n",
      "  return np.asarray(x, float)\n"
     ]
    },
    {
     "name": "stdout",
     "output_type": "stream",
     "text": [
      "(DeviceArray([0, 4, 5], dtype=int32), DeviceArray([  1,  11, 288], dtype=int32))\n"
     ]
    },
    {
     "name": "stderr",
     "output_type": "stream",
     "text": [
      "/opt/anaconda3/lib/python3.8/site-packages/matplotlib/cbook/__init__.py:1289: ComplexWarning: Casting complex values to real discards the imaginary part\n",
      "  return np.asarray(x, float)\n",
      "/opt/anaconda3/lib/python3.8/site-packages/matplotlib/cbook/__init__.py:1289: ComplexWarning: Casting complex values to real discards the imaginary part\n",
      "  return np.asarray(x, float)\n"
     ]
    },
    {
     "data": {
      "image/png": "[encoded data removed]",
      "text/plain": [
       "<Figure size 432x288 with 8 Axes>"
      ]
     },
     "metadata": {
      "needs_background": "light"
     },
     "output_type": "display_data"
    }
   ],
   "source": [
    "n_examples = 2\n",
    "for k in range(n_examples):\n",
    "    data = data_set[k]\n",
    "    fig_col = 4\n",
    "    fig_row = 2\n",
    "    fig, axes = plt.subplots(2, fig_col)\n",
    "    col_names = [\"gmm, K=2\", \"gmm, K=4\", \"gmm, K=6\", \"DP\"]\n",
    "    for i in range(fig_col):\n",
    "        samples = samples_set[k][i]\n",
    "        final = samples[-1]\n",
    "        print(jnp.unique(final, return_counts=True))\n",
    "        # Plot the final cluster\n",
    "        ax = axes[0, i]\n",
    "        ax.set_title(col_names[i])\n",
    "        ax.scatter(data[:, 0], data[:, 1])\n",
    "        final_clusters = samples[-1, :]\n",
    "        for cluster_index in jnp.unique(final_clusters):\n",
    "            subset = data[final_clusters == cluster_index, :]\n",
    "            if subset.shape[0] == 1:\n",
    "                continue\n",
    "            mu = jnp.atleast_2d(jnp.mean(subset, axis=0)).T\n",
    "            sig = sqrtm(jnp.cov(subset, rowvar=False))\n",
    "            bb = jnp.arange(0, 2 * jnp.pi, 0.02)\n",
    "            circ = mu.dot(jnp.ones((1, len(bb)))) + sig.dot(jnp.vstack([jnp.sin(bb), jnp.cos(bb)]))\n",
    "            ax.plot(circ[0, :], circ[1, :], linewidth=1.5, color=\"k\")\n",
    "\n",
    "        # Histogram of the frequences of number of clusters\n",
    "        # returned by the Gibbs sampler\n",
    "        ax = axes[1, i]\n",
    "        n_clusters = jnp.array([len(jnp.unique(s)) for s in samples])\n",
    "        unique_ns, unique_counts = np.unique(n_clusters, return_counts=True)\n",
    "        ax.bar(unique_ns.astype(str), unique_counts, width=0.8)\n",
    "\n",
    "    plt.show()"
   ]
  }
 ],
 "metadata": {
  "colab": {
   "collapsed_sections": [],
   "name": "dp_mixgauss_cluster.ipynb",
   "provenance": []
  },
  "kernelspec": {
   "display_name": "Python 3.8.5 ('base')",
   "language": "python",
   "name": "python3"
  },
  "language_info": {
   "codemirror_mode": {
    "name": "ipython",
    "version": 3
   },
   "file_extension": ".py",
   "mimetype": "text/x-python",
   "name": "python",
   "nbconvert_exporter": "python",
   "pygments_lexer": "ipython3",
   "version": "3.8.5"
  },
  "orig_nbformat": 4,
  "vscode": {
   "interpreter": {
    "hash": "40d3a090f54c6569ab1632332b64b2c03c39dcf918b08424e98f38b5ae0af88f"
   }
  }
 },
 "nbformat": 4,
 "nbformat_minor": 0
}
