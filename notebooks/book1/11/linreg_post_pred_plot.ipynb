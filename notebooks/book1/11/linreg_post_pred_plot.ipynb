{
 "cells": [
  {
   "cell_type": "markdown",
   "id": "8260c11a",
   "metadata": {},
   "source": [
    "Source of this notebook is here: https://github.com/probml/pyprobml/blob/master/notebooks/book2/03/linreg_post_pred_plot"
   ]
  }
 ],
 "metadata": {
  "language_info": {
   "name": "python"
  }
 },
 "nbformat": 4,
 "nbformat_minor": 5
}
