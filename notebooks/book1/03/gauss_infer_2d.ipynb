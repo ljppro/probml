{
 "cells": [
  {
   "cell_type": "markdown",
   "metadata": {
    "id": "kV8dt83JzN1n"
   },
   "source": [
    "# Illustration of Bayesian inference for a 2d Gaussian random vector z"
   ]
  },
  {
   "cell_type": "markdown",
   "metadata": {
    "id": "wB037kg4jb-F"
   },
   "source": [
    "### Importing probml_utils library"
   ]
  },
  {
   "cell_type": "code",
   "execution_count": 1,
   "metadata": {
    "colab": {
     "base_uri": "https://localhost:8080/"
    },
    "id": "hMylJdjIulS_",
    "outputId": "516cf220-e393-4301-b434-845774f45937"
   },
   "outputs": [
    {
     "name": "stdout",
     "output_type": "stream",
     "text": [
      "Collecting git+https://github.com/probml/probml-utils.git\n",
      "  Cloning https://github.com/probml/probml-utils.git to /tmp/pip-req-build-khotuvno\n",
      "  Running command git clone -q https://github.com/probml/probml-utils.git /tmp/pip-req-build-khotuvno\n",
      "  Installing build dependencies ... \u001b[?25l\u001b[?25hdone\n",
      "  Getting requirements to build wheel ... \u001b[?25l\u001b[?25hdone\n",
      "    Preparing wheel metadata ... \u001b[?25l\u001b[?25hdone\n",
      "Requirement already satisfied: pandas in /usr/local/lib/python3.7/dist-packages (from probml-utils==0.1.dev53+geea6bd7) (1.3.5)\n",
      "Requirement already satisfied: graphviz in /usr/local/lib/python3.7/dist-packages (from probml-utils==0.1.dev53+geea6bd7) (0.10.1)\n",
      "Requirement already satisfied: scipy in /usr/local/lib/python3.7/dist-packages (from probml-utils==0.1.dev53+geea6bd7) (1.4.1)\n",
      "Collecting distrax\n",
      "  Downloading distrax-0.1.2-py3-none-any.whl (272 kB)\n",
      "\u001b[K     |████████████████████████████████| 272 kB 3.2 MB/s \n",
      "\u001b[?25hCollecting TexSoup\n",
      "  Downloading TexSoup-0.3.1.tar.gz (26 kB)\n",
      "Requirement already satisfied: regex in /usr/local/lib/python3.7/dist-packages (from probml-utils==0.1.dev53+geea6bd7) (2019.12.20)\n",
      "Requirement already satisfied: matplotlib in /usr/local/lib/python3.7/dist-packages (from probml-utils==0.1.dev53+geea6bd7) (3.2.2)\n",
      "Requirement already satisfied: scikit-learn in /usr/local/lib/python3.7/dist-packages (from probml-utils==0.1.dev53+geea6bd7) (1.0.2)\n",
      "Requirement already satisfied: jax in /usr/local/lib/python3.7/dist-packages (from probml-utils==0.1.dev53+geea6bd7) (0.3.8)\n",
      "Requirement already satisfied: jaxlib in /usr/local/lib/python3.7/dist-packages (from probml-utils==0.1.dev53+geea6bd7) (0.3.7+cuda11.cudnn805)\n",
      "Requirement already satisfied: jupyter in /usr/local/lib/python3.7/dist-packages (from probml-utils==0.1.dev53+geea6bd7) (1.0.0)\n",
      "Requirement already satisfied: firebase-admin in /usr/local/lib/python3.7/dist-packages (from probml-utils==0.1.dev53+geea6bd7) (4.4.0)\n",
      "Collecting umap\n",
      "  Downloading umap-0.1.1.tar.gz (3.2 kB)\n",
      "Requirement already satisfied: numpy in /usr/local/lib/python3.7/dist-packages (from probml-utils==0.1.dev53+geea6bd7) (1.21.6)\n",
      "Requirement already satisfied: tensorflow-probability>=0.15.0 in /usr/local/lib/python3.7/dist-packages (from distrax->probml-utils==0.1.dev53+geea6bd7) (0.16.0)\n",
      "Collecting chex>=0.0.7\n",
      "  Downloading chex-0.1.3-py3-none-any.whl (72 kB)\n",
      "\u001b[K     |████████████████████████████████| 72 kB 724 kB/s \n",
      "\u001b[?25hRequirement already satisfied: absl-py>=0.9.0 in /usr/local/lib/python3.7/dist-packages (from distrax->probml-utils==0.1.dev53+geea6bd7) (1.0.0)\n",
      "Requirement already satisfied: six in /usr/local/lib/python3.7/dist-packages (from absl-py>=0.9.0->distrax->probml-utils==0.1.dev53+geea6bd7) (1.15.0)\n",
      "Requirement already satisfied: toolz>=0.9.0 in /usr/local/lib/python3.7/dist-packages (from chex>=0.0.7->distrax->probml-utils==0.1.dev53+geea6bd7) (0.11.2)\n",
      "Requirement already satisfied: dm-tree>=0.1.5 in /usr/local/lib/python3.7/dist-packages (from chex>=0.0.7->distrax->probml-utils==0.1.dev53+geea6bd7) (0.1.7)\n",
      "Requirement already satisfied: opt-einsum in /usr/local/lib/python3.7/dist-packages (from jax->probml-utils==0.1.dev53+geea6bd7) (3.3.0)\n",
      "Requirement already satisfied: typing-extensions in /usr/local/lib/python3.7/dist-packages (from jax->probml-utils==0.1.dev53+geea6bd7) (4.2.0)\n",
      "Requirement already satisfied: flatbuffers<3.0,>=1.12 in /usr/local/lib/python3.7/dist-packages (from jaxlib->probml-utils==0.1.dev53+geea6bd7) (2.0)\n",
      "Requirement already satisfied: decorator in /usr/local/lib/python3.7/dist-packages (from tensorflow-probability>=0.15.0->distrax->probml-utils==0.1.dev53+geea6bd7) (4.4.2)\n",
      "Requirement already satisfied: gast>=0.3.2 in /usr/local/lib/python3.7/dist-packages (from tensorflow-probability>=0.15.0->distrax->probml-utils==0.1.dev53+geea6bd7) (0.5.3)\n",
      "Requirement already satisfied: cloudpickle>=1.3 in /usr/local/lib/python3.7/dist-packages (from tensorflow-probability>=0.15.0->distrax->probml-utils==0.1.dev53+geea6bd7) (1.3.0)\n",
      "Requirement already satisfied: google-api-core[grpc]<2.0.0dev,>=1.14.0 in /usr/local/lib/python3.7/dist-packages (from firebase-admin->probml-utils==0.1.dev53+geea6bd7) (1.31.5)\n",
      "Requirement already satisfied: google-api-python-client>=1.7.8 in /usr/local/lib/python3.7/dist-packages (from firebase-admin->probml-utils==0.1.dev53+geea6bd7) (1.12.11)\n",
      "Requirement already satisfied: google-cloud-storage>=1.18.0 in /usr/local/lib/python3.7/dist-packages (from firebase-admin->probml-utils==0.1.dev53+geea6bd7) (1.18.1)\n",
      "Requirement already satisfied: google-cloud-firestore>=1.4.0 in /usr/local/lib/python3.7/dist-packages (from firebase-admin->probml-utils==0.1.dev53+geea6bd7) (1.7.0)\n",
      "Requirement already satisfied: cachecontrol>=0.12.6 in /usr/local/lib/python3.7/dist-packages (from firebase-admin->probml-utils==0.1.dev53+geea6bd7) (0.12.11)\n",
      "Requirement already satisfied: requests in /usr/local/lib/python3.7/dist-packages (from cachecontrol>=0.12.6->firebase-admin->probml-utils==0.1.dev53+geea6bd7) (2.23.0)\n",
      "Requirement already satisfied: msgpack>=0.5.2 in /usr/local/lib/python3.7/dist-packages (from cachecontrol>=0.12.6->firebase-admin->probml-utils==0.1.dev53+geea6bd7) (1.0.3)\n",
      "Requirement already satisfied: googleapis-common-protos<2.0dev,>=1.6.0 in /usr/local/lib/python3.7/dist-packages (from google-api-core[grpc]<2.0.0dev,>=1.14.0->firebase-admin->probml-utils==0.1.dev53+geea6bd7) (1.56.0)\n",
      "Requirement already satisfied: google-auth<2.0dev,>=1.25.0 in /usr/local/lib/python3.7/dist-packages (from google-api-core[grpc]<2.0.0dev,>=1.14.0->firebase-admin->probml-utils==0.1.dev53+geea6bd7) (1.35.0)\n",
      "Requirement already satisfied: pytz in /usr/local/lib/python3.7/dist-packages (from google-api-core[grpc]<2.0.0dev,>=1.14.0->firebase-admin->probml-utils==0.1.dev53+geea6bd7) (2022.1)\n",
      "Requirement already satisfied: protobuf>=3.12.0 in /usr/local/lib/python3.7/dist-packages (from google-api-core[grpc]<2.0.0dev,>=1.14.0->firebase-admin->probml-utils==0.1.dev53+geea6bd7) (3.17.3)\n",
      "Requirement already satisfied: packaging>=14.3 in /usr/local/lib/python3.7/dist-packages (from google-api-core[grpc]<2.0.0dev,>=1.14.0->firebase-admin->probml-utils==0.1.dev53+geea6bd7) (21.3)\n",
      "Requirement already satisfied: setuptools>=40.3.0 in /usr/local/lib/python3.7/dist-packages (from google-api-core[grpc]<2.0.0dev,>=1.14.0->firebase-admin->probml-utils==0.1.dev53+geea6bd7) (57.4.0)\n",
      "Requirement already satisfied: grpcio<2.0dev,>=1.29.0 in /usr/local/lib/python3.7/dist-packages (from google-api-core[grpc]<2.0.0dev,>=1.14.0->firebase-admin->probml-utils==0.1.dev53+geea6bd7) (1.44.0)\n",
      "Requirement already satisfied: uritemplate<4dev,>=3.0.0 in /usr/local/lib/python3.7/dist-packages (from google-api-python-client>=1.7.8->firebase-admin->probml-utils==0.1.dev53+geea6bd7) (3.0.1)\n",
      "Requirement already satisfied: httplib2<1dev,>=0.15.0 in /usr/local/lib/python3.7/dist-packages (from google-api-python-client>=1.7.8->firebase-admin->probml-utils==0.1.dev53+geea6bd7) (0.17.4)\n",
      "Requirement already satisfied: google-auth-httplib2>=0.0.3 in /usr/local/lib/python3.7/dist-packages (from google-api-python-client>=1.7.8->firebase-admin->probml-utils==0.1.dev53+geea6bd7) (0.0.4)\n",
      "Requirement already satisfied: rsa<5,>=3.1.4 in /usr/local/lib/python3.7/dist-packages (from google-auth<2.0dev,>=1.25.0->google-api-core[grpc]<2.0.0dev,>=1.14.0->firebase-admin->probml-utils==0.1.dev53+geea6bd7) (4.8)\n",
      "Requirement already satisfied: cachetools<5.0,>=2.0.0 in /usr/local/lib/python3.7/dist-packages (from google-auth<2.0dev,>=1.25.0->google-api-core[grpc]<2.0.0dev,>=1.14.0->firebase-admin->probml-utils==0.1.dev53+geea6bd7) (4.2.4)\n",
      "Requirement already satisfied: pyasn1-modules>=0.2.1 in /usr/local/lib/python3.7/dist-packages (from google-auth<2.0dev,>=1.25.0->google-api-core[grpc]<2.0.0dev,>=1.14.0->firebase-admin->probml-utils==0.1.dev53+geea6bd7) (0.2.8)\n",
      "Requirement already satisfied: google-cloud-core<2.0dev,>=1.0.3 in /usr/local/lib/python3.7/dist-packages (from google-cloud-firestore>=1.4.0->firebase-admin->probml-utils==0.1.dev53+geea6bd7) (1.0.3)\n",
      "Requirement already satisfied: google-resumable-media<0.5.0dev,>=0.3.1 in /usr/local/lib/python3.7/dist-packages (from google-cloud-storage>=1.18.0->firebase-admin->probml-utils==0.1.dev53+geea6bd7) (0.4.1)\n",
      "Requirement already satisfied: pyparsing!=3.0.5,>=2.0.2 in /usr/local/lib/python3.7/dist-packages (from packaging>=14.3->google-api-core[grpc]<2.0.0dev,>=1.14.0->firebase-admin->probml-utils==0.1.dev53+geea6bd7) (3.0.8)\n",
      "Requirement already satisfied: pyasn1<0.5.0,>=0.4.6 in /usr/local/lib/python3.7/dist-packages (from pyasn1-modules>=0.2.1->google-auth<2.0dev,>=1.25.0->google-api-core[grpc]<2.0.0dev,>=1.14.0->firebase-admin->probml-utils==0.1.dev53+geea6bd7) (0.4.8)\n",
      "Requirement already satisfied: certifi>=2017.4.17 in /usr/local/lib/python3.7/dist-packages (from requests->cachecontrol>=0.12.6->firebase-admin->probml-utils==0.1.dev53+geea6bd7) (2021.10.8)\n",
      "Requirement already satisfied: idna<3,>=2.5 in /usr/local/lib/python3.7/dist-packages (from requests->cachecontrol>=0.12.6->firebase-admin->probml-utils==0.1.dev53+geea6bd7) (2.10)\n",
      "Requirement already satisfied: urllib3!=1.25.0,!=1.25.1,<1.26,>=1.21.1 in /usr/local/lib/python3.7/dist-packages (from requests->cachecontrol>=0.12.6->firebase-admin->probml-utils==0.1.dev53+geea6bd7) (1.24.3)\n",
      "Requirement already satisfied: chardet<4,>=3.0.2 in /usr/local/lib/python3.7/dist-packages (from requests->cachecontrol>=0.12.6->firebase-admin->probml-utils==0.1.dev53+geea6bd7) (3.0.4)\n",
      "Requirement already satisfied: ipykernel in /usr/local/lib/python3.7/dist-packages (from jupyter->probml-utils==0.1.dev53+geea6bd7) (4.10.1)\n",
      "Requirement already satisfied: notebook in /usr/local/lib/python3.7/dist-packages (from jupyter->probml-utils==0.1.dev53+geea6bd7) (5.3.1)\n",
      "Requirement already satisfied: jupyter-console in /usr/local/lib/python3.7/dist-packages (from jupyter->probml-utils==0.1.dev53+geea6bd7) (5.2.0)\n",
      "Requirement already satisfied: ipywidgets in /usr/local/lib/python3.7/dist-packages (from jupyter->probml-utils==0.1.dev53+geea6bd7) (7.7.0)\n",
      "Requirement already satisfied: qtconsole in /usr/local/lib/python3.7/dist-packages (from jupyter->probml-utils==0.1.dev53+geea6bd7) (5.3.0)\n",
      "Requirement already satisfied: nbconvert in /usr/local/lib/python3.7/dist-packages (from jupyter->probml-utils==0.1.dev53+geea6bd7) (5.6.1)\n",
      "Requirement already satisfied: traitlets>=4.1.0 in /usr/local/lib/python3.7/dist-packages (from ipykernel->jupyter->probml-utils==0.1.dev53+geea6bd7) (5.1.1)\n",
      "Requirement already satisfied: tornado>=4.0 in /usr/local/lib/python3.7/dist-packages (from ipykernel->jupyter->probml-utils==0.1.dev53+geea6bd7) (5.1.1)\n",
      "Requirement already satisfied: ipython>=4.0.0 in /usr/local/lib/python3.7/dist-packages (from ipykernel->jupyter->probml-utils==0.1.dev53+geea6bd7) (5.5.0)\n",
      "Requirement already satisfied: jupyter-client in /usr/local/lib/python3.7/dist-packages (from ipykernel->jupyter->probml-utils==0.1.dev53+geea6bd7) (5.3.5)\n",
      "Requirement already satisfied: pygments in /usr/local/lib/python3.7/dist-packages (from ipython>=4.0.0->ipykernel->jupyter->probml-utils==0.1.dev53+geea6bd7) (2.6.1)\n",
      "Requirement already satisfied: simplegeneric>0.8 in /usr/local/lib/python3.7/dist-packages (from ipython>=4.0.0->ipykernel->jupyter->probml-utils==0.1.dev53+geea6bd7) (0.8.1)\n",
      "Requirement already satisfied: pickleshare in /usr/local/lib/python3.7/dist-packages (from ipython>=4.0.0->ipykernel->jupyter->probml-utils==0.1.dev53+geea6bd7) (0.7.5)\n",
      "Requirement already satisfied: pexpect in /usr/local/lib/python3.7/dist-packages (from ipython>=4.0.0->ipykernel->jupyter->probml-utils==0.1.dev53+geea6bd7) (4.8.0)\n",
      "Requirement already satisfied: prompt-toolkit<2.0.0,>=1.0.4 in /usr/local/lib/python3.7/dist-packages (from ipython>=4.0.0->ipykernel->jupyter->probml-utils==0.1.dev53+geea6bd7) (1.0.18)\n",
      "Requirement already satisfied: wcwidth in /usr/local/lib/python3.7/dist-packages (from prompt-toolkit<2.0.0,>=1.0.4->ipython>=4.0.0->ipykernel->jupyter->probml-utils==0.1.dev53+geea6bd7) (0.2.5)\n",
      "Requirement already satisfied: nbformat>=4.2.0 in /usr/local/lib/python3.7/dist-packages (from ipywidgets->jupyter->probml-utils==0.1.dev53+geea6bd7) (5.3.0)\n",
      "Requirement already satisfied: jupyterlab-widgets>=1.0.0 in /usr/local/lib/python3.7/dist-packages (from ipywidgets->jupyter->probml-utils==0.1.dev53+geea6bd7) (1.1.0)\n",
      "Requirement already satisfied: widgetsnbextension~=3.6.0 in /usr/local/lib/python3.7/dist-packages (from ipywidgets->jupyter->probml-utils==0.1.dev53+geea6bd7) (3.6.0)\n",
      "Requirement already satisfied: ipython-genutils~=0.2.0 in /usr/local/lib/python3.7/dist-packages (from ipywidgets->jupyter->probml-utils==0.1.dev53+geea6bd7) (0.2.0)\n",
      "Requirement already satisfied: fastjsonschema in /usr/local/lib/python3.7/dist-packages (from nbformat>=4.2.0->ipywidgets->jupyter->probml-utils==0.1.dev53+geea6bd7) (2.15.3)\n",
      "Requirement already satisfied: jsonschema>=2.6 in /usr/local/lib/python3.7/dist-packages (from nbformat>=4.2.0->ipywidgets->jupyter->probml-utils==0.1.dev53+geea6bd7) (4.3.3)\n",
      "Requirement already satisfied: jupyter-core in /usr/local/lib/python3.7/dist-packages (from nbformat>=4.2.0->ipywidgets->jupyter->probml-utils==0.1.dev53+geea6bd7) (4.10.0)\n",
      "Requirement already satisfied: importlib-resources>=1.4.0 in /usr/local/lib/python3.7/dist-packages (from jsonschema>=2.6->nbformat>=4.2.0->ipywidgets->jupyter->probml-utils==0.1.dev53+geea6bd7) (5.7.1)\n",
      "Requirement already satisfied: pyrsistent!=0.17.0,!=0.17.1,!=0.17.2,>=0.14.0 in /usr/local/lib/python3.7/dist-packages (from jsonschema>=2.6->nbformat>=4.2.0->ipywidgets->jupyter->probml-utils==0.1.dev53+geea6bd7) (0.18.1)\n",
      "Requirement already satisfied: attrs>=17.4.0 in /usr/local/lib/python3.7/dist-packages (from jsonschema>=2.6->nbformat>=4.2.0->ipywidgets->jupyter->probml-utils==0.1.dev53+geea6bd7) (21.4.0)\n",
      "Requirement already satisfied: importlib-metadata in /usr/local/lib/python3.7/dist-packages (from jsonschema>=2.6->nbformat>=4.2.0->ipywidgets->jupyter->probml-utils==0.1.dev53+geea6bd7) (4.11.3)\n",
      "Requirement already satisfied: zipp>=3.1.0 in /usr/local/lib/python3.7/dist-packages (from importlib-resources>=1.4.0->jsonschema>=2.6->nbformat>=4.2.0->ipywidgets->jupyter->probml-utils==0.1.dev53+geea6bd7) (3.8.0)\n",
      "Requirement already satisfied: Send2Trash in /usr/local/lib/python3.7/dist-packages (from notebook->jupyter->probml-utils==0.1.dev53+geea6bd7) (1.8.0)\n",
      "Requirement already satisfied: terminado>=0.8.1 in /usr/local/lib/python3.7/dist-packages (from notebook->jupyter->probml-utils==0.1.dev53+geea6bd7) (0.13.3)\n",
      "Requirement already satisfied: jinja2 in /usr/local/lib/python3.7/dist-packages (from notebook->jupyter->probml-utils==0.1.dev53+geea6bd7) (2.11.3)\n",
      "Requirement already satisfied: pyzmq>=13 in /usr/local/lib/python3.7/dist-packages (from jupyter-client->ipykernel->jupyter->probml-utils==0.1.dev53+geea6bd7) (22.3.0)\n",
      "Requirement already satisfied: python-dateutil>=2.1 in /usr/local/lib/python3.7/dist-packages (from jupyter-client->ipykernel->jupyter->probml-utils==0.1.dev53+geea6bd7) (2.8.2)\n",
      "Requirement already satisfied: ptyprocess in /usr/local/lib/python3.7/dist-packages (from terminado>=0.8.1->notebook->jupyter->probml-utils==0.1.dev53+geea6bd7) (0.7.0)\n",
      "Requirement already satisfied: MarkupSafe>=0.23 in /usr/local/lib/python3.7/dist-packages (from jinja2->notebook->jupyter->probml-utils==0.1.dev53+geea6bd7) (2.0.1)\n",
      "Requirement already satisfied: kiwisolver>=1.0.1 in /usr/local/lib/python3.7/dist-packages (from matplotlib->probml-utils==0.1.dev53+geea6bd7) (1.4.2)\n",
      "Requirement already satisfied: cycler>=0.10 in /usr/local/lib/python3.7/dist-packages (from matplotlib->probml-utils==0.1.dev53+geea6bd7) (0.11.0)\n",
      "Requirement already satisfied: bleach in /usr/local/lib/python3.7/dist-packages (from nbconvert->jupyter->probml-utils==0.1.dev53+geea6bd7) (5.0.0)\n",
      "Requirement already satisfied: entrypoints>=0.2.2 in /usr/local/lib/python3.7/dist-packages (from nbconvert->jupyter->probml-utils==0.1.dev53+geea6bd7) (0.4)\n",
      "Requirement already satisfied: testpath in /usr/local/lib/python3.7/dist-packages (from nbconvert->jupyter->probml-utils==0.1.dev53+geea6bd7) (0.6.0)\n",
      "Requirement already satisfied: mistune<2,>=0.8.1 in /usr/local/lib/python3.7/dist-packages (from nbconvert->jupyter->probml-utils==0.1.dev53+geea6bd7) (0.8.4)\n",
      "Requirement already satisfied: defusedxml in /usr/local/lib/python3.7/dist-packages (from nbconvert->jupyter->probml-utils==0.1.dev53+geea6bd7) (0.7.1)\n",
      "Requirement already satisfied: pandocfilters>=1.4.1 in /usr/local/lib/python3.7/dist-packages (from nbconvert->jupyter->probml-utils==0.1.dev53+geea6bd7) (1.5.0)\n",
      "Requirement already satisfied: webencodings in /usr/local/lib/python3.7/dist-packages (from bleach->nbconvert->jupyter->probml-utils==0.1.dev53+geea6bd7) (0.5.1)\n",
      "Requirement already satisfied: qtpy>=2.0.1 in /usr/local/lib/python3.7/dist-packages (from qtconsole->jupyter->probml-utils==0.1.dev53+geea6bd7) (2.1.0)\n",
      "Requirement already satisfied: threadpoolctl>=2.0.0 in /usr/local/lib/python3.7/dist-packages (from scikit-learn->probml-utils==0.1.dev53+geea6bd7) (3.1.0)\n",
      "Requirement already satisfied: joblib>=0.11 in /usr/local/lib/python3.7/dist-packages (from scikit-learn->probml-utils==0.1.dev53+geea6bd7) (1.1.0)\n",
      "Building wheels for collected packages: probml-utils, TexSoup, umap\n",
      "  Building wheel for probml-utils (PEP 517) ... \u001b[?25l\u001b[?25hdone\n",
      "  Created wheel for probml-utils: filename=probml_utils-0.1.dev53+geea6bd7-py3-none-any.whl size=45129 sha256=9b8371a3ba0a6449e0f1f09ac22177c1aede440b74471e8ff7d53f70471a2259\n",
      "  Stored in directory: /tmp/pip-ephem-wheel-cache-w_w5pj2b/wheels/37/8f/cb/b845cd5de3d7f648717815f9c27bec49975bf58637a97fa6be\n",
      "  Building wheel for TexSoup (setup.py) ... \u001b[?25l\u001b[?25hdone\n",
      "  Created wheel for TexSoup: filename=TexSoup-0.3.1-py3-none-any.whl size=27666 sha256=7bc41ecd713558498455a48b63b86bc5eb4e39c65bec3896335ea0322faebcf1\n",
      "  Stored in directory: /root/.cache/pip/wheels/2b/8e/c6/7ee3f9f9776fd18c0ccb04492902ed42225b6dfab3c68f14c0\n",
      "  Building wheel for umap (setup.py) ... \u001b[?25l\u001b[?25hdone\n",
      "  Created wheel for umap: filename=umap-0.1.1-py3-none-any.whl size=3565 sha256=07f2c793d8524e02b6cb0105ec72388a948c70acc682333907324d262dbf42db\n",
      "  Stored in directory: /root/.cache/pip/wheels/65/55/85/945cfb3d67373767e4dc3e9629300a926edde52633df4f0efe\n",
      "Successfully built probml-utils TexSoup umap\n",
      "Installing collected packages: chex, umap, TexSoup, distrax, probml-utils\n",
      "Successfully installed TexSoup-0.3.1 chex-0.1.3 distrax-0.1.2 probml-utils-0.1.dev53+geea6bd7 umap-0.1.1\n"
     ]
    }
   ],
   "source": [
    "try:\n",
    "    from probml_utils import savefig, latexify, is_latexify_enabled\n",
    "except ModuleNotFoundError:\n",
    "    %pip install -qq git+https://github.com/probml/probml-utils.git\n",
    "    from probml_utils import savefig, latexify, is_latexify_enabled"
   ]
  },
  {
   "cell_type": "markdown",
   "metadata": {
    "id": "Aj_ZHIYvjhlr"
   },
   "source": [
    "### Importing other libraries"
   ]
  },
  {
   "cell_type": "code",
   "execution_count": 2,
   "metadata": {
    "id": "8fd_Z7xcdxmB"
   },
   "outputs": [],
   "source": [
    "import jax\n",
    "import jax.numpy as jnp\n",
    "import matplotlib.pyplot as plt\n",
    "import seaborn as sns\n",
    "from jax.numpy.linalg import cholesky\n",
    "from jax.scipy.linalg import inv\n",
    "from scipy.stats import multivariate_normal"
   ]
  },
  {
   "cell_type": "markdown",
   "metadata": {
    "id": "NsqugWFnjmVM"
   },
   "source": [
    "### Set latexify params"
   ]
  },
  {
   "cell_type": "code",
   "execution_count": 3,
   "metadata": {
    "colab": {
     "base_uri": "https://localhost:8080/"
    },
    "id": "g-gO9CA6xwnF",
    "outputId": "cdd89d4e-1e70-498e-85ae-379a39aa626c"
   },
   "outputs": [
    {
     "name": "stderr",
     "output_type": "stream",
     "text": [
      "/usr/local/lib/python3.7/dist-packages/probml_utils/plotting.py:26: UserWarning: LATEXIFY environment variable not set, not latexifying\n",
      "  warnings.warn(\"LATEXIFY environment variable not set, not latexifying\")\n"
     ]
    }
   ],
   "source": [
    "latexify(width_scale_factor=3, fig_height=1.5)"
   ]
  },
  {
   "cell_type": "markdown",
   "metadata": {
    "id": "veI4lwHNjrPd"
   },
   "source": [
    "### Function declarations"
   ]
  },
  {
   "cell_type": "code",
   "execution_count": 4,
   "metadata": {
    "id": "Ve8rzQiw4Eui"
   },
   "outputs": [],
   "source": [
    "def gaussSample(mu, sigma, n, key):\n",
    "    decomposition = cholesky(sigma)\n",
    "    normal_distribution = jax.random.normal(key, shape=(len(mu), n))\n",
    "    return jnp.dot(decomposition, normal_distribution).T + mu"
   ]
  },
  {
   "cell_type": "code",
   "execution_count": 5,
   "metadata": {
    "id": "7dnfhg7h31p1"
   },
   "outputs": [],
   "source": [
    "def plot_data(x, muTrue, savename, title, fig=None, ax=None):\n",
    "    marker_size = 4 if is_latexify_enabled() else None\n",
    "    if ax is None:\n",
    "        fig, ax = plt.subplots()\n",
    "    ax.plot(x[:, 0], x[:, 1], \"o\", markerfacecolor=\"b\")\n",
    "    ax.set_ylim([-1, 1])\n",
    "    ax.set_xlim([-1, 1])\n",
    "    ax.set_title(title)\n",
    "    ax.set_xlabel(\"$y_1$\")\n",
    "    ax.set_ylabel(\"$y_2$\")\n",
    "    ax.plot(muTrue[0], muTrue[1], \"x\", markerfacecolor=\"black\", color=\"k\")\n",
    "\n",
    "    sns.despine()\n",
    "    if len(savename) > 0:\n",
    "        savefig(savename)\n",
    "    return fig, ax"
   ]
  },
  {
   "cell_type": "code",
   "execution_count": 6,
   "metadata": {
    "id": "ATOm8injxRGb"
   },
   "outputs": [],
   "source": [
    "def make_contour_plot(x1, x2, p, savename, title, fig=None, ax=None):\n",
    "    if ax is None:\n",
    "        fig, ax = plt.subplots()\n",
    "    contour = ax.contourf(x1, x2, p)\n",
    "    fig.colorbar(contour, ax=ax)\n",
    "\n",
    "    ax.set_ylim([-1, 1])\n",
    "    ax.set_xlim([-1, 1])\n",
    "    ax.set_title(title)\n",
    "    ax.set_xlabel(\"$z_1$\")\n",
    "    ax.set_ylabel(\"$z_2$\")\n",
    "    plt.gca().set_aspect(\"equal\")\n",
    "    sns.despine()\n",
    "    if len(savename) > 0:\n",
    "        savefig(savename)\n",
    "    return fig, ax"
   ]
  },
  {
   "cell_type": "code",
   "execution_count": 7,
   "metadata": {
    "colab": {
     "base_uri": "https://localhost:8080/",
     "height": 944
    },
    "id": "A-zIn0L_yaAj",
    "outputId": "4525792b-42c1-4f55-84c8-523645a2c9b6"
   },
   "outputs": [
    {
     "name": "stderr",
     "output_type": "stream",
     "text": [
      "WARNING:absl:No GPU/TPU found, falling back to CPU. (Set TF_CPP_MIN_LOG_LEVEL=0 and rerun for more info.)\n",
      "/usr/local/lib/python3.7/dist-packages/probml_utils/plotting.py:79: UserWarning: set FIG_DIR environment variable to save figures\n",
      "  warnings.warn(\"set FIG_DIR environment variable to save figures\")\n"
     ]
    },
    {
     "data": {
      "text/plain": [
       "(<Figure size 432x288 with 2 Axes>,\n",
       " <matplotlib.axes._subplots.AxesSubplot at 0x7f47604f2350>)"
      ]
     },
     "execution_count": 7,
     "metadata": {},
     "output_type": "execute_result"
    },
    {
     "data": {
      "image/png": "[encoded data removed]",
      "text/plain": [
       "<Figure size 432x288 with 1 Axes>"
      ]
     },
     "metadata": {
      "needs_background": "light"
     },
     "output_type": "display_data"
    },
    {
     "data": {
      "image/png": "[encoded data removed]",
      "text/plain": [
       "<Figure size 432x288 with 2 Axes>"
      ]
     },
     "metadata": {
      "needs_background": "light"
     },
     "output_type": "display_data"
    },
    {
     "data": {
      "image/png": "[encoded data removed]",
      "text/plain": [
       "<Figure size 432x288 with 2 Axes>"
      ]
     },
     "metadata": {
      "needs_background": "light"
     },
     "output_type": "display_data"
    }
   ],
   "source": [
    "data = {}\n",
    "prior = {}\n",
    "post = {}\n",
    "key = jax.random.PRNGKey(5)\n",
    "\n",
    "n_points = 10  # number of sample data points\n",
    "\n",
    "# Part A\n",
    "z = jnp.array([0.5, 0.5])\n",
    "sigma_data = 0.1 * jnp.array([[2, 1], [1, 1]])\n",
    "\n",
    "data[\"mu\"] = z\n",
    "data[\"Sigma\"] = sigma_data\n",
    "sample_points = gaussSample(data[\"mu\"], data[\"Sigma\"], n_points, key)\n",
    "plot_data(sample_points, z, \"gauss_infer_2d_(a)_latexified\", \"Data\")\n",
    "\n",
    "# Part B\n",
    "xyrange = jnp.array([[-1, 1], [-1, 1]])\n",
    "npoints = 100j\n",
    "prior[\"mu\"] = jnp.array([0, 0])\n",
    "prior[\"Sigma\"] = 0.1 * jnp.eye(2)\n",
    "mesh = jnp.mgrid[xyrange[0, 0] : xyrange[0, 1] : npoints, xyrange[1, 0] : xyrange[1, 1] : npoints]\n",
    "x1, x2 = mesh[0], mesh[1]\n",
    "points = jnp.vstack([jnp.ravel(x1), jnp.ravel(x2)]).T\n",
    "prior_pdf = multivariate_normal.pdf(points, mean=prior[\"mu\"], cov=prior[\"Sigma\"]).reshape(x1.shape[0], x2.shape[0])\n",
    "\n",
    "make_contour_plot(x1, x2, prior_pdf, \"gauss_infer_2d_(b)_latexified\", \"Prior\")\n",
    "\n",
    "# Part C\n",
    "data_after_n = sample_points[:n_points, :]\n",
    "s0_inv = inv(prior[\"Sigma\"])\n",
    "s_inv = inv(sigma_data)\n",
    "post[\"Sigma\"] = inv(s0_inv + n_points * s_inv)\n",
    "mean = jnp.mean(data_after_n, 0)\n",
    "post[\"mu\"] = jnp.dot(post[\"Sigma\"], (jnp.dot(n_points, jnp.dot(s_inv, mean)) + jnp.dot(s0_inv, prior[\"mu\"])))\n",
    "post_pdf = multivariate_normal.pdf(points, mean=post[\"mu\"], cov=post[\"Sigma\"]).reshape(x1.shape[0], x2.shape[0])\n",
    "make_contour_plot(x1, x2, post_pdf, \"gauss_infer_2d_(c)_latexified\", \"Posterior after \" + str(n_points) + \" points\")"
   ]
  },
  {
   "cell_type": "code",
   "execution_count": 8,
   "metadata": {
    "colab": {
     "base_uri": "https://localhost:8080/",
     "height": 352
    },
    "id": "j7lS5tD4byLk",
    "outputId": "3630e957-7942-4623-9d61-6dbe64457893"
   },
   "outputs": [
    {
     "data": {
      "image/png": "[encoded data removed]",
      "text/plain": [
       "<Figure size 1080x360 with 5 Axes>"
      ]
     },
     "metadata": {
      "needs_background": "light"
     },
     "output_type": "display_data"
    }
   ],
   "source": [
    "fig, (ax1, ax2, ax3) = plt.subplots(1, 3, figsize=(15, 5))\n",
    "plot_data(sample_points, z, \"\", \"Data \", fig=fig, ax=ax1)\n",
    "make_contour_plot(x1, x2, prior_pdf, \"\", \"Prior \", fig=fig, ax=ax2)\n",
    "make_contour_plot(x1, x2, post_pdf, \"\", \"Posterior after \" + str(n_points) + \" points\", fig=fig, ax=ax3)\n",
    "plt.show()"
   ]
  },
  {
   "cell_type": "markdown",
   "metadata": {
    "id": "ZGHdlkChkEOM"
   },
   "source": [
    "### Interactive plot"
   ]
  },
  {
   "cell_type": "code",
   "execution_count": 9,
   "metadata": {
    "colab": {
     "base_uri": "https://localhost:8080/",
     "height": 361,
     "referenced_widgets": [
      "6557b93cdba04cd8a210426662ff4ae5",
      "dfb2dded453b4e0cadb00030171dec81",
      "b6b8fc10566e4df198f60f14ae82b634",
      "7d1908c142a643289a2b0b2147cc99df",
      "d34d1219db274ed9a22ab773ec1f4f3d",
      "bab25a894ad24dfc860f7676c8103484",
      "ccb1d8424e674d3096d59761c601b27e",
      "8bb5443e3faf471f97014f29df4d25cc",
      "13362742f0b84c20b9e46dfdf1f6b5dc",
      "9388e86738644254b07e8984d685f5a8"
     ]
    },
    "id": "SV_IOj6wJRAq",
    "outputId": "16a73102-ed59-4ecf-93ae-9d7057f5b5ae"
   },
   "outputs": [
    {
     "data": {
      "application/vnd.jupyter.widget-view+json": {
       "model_id": "6557b93cdba04cd8a210426662ff4ae5",
       "version_major": 2,
       "version_minor": 0
      },
      "text/plain": [
       "interactive(children=(IntSlider(value=5, description='random_state', max=10, min=1), IntSlider(value=10, descr…"
      ]
     },
     "metadata": {},
     "output_type": "display_data"
    }
   ],
   "source": [
    "from ipywidgets import interact\n",
    "\n",
    "\n",
    "@interact(random_state=(1, 10), n_=(1, 20))\n",
    "def generate_random(random_state, n_=10):\n",
    "    key = jax.random.PRNGKey(random_state)\n",
    "    sample_points = gaussSample(data[\"mu\"], data[\"Sigma\"], n_, key)\n",
    "    plot_data(sample_points, z, \"\", \"Data\")\n",
    "    plt.show()"
   ]
  }
 ],
 "metadata": {
  "colab": {
   "collapsed_sections": [],
   "name": "gauss_infer_2d.ipynb",
   "provenance": []
  },
  "kernelspec": {
   "display_name": "Python 3",
   "name": "python3"
  },
  "language_info": {
   "name": "python"
  },
  "widgets": {
   "application/vnd.jupyter.widget-state+json": {
    "13362742f0b84c20b9e46dfdf1f6b5dc": {
     "model_module": "@jupyter-widgets/controls",
     "model_module_version": "1.5.0",
     "model_name": "SliderStyleModel",
     "state": {
      "_model_module": "@jupyter-widgets/controls",
      "_model_module_version": "1.5.0",
      "_model_name": "SliderStyleModel",
      "_view_count": null,
      "_view_module": "@jupyter-widgets/base",
      "_view_module_version": "1.2.0",
      "_view_name": "StyleView",
      "description_width": "",
      "handle_color": null
     }
    },
    "6557b93cdba04cd8a210426662ff4ae5": {
     "model_module": "@jupyter-widgets/controls",
     "model_module_version": "1.5.0",
     "model_name": "VBoxModel",
     "state": {
      "_dom_classes": [
       "widget-interact"
      ],
      "_model_module": "@jupyter-widgets/controls",
      "_model_module_version": "1.5.0",
      "_model_name": "VBoxModel",
      "_view_count": null,
      "_view_module": "@jupyter-widgets/controls",
      "_view_module_version": "1.5.0",
      "_view_name": "VBoxView",
      "box_style": "",
      "children": [
       "IPY_MODEL_dfb2dded453b4e0cadb00030171dec81",
       "IPY_MODEL_b6b8fc10566e4df198f60f14ae82b634",
       "IPY_MODEL_7d1908c142a643289a2b0b2147cc99df"
      ],
      "layout": "IPY_MODEL_d34d1219db274ed9a22ab773ec1f4f3d"
     }
    },
    "7d1908c142a643289a2b0b2147cc99df": {
     "model_module": "@jupyter-widgets/output",
     "model_module_version": "1.0.0",
     "model_name": "OutputModel",
     "state": {
      "_dom_classes": [],
      "_model_module": "@jupyter-widgets/output",
      "_model_module_version": "1.0.0",
      "_model_name": "OutputModel",
      "_view_count": null,
      "_view_module": "@jupyter-widgets/output",
      "_view_module_version": "1.0.0",
      "_view_name": "OutputView",
      "layout": "IPY_MODEL_9388e86738644254b07e8984d685f5a8",
      "msg_id": "",
      "outputs": [
       {
        "data": {
         "image/png": "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\n",
         "text/plain": "<Figure size 432x288 with 1 Axes>"
        },
        "metadata": {
         "needs_background": "light"
        },
        "output_type": "display_data"
       }
      ]
     }
    },
    "8bb5443e3faf471f97014f29df4d25cc": {
     "model_module": "@jupyter-widgets/base",
     "model_module_version": "1.2.0",
     "model_name": "LayoutModel",
     "state": {
      "_model_module": "@jupyter-widgets/base",
      "_model_module_version": "1.2.0",
      "_model_name": "LayoutModel",
      "_view_count": null,
      "_view_module": "@jupyter-widgets/base",
      "_view_module_version": "1.2.0",
      "_view_name": "LayoutView",
      "align_content": null,
      "align_items": null,
      "align_self": null,
      "border": null,
      "bottom": null,
      "display": null,
      "flex": null,
      "flex_flow": null,
      "grid_area": null,
      "grid_auto_columns": null,
      "grid_auto_flow": null,
      "grid_auto_rows": null,
      "grid_column": null,
      "grid_gap": null,
      "grid_row": null,
      "grid_template_areas": null,
      "grid_template_columns": null,
      "grid_template_rows": null,
      "height": null,
      "justify_content": null,
      "justify_items": null,
      "left": null,
      "margin": null,
      "max_height": null,
      "max_width": null,
      "min_height": null,
      "min_width": null,
      "object_fit": null,
      "object_position": null,
      "order": null,
      "overflow": null,
      "overflow_x": null,
      "overflow_y": null,
      "padding": null,
      "right": null,
      "top": null,
      "visibility": null,
      "width": null
     }
    },
    "9388e86738644254b07e8984d685f5a8": {
     "model_module": "@jupyter-widgets/base",
     "model_module_version": "1.2.0",
     "model_name": "LayoutModel",
     "state": {
      "_model_module": "@jupyter-widgets/base",
      "_model_module_version": "1.2.0",
      "_model_name": "LayoutModel",
      "_view_count": null,
      "_view_module": "@jupyter-widgets/base",
      "_view_module_version": "1.2.0",
      "_view_name": "LayoutView",
      "align_content": null,
      "align_items": null,
      "align_self": null,
      "border": null,
      "bottom": null,
      "display": null,
      "flex": null,
      "flex_flow": null,
      "grid_area": null,
      "grid_auto_columns": null,
      "grid_auto_flow": null,
      "grid_auto_rows": null,
      "grid_column": null,
      "grid_gap": null,
      "grid_row": null,
      "grid_template_areas": null,
      "grid_template_columns": null,
      "grid_template_rows": null,
      "height": null,
      "justify_content": null,
      "justify_items": null,
      "left": null,
      "margin": null,
      "max_height": null,
      "max_width": null,
      "min_height": null,
      "min_width": null,
      "object_fit": null,
      "object_position": null,
      "order": null,
      "overflow": null,
      "overflow_x": null,
      "overflow_y": null,
      "padding": null,
      "right": null,
      "top": null,
      "visibility": null,
      "width": null
     }
    },
    "b6b8fc10566e4df198f60f14ae82b634": {
     "model_module": "@jupyter-widgets/controls",
     "model_module_version": "1.5.0",
     "model_name": "IntSliderModel",
     "state": {
      "_dom_classes": [],
      "_model_module": "@jupyter-widgets/controls",
      "_model_module_version": "1.5.0",
      "_model_name": "IntSliderModel",
      "_view_count": null,
      "_view_module": "@jupyter-widgets/controls",
      "_view_module_version": "1.5.0",
      "_view_name": "IntSliderView",
      "continuous_update": true,
      "description": "n_",
      "description_tooltip": null,
      "disabled": false,
      "layout": "IPY_MODEL_8bb5443e3faf471f97014f29df4d25cc",
      "max": 20,
      "min": 1,
      "orientation": "horizontal",
      "readout": true,
      "readout_format": "d",
      "step": 1,
      "style": "IPY_MODEL_13362742f0b84c20b9e46dfdf1f6b5dc",
      "value": 10
     }
    },
    "bab25a894ad24dfc860f7676c8103484": {
     "model_module": "@jupyter-widgets/base",
     "model_module_version": "1.2.0",
     "model_name": "LayoutModel",
     "state": {
      "_model_module": "@jupyter-widgets/base",
      "_model_module_version": "1.2.0",
      "_model_name": "LayoutModel",
      "_view_count": null,
      "_view_module": "@jupyter-widgets/base",
      "_view_module_version": "1.2.0",
      "_view_name": "LayoutView",
      "align_content": null,
      "align_items": null,
      "align_self": null,
      "border": null,
      "bottom": null,
      "display": null,
      "flex": null,
      "flex_flow": null,
      "grid_area": null,
      "grid_auto_columns": null,
      "grid_auto_flow": null,
      "grid_auto_rows": null,
      "grid_column": null,
      "grid_gap": null,
      "grid_row": null,
      "grid_template_areas": null,
      "grid_template_columns": null,
      "grid_template_rows": null,
      "height": null,
      "justify_content": null,
      "justify_items": null,
      "left": null,
      "margin": null,
      "max_height": null,
      "max_width": null,
      "min_height": null,
      "min_width": null,
      "object_fit": null,
      "object_position": null,
      "order": null,
      "overflow": null,
      "overflow_x": null,
      "overflow_y": null,
      "padding": null,
      "right": null,
      "top": null,
      "visibility": null,
      "width": null
     }
    },
    "ccb1d8424e674d3096d59761c601b27e": {
     "model_module": "@jupyter-widgets/controls",
     "model_module_version": "1.5.0",
     "model_name": "SliderStyleModel",
     "state": {
      "_model_module": "@jupyter-widgets/controls",
      "_model_module_version": "1.5.0",
      "_model_name": "SliderStyleModel",
      "_view_count": null,
      "_view_module": "@jupyter-widgets/base",
      "_view_module_version": "1.2.0",
      "_view_name": "StyleView",
      "description_width": "",
      "handle_color": null
     }
    },
    "d34d1219db274ed9a22ab773ec1f4f3d": {
     "model_module": "@jupyter-widgets/base",
     "model_module_version": "1.2.0",
     "model_name": "LayoutModel",
     "state": {
      "_model_module": "@jupyter-widgets/base",
      "_model_module_version": "1.2.0",
      "_model_name": "LayoutModel",
      "_view_count": null,
      "_view_module": "@jupyter-widgets/base",
      "_view_module_version": "1.2.0",
      "_view_name": "LayoutView",
      "align_content": null,
      "align_items": null,
      "align_self": null,
      "border": null,
      "bottom": null,
      "display": null,
      "flex": null,
      "flex_flow": null,
      "grid_area": null,
      "grid_auto_columns": null,
      "grid_auto_flow": null,
      "grid_auto_rows": null,
      "grid_column": null,
      "grid_gap": null,
      "grid_row": null,
      "grid_template_areas": null,
      "grid_template_columns": null,
      "grid_template_rows": null,
      "height": null,
      "justify_content": null,
      "justify_items": null,
      "left": null,
      "margin": null,
      "max_height": null,
      "max_width": null,
      "min_height": null,
      "min_width": null,
      "object_fit": null,
      "object_position": null,
      "order": null,
      "overflow": null,
      "overflow_x": null,
      "overflow_y": null,
      "padding": null,
      "right": null,
      "top": null,
      "visibility": null,
      "width": null
     }
    },
    "dfb2dded453b4e0cadb00030171dec81": {
     "model_module": "@jupyter-widgets/controls",
     "model_module_version": "1.5.0",
     "model_name": "IntSliderModel",
     "state": {
      "_dom_classes": [],
      "_model_module": "@jupyter-widgets/controls",
      "_model_module_version": "1.5.0",
      "_model_name": "IntSliderModel",
      "_view_count": null,
      "_view_module": "@jupyter-widgets/controls",
      "_view_module_version": "1.5.0",
      "_view_name": "IntSliderView",
      "continuous_update": true,
      "description": "random_state",
      "description_tooltip": null,
      "disabled": false,
      "layout": "IPY_MODEL_bab25a894ad24dfc860f7676c8103484",
      "max": 10,
      "min": 1,
      "orientation": "horizontal",
      "readout": true,
      "readout_format": "d",
      "step": 1,
      "style": "IPY_MODEL_ccb1d8424e674d3096d59761c601b27e",
      "value": 5
     }
    }
   }
  }
 },
 "nbformat": 4,
 "nbformat_minor": 0
}
