{
 "cells": [
  {
   "cell_type": "markdown",
   "id": "ae16485f",
   "metadata": {},
   "source": [
    "Source of this notebook is here:  https://colab.research.google.com/github/probml/pyprobml/blob/master/notebooks/book1/03/gauss_infer_1d.ipynb"
   ]
  }
 ],
 "metadata": {},
 "nbformat": 4,
 "nbformat_minor": 5
}
