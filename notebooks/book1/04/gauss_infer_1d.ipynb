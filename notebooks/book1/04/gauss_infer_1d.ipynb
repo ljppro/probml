{
 "cells": [
  {
   "cell_type": "markdown",
   "id": "ae16485f",
   "metadata": {},
   "source": [
    "Please go to: https://github.com/probml/pyprobml/tree/master/notebooks/book1/03/gauss_infer_1d.ipynb"
   ]
  }
 ],
 "metadata": {},
 "nbformat": 4,
 "nbformat_minor": 5
}
