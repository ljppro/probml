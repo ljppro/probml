{
 "cells": [
  {
   "cell_type": "markdown",
   "id": "4db35a0e",
   "metadata": {},
   "source": [
    "Source of this notebook is here: https://github.com/probml/pyprobml/blob/master/notebooks/book2/17/gprDemoNoiseFree.ipynb"
   ]
  }
 ],
 "metadata": {
  "language_info": {
   "name": "python"
  }
 },
 "nbformat": 4,
 "nbformat_minor": 5
}
