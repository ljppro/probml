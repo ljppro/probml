{
 "cells": [
  {
   "cell_type": "markdown",
   "id": "21327587",
   "metadata": {},
   "source": [
    "Source of this notebook is here: https://github.com/probml/pyprobml/blob/master/notebooks/book2/17/gpr_demo_marglik.ipynb"
   ]
  }
 ],
 "metadata": {
  "language_info": {
   "name": "python"
  }
 },
 "nbformat": 4,
 "nbformat_minor": 5
}
