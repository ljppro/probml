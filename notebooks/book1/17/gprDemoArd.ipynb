{
  "nbformat": 4,
  "nbformat_minor": 0,
  "metadata": {
    "colab": {
      "name": "gprDemoArd.ipynb",
      "provenance": []
    },
    "kernelspec": {
      "name": "python3",
      "display_name": "Python 3"
    },
    "language_info": {
      "name": "python"
    }
  },
  "cells": [
    {
      "cell_type": "markdown",
      "source": [
        "Source of this notebook is here:  https://github.com/probml/pyprobml/blob/master/notebooks/book2/17/gprDemoArd.ipynb"
      ],
      "metadata": {
        "id": "eKcImlmrWJlH"
      }
    }
  ]
}