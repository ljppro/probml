{
 "cells": [
  {
   "cell_type": "markdown",
   "metadata": {
    "id": "eKcImlmrWJlH"
   },
   "source": [
    "Source of this notebook is here :  https://github.com/probml/pyprobml/blob/master/notebooks/book2/17/gprDemoArd.ipynb"
   ]
  }
 ],
 "metadata": {
  "colab": {
   "name": "gprDemoArd.ipynb",
   "provenance": []
  },
  "kernelspec": {
   "display_name": "Python 3",
   "language": "python",
   "name": "python3"
  },
  "language_info": {
   "codemirror_mode": {
    "name": "ipython",
    "version": 3
   },
   "file_extension": ".py",
   "mimetype": "text/x-python",
   "name": "python",
   "nbconvert_exporter": "python",
   "pygments_lexer": "ipython3",
   "version": "3.7.13"
  }
 },
 "nbformat": 4,
 "nbformat_minor": 1
}
