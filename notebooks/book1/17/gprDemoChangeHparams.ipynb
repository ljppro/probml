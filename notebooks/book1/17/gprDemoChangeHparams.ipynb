{
 "cells": [
  {
   "cell_type": "markdown",
   "id": "39834062",
   "metadata": {},
   "source": [
    "Source of this notebook is here: https://github.com/probml/pyprobml/blob/master/notebooks/book2/17/gprDemoChangeHparams.ipynb"
   ]
  }
 ],
 "metadata": {
  "kernelspec": {
   "display_name": "Python 3.7.13 ('py3713')",
   "language": "python",
   "name": "python3"
  },
  "language_info": {
   "codemirror_mode": {
    "name": "ipython",
    "version": 3
   },
   "file_extension": ".py",
   "mimetype": "text/x-python",
   "name": "python",
   "nbconvert_exporter": "python",
   "pygments_lexer": "ipython3",
   "version": "3.7.13"
  },
  "vscode": {
   "interpreter": {
    "hash": "a787a6e8bcd3d3d3e4a766006c27db2c5a636d1b43e1d89cd16234e9a9c2591c"
   }
  }
 },
 "nbformat": 4,
 "nbformat_minor": 5
}
