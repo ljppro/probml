{
 "cells": [
  {
   "cell_type": "markdown",
   "id": "f9a13922",
   "metadata": {},
   "source": [
    "Please go to: https://github.com/probml/pyprobml/tree/master/notebooks/book1/04/hinge_loss_plot.ipynb"
   ]
  }
 ],
 "metadata": {},
 "nbformat": 4,
 "nbformat_minor": 5
}
