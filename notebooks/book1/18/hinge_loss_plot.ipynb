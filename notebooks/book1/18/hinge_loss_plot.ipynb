{
 "cells": [
  {
   "cell_type": "markdown",
   "id": "f9a13922",
   "metadata": {},
   "source": [
    "Source of this notebook is here:  https://colab.research.google.com/github/probml/pyprobml/blob/master/notebooks/book1/04/hinge_loss_plot.ipynb"
   ]
  }
 ],
 "metadata": {},
 "nbformat": 4,
 "nbformat_minor": 5
}
