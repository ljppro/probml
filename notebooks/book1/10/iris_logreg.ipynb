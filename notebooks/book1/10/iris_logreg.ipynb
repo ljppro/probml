{
 "cells": [
  {
   "cell_type": "markdown",
   "id": "75544f56",
   "metadata": {},
   "source": [
    "Please go to: https://github.com/probml/pyprobml/tree/master/notebooks/book1/02/iris_logreg.ipynb"
   ]
  }
 ],
 "metadata": {},
 "nbformat": 4,
 "nbformat_minor": 5
}
