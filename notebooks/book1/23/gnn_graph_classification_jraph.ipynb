{
 "cells": [
  {
   "cell_type": "markdown",
   "metadata": {
    "id": "oevFC-GeJIJ3"
   },
   "source": [
    "# Graph Classification on MUTAG (Molecules)\n",
    "\n",
    "### Author: Nimish Sanghi https://github.com/nsanghi\n",
    "\n",
    "In this notebook we will use [JAX](https://github.com/google/jax), [Haiku](https://dm-haiku.readthedocs.io/en/latest/), [Optax](https://optax.readthedocs.io/en/latest/) and [Jraph](https://jraph.readthedocs.io/en/latest/)\n",
    "\n",
    "You can read through [Node Classification notebook](https://github.com/probml/pyprobml/blob/master/notebooks/book1/23/gnn_node_classification_jraph.ipynb) for the details each of the above libraries and how they work together to train GNN models.\n",
    "\n",
    "We will continue further in this notebook and focus on a complete Graph Classification model for MUTAG. \n",
    "\n",
    "This notebook is based on:\n",
    "https://github.com/deepmind/educational/blob/master/colabs/summer_schools/intro_to_graph_nets_tutorial_with_jraph.ipynb"
   ]
  },
  {
   "cell_type": "markdown",
   "metadata": {},
   "source": [
    "The main difference from our previous setup is that instead of observing individual node latents, we are now attempting to summarize them into one embedding vector, representative of the entire graph, which we then use to predict the class of this graph.\n",
    "\n",
    "We will do this on one of the most common tasks of this type -- **molecular property prediction**, where molecules are represented as graphs. Nodes correspond to atoms, and edges represent the bonds between them.\n",
    "\n",
    "We will use the **MUTAG** dataset for this example, a common dataset from the [TUDatasets](https://chrsmrrs.github.io/datasets/) collection.\n",
    "\n",
    "Authers of the notebook at Deepmind have converted this dataset to be compatible with jraph and we will download it in the cells below.\n",
    "\n",
    "Citation for TUDatasets: [Morris, Christopher, et al. Tudataset: A collection of benchmark datasets for learning with graphs. arXiv preprint arXiv:2007.08663. 2020.](https://chrsmrrs.github.io/datasets/)\n",
    "\n"
   ]
  },
  {
   "cell_type": "markdown",
   "metadata": {
    "id": "FP3-2NGmNdNm"
   },
   "source": [
    "## Setup: Install and Import libraries"
   ]
  },
  {
   "cell_type": "code",
   "execution_count": 1,
   "metadata": {
    "colab": {
     "base_uri": "https://localhost:8080/"
    },
    "id": "D_X0KgbdU44b",
    "outputId": "2c84396f-5ef9-4fb2-aa70-ec174093ed0b"
   },
   "outputs": [],
   "source": [
    "# Imports\n",
    "%matplotlib inline\n",
    "import functools\n",
    "from typing import Any, Callable, Dict, List, Optional, Tuple\n",
    "import matplotlib.pyplot as plt\n",
    "import pickle\n",
    "import jax\n",
    "import jax.numpy as jnp\n",
    "import jax.tree_util as tree\n",
    "\n",
    "try:\n",
    "    import jraph\n",
    "except ModuleNotFoundError:\n",
    "    %pip install -qq -U git+https://github.com/deepmind/jraph.git\n",
    "    import jraph\n",
    "\n",
    "try:\n",
    "    import haiku as hk\n",
    "except ModuleNotFoundError:\n",
    "    %pip install -qq -U dm-haiku\n",
    "    import haiku as hk\n",
    "\n",
    "try:\n",
    "    import optax\n",
    "except ModuleNotFoundError:\n",
    "    %pip install -qq -U optax\n",
    "    import optax\n",
    "\n",
    "try:\n",
    "    import networkx as nx\n",
    "except ModuleNotFoundError:\n",
    "    %pip install -qq -U networkx\n",
    "    import networkx as nx"
   ]
  },
  {
   "cell_type": "markdown",
   "metadata": {
    "id": "lR3gBw4bViiC"
   },
   "source": [
    "## Representing a Graph in jraph\n",
    "\n",
    "In jraph, a graph is represented with a `GraphsTuple` object. In addition to defining the graph structure of nodes and edges, you can also store node features, edge features and global graph features in a `GraphsTuple`.\n",
    "\n",
    "In the `GraphsTuple`, edges are represented in two aligned arrays of node indices: senders (source nodes) and receivers (destinaton nodes).\n",
    "Each index corresponds to one edge, e.g. edge `i` goes from `senders[i]` to `receivers[i]`.\n",
    "\n",
    "Let us now download the jraph version of MUTAG"
   ]
  },
  {
   "cell_type": "code",
   "execution_count": 2,
   "metadata": {},
   "outputs": [
    {
     "name": "stdout",
     "output_type": "stream",
     "text": [
      "--2022-06-30 16:38:42--  https://storage.googleapis.com/dm-educational/assets/graph-nets/jraph_datasets/mutag.pickle\n",
      "Resolving storage.googleapis.com (storage.googleapis.com)... 216.58.196.176, 142.250.71.16, 142.250.71.48, ...\n",
      "Connecting to storage.googleapis.com (storage.googleapis.com)|216.58.196.176|:443... connected.\n",
      "HTTP request sent, awaiting response... 200 OK\n",
      "Length: 352981 (345K) [application/octet-stream]\n",
      "Saving to: ‘/tmp/mutag.pickle.4’\n",
      "\n",
      "mutag.pickle.4      100%[===================>] 344.71K  --.-KB/s    in 0.1s    \n",
      "\n",
      "2022-06-30 16:38:43 (3.14 MB/s) - ‘/tmp/mutag.pickle.4’ saved [352981/352981]\n",
      "\n"
     ]
    }
   ],
   "source": [
    "# Download jraph version of MUTAG.\n",
    "!wget -P /tmp/ https://storage.googleapis.com/dm-educational/assets/graph-nets/jraph_datasets/mutag.pickle\n",
    "with open(\"/tmp/mutag.pickle\", \"rb\") as f:\n",
    "    mutag_ds = pickle.load(f)"
   ]
  },
  {
   "cell_type": "markdown",
   "metadata": {
    "id": "Ejb0tgbkWchm"
   },
   "source": [
    "#### Visualizing the Graph\n",
    "To visualize the graph structure, we will use the [`networkx`](networkx.org) library because it already has functions for drawing graphs.\n",
    "\n",
    "We first convert the `jraph.GraphsTuple` to a `networkx.DiGraph`."
   ]
  },
  {
   "cell_type": "code",
   "execution_count": 3,
   "metadata": {
    "id": "z6xdW8NuW00r"
   },
   "outputs": [],
   "source": [
    "def convert_jraph_to_networkx_graph(jraph_graph: jraph.GraphsTuple) -> nx.Graph:\n",
    "    nodes, edges, receivers, senders, _, _, _ = jraph_graph\n",
    "    nx_graph = nx.DiGraph()\n",
    "    if nodes is None:\n",
    "        for n in range(jraph_graph.n_node[0]):\n",
    "            nx_graph.add_node(n)\n",
    "    else:\n",
    "        for n in range(jraph_graph.n_node[0]):\n",
    "            nx_graph.add_node(n, node_feature=nodes[n])\n",
    "    if edges is None:\n",
    "        for e in range(jraph_graph.n_edge[0]):\n",
    "            nx_graph.add_edge(int(senders[e]), int(receivers[e]))\n",
    "    else:\n",
    "        for e in range(jraph_graph.n_edge[0]):\n",
    "            nx_graph.add_edge(int(senders[e]), int(receivers[e]), edge_feature=edges[e])\n",
    "    return nx_graph\n",
    "\n",
    "\n",
    "def draw_jraph_graph_structure(jraph_graph: jraph.GraphsTuple) -> None:\n",
    "    nx_graph = convert_jraph_to_networkx_graph(jraph_graph)\n",
    "    pos = nx.spring_layout(nx_graph)\n",
    "    nx.draw(nx_graph, pos=pos, with_labels=True, node_size=500, font_color=\"yellow\")"
   ]
  },
  {
   "cell_type": "markdown",
   "metadata": {},
   "source": [
    "The dataset is saved as a list of examples, each example is a dictionary containing an input_graph and its corresponding target."
   ]
  },
  {
   "cell_type": "code",
   "execution_count": 4,
   "metadata": {},
   "outputs": [
    {
     "name": "stdout",
     "output_type": "stream",
     "text": [
      "Number of graphs in the dataset: 188\n",
      "\n",
      "Inspecting the first graph:\n",
      "Number of nodes: 17\n",
      "Number of edges: 38\n",
      "Node features shape: (17, 7)\n",
      "Edge features shape: (38, 4)\n"
     ]
    }
   ],
   "source": [
    "# number of graphs in the dataset\n",
    "print(f\"Number of graphs in the dataset: {len(mutag_ds)}\")\n",
    "\n",
    "# Inspect the first graph\n",
    "print(\"\\nInspecting the first graph:\")\n",
    "g = mutag_ds[0][\"input_graph\"]\n",
    "print(f\"Number of nodes: {g.n_node[0]}\")\n",
    "print(f\"Number of edges: {g.n_edge[0]}\")\n",
    "print(f\"Node features shape: {g.nodes.shape}\")\n",
    "print(f\"Edge features shape: {g.edges.shape}\")"
   ]
  },
  {
   "cell_type": "markdown",
   "metadata": {},
   "source": [
    "Let us see first graph:"
   ]
  },
  {
   "cell_type": "code",
   "execution_count": 5,
   "metadata": {},
   "outputs": [
    {
     "data": {
      "image/png": "[encoded data removed]",
      "text/plain": [
       "<Figure size 432x288 with 1 Axes>"
      ]
     },
     "metadata": {},
     "output_type": "display_data"
    }
   ],
   "source": [
    "draw_jraph_graph_structure(g)"
   ]
  },
  {
   "cell_type": "markdown",
   "metadata": {},
   "source": [
    "We see that there are 188 graphs, to be classified in one of 2 classes, representing \"their mutagenic effect on a specific gram negative bacterium\". Node features represent the 1-hot encoding of the atom type (0=C, 1=N, 2=O, 3=F, 4=I, 5=Cl, 6=Br). Edge features (`edge_attr`) represent the bond type, which we will here ignore.\n",
    "\n",
    "Let's split the dataset to use the first 150 graphs as the training set (and the rest as the test set)."
   ]
  },
  {
   "cell_type": "code",
   "execution_count": 6,
   "metadata": {},
   "outputs": [],
   "source": [
    "train_mutag_ds = mutag_ds[:150]\n",
    "test_mutag_ds = mutag_ds[150:]"
   ]
  },
  {
   "cell_type": "code",
   "execution_count": 7,
   "metadata": {},
   "outputs": [
    {
     "data": {
      "text/plain": [
       "(1,)"
      ]
     },
     "execution_count": 7,
     "metadata": {},
     "output_type": "execute_result"
    }
   ],
   "source": [
    "train_mutag_ds[0][\"input_graph\"].n_node.shape"
   ]
  },
  {
   "cell_type": "markdown",
   "metadata": {},
   "source": [
    "#### Padding Graphs to Speed Up Training\n",
    "\n",
    "Since jax recompiles the program for each graph size, training would take a long time due to recompilation for different graph sizes. To address that, we pad the number of nodes and edges in the graphs to nearest power of two. Since jax maintains a cache\n",
    "of compiled programs, the compilation cost is amortized."
   ]
  },
  {
   "cell_type": "code",
   "execution_count": 8,
   "metadata": {},
   "outputs": [],
   "source": [
    "# Adapted from https://github.com/deepmind/jraph/blob/master/jraph/ogb_examples/train.py\n",
    "def _nearest_bigger_power_of_two(x: int) -> int:\n",
    "    \"\"\"Computes the nearest power of two greater than x for padding.\"\"\"\n",
    "    y = 2\n",
    "    while y < x:\n",
    "        y *= 2\n",
    "    return y\n",
    "\n",
    "\n",
    "def pad_graph_to_nearest_power_of_two(graphs_tuple: jraph.GraphsTuple) -> jraph.GraphsTuple:\n",
    "    \"\"\"Pads a batched `GraphsTuple` to the nearest power of two.\n",
    "    For example, if a `GraphsTuple` has 7 nodes, 5 edges and 3 graphs, this method\n",
    "    would pad the `GraphsTuple` nodes and edges:\n",
    "      7 nodes --> 8 nodes (2^3)\n",
    "      5 edges --> 8 edges (2^3)\n",
    "    And since padding is accomplished using `jraph.pad_with_graphs`, an extra\n",
    "    graph and node is added:\n",
    "      8 nodes --> 9 nodes\n",
    "      3 graphs --> 4 graphs\n",
    "    Args:\n",
    "      graphs_tuple: a batched `GraphsTuple` (can be batch size 1).\n",
    "    Returns:\n",
    "      A graphs_tuple batched to the nearest power of two.\n",
    "    \"\"\"\n",
    "    # Add 1 since we need at least one padding node for pad_with_graphs.\n",
    "    pad_nodes_to = _nearest_bigger_power_of_two(jnp.sum(graphs_tuple.n_node)) + 1\n",
    "    pad_edges_to = _nearest_bigger_power_of_two(jnp.sum(graphs_tuple.n_edge))\n",
    "    # Add 1 since we need at least one padding graph for pad_with_graphs.\n",
    "    # We do not pad to nearest power of two because the batch size is fixed.\n",
    "    pad_graphs_to = graphs_tuple.n_node.shape[0] + 1\n",
    "    return jraph.pad_with_graphs(graphs_tuple, pad_nodes_to, pad_edges_to, pad_graphs_to)"
   ]
  },
  {
   "cell_type": "markdown",
   "metadata": {},
   "source": [
    "#### Graph Network Model Definition\n",
    "\n",
    "We will use [`jraph.GraphNetwork()`](https://jraph.readthedocs.io/en/latest/api.html#jraph.GraphNetwork) to build our graph model. The `GraphNetwork` architecture is defined in [Battaglia et al. (2018)](https://arxiv.org/pdf/1806.01261.pdf). This function requires following parameters:\n",
    "```\n",
    "update_edge_fn – function used to update the edges or None to deactivate edge updates.\n",
    "\n",
    "update_node_fn - function used to update the nodes or None to deactivate node updates.\n",
    "\n",
    "update_global_fn - function used to update the globals or None to deactivate globals updates. Default is None.\n",
    "\n",
    "aggregate_edges_for_nodes_fn - function used to aggregate messages to each node. Default is <function segment_sum>.\n",
    "\n",
    "aggregate_nodes_for_globals_fn - function used to aggregate the nodes for the globals. Default is <function segment_sum>.\n",
    "\n",
    "aggregate_edges_for_globals_fn - function used to aggregate the edges for the globals. Default is <function segment_sum>.\n",
    "\n",
    "attention_logit_fn - function used to calculate the attention weights or None to deactivate attention mechanism. Default is None.\n",
    "\n",
    "attention_normalize_fn - function used to normalize raw attention logits or None if attention mechanism is not active.  Default is <function segment_softmax>.\n",
    "\n",
    "attention_reduce_fn - function used to apply weights to the edge features or None if attention mechanism is not active.  Default is None.\n",
    "```\n",
    "\n",
    "We first define update functions for nodes, edges, and the full graph (global). We will use MLP blocks for all three."
   ]
  },
  {
   "cell_type": "code",
   "execution_count": 9,
   "metadata": {},
   "outputs": [],
   "source": [
    "# Adapted from https://github.com/deepmind/jraph/blob/master/jraph/ogb_examples/train.py\n",
    "@jraph.concatenated_args\n",
    "def edge_update_fn(feats: jnp.ndarray) -> jnp.ndarray:\n",
    "    \"\"\"Edge update function for graph net.\"\"\"\n",
    "    net = hk.Sequential([hk.Linear(128), jax.nn.relu, hk.Linear(128)])\n",
    "    return net(feats)\n",
    "\n",
    "\n",
    "@jraph.concatenated_args\n",
    "def node_update_fn(feats: jnp.ndarray) -> jnp.ndarray:\n",
    "    \"\"\"Node update function for graph net.\"\"\"\n",
    "    net = hk.Sequential([hk.Linear(128), jax.nn.relu, hk.Linear(128)])\n",
    "    return net(feats)\n",
    "\n",
    "\n",
    "@jraph.concatenated_args\n",
    "def update_global_fn(feats: jnp.ndarray) -> jnp.ndarray:\n",
    "    \"\"\"Global update function for graph net.\"\"\"\n",
    "    # MUTAG is a binary classification task, so output pos neg logits.\n",
    "    net = hk.Sequential([hk.Linear(128), jax.nn.relu, hk.Linear(2)])\n",
    "    return net(feats)\n",
    "\n",
    "\n",
    "def net_fn(graph: jraph.GraphsTuple) -> jraph.GraphsTuple:\n",
    "    # Add a global paramater for graph classification.\n",
    "    graph = graph._replace(globals=jnp.zeros([graph.n_node.shape[0], 1]))\n",
    "    embedder = jraph.GraphMapFeatures(hk.Linear(128), hk.Linear(128), hk.Linear(128))\n",
    "    net = jraph.GraphNetwork(\n",
    "        update_node_fn=node_update_fn, update_edge_fn=edge_update_fn, update_global_fn=update_global_fn\n",
    "    )\n",
    "    return net(embedder(graph))"
   ]
  },
  {
   "cell_type": "markdown",
   "metadata": {},
   "source": [
    "#### Loss and Accuracy Function\n",
    "Define the classification cross-entropy loss and accuracy function."
   ]
  },
  {
   "cell_type": "code",
   "execution_count": 10,
   "metadata": {},
   "outputs": [],
   "source": [
    "def compute_loss(\n",
    "    params: hk.Params, graph: jraph.GraphsTuple, label: jnp.ndarray, net: jraph.GraphsTuple\n",
    ") -> Tuple[jnp.ndarray, jnp.ndarray]:\n",
    "    \"\"\"Computes loss and accuracy.\"\"\"\n",
    "    pred_graph = net.apply(params, graph)\n",
    "    preds = jax.nn.log_softmax(pred_graph.globals)\n",
    "    targets = jax.nn.one_hot(label, 2)\n",
    "\n",
    "    # Since we have an extra 'dummy' graph in our batch due to padding, we want\n",
    "    # to mask out any loss associated with the dummy graph.\n",
    "    # Since we padded with `pad_with_graphs` we can recover the mask by using\n",
    "    # get_graph_padding_mask.\n",
    "    mask = jraph.get_graph_padding_mask(pred_graph)\n",
    "\n",
    "    # Cross entropy loss.\n",
    "    loss = -jnp.mean(preds * targets * mask[:, None])\n",
    "\n",
    "    # Accuracy taking into account the mask.\n",
    "    accuracy = jnp.sum((jnp.argmax(pred_graph.globals, axis=1) == label) * mask) / jnp.sum(mask)\n",
    "    return loss, accuracy"
   ]
  },
  {
   "cell_type": "markdown",
   "metadata": {},
   "source": [
    "#### Training and Evaluation Functions"
   ]
  },
  {
   "cell_type": "code",
   "execution_count": 11,
   "metadata": {},
   "outputs": [],
   "source": [
    "# Adapted from https://github.com/deepmind/jraph/blob/master/jraph/ogb_examples/train.py\n",
    "def train(dataset: List[Dict[str, Any]], num_train_steps: int) -> hk.Params:\n",
    "    \"\"\"Training loop.\"\"\"\n",
    "\n",
    "    # Transform impure `net_fn` to pure functions with hk.transform.\n",
    "    net = hk.without_apply_rng(hk.transform(net_fn))\n",
    "    # Get a candidate graph and label to initialize the network.\n",
    "    graph = dataset[0][\"input_graph\"]\n",
    "\n",
    "    # Initialize the network.\n",
    "    params = net.init(jax.random.PRNGKey(42), graph)\n",
    "    # Initialize the optimizer.\n",
    "    opt_init, opt_update = optax.adam(1e-4)\n",
    "    opt_state = opt_init(params)\n",
    "\n",
    "    compute_loss_fn = functools.partial(compute_loss, net=net)\n",
    "    # We jit the computation of our loss, since this is the main computation.\n",
    "    # Using jax.jit means that we will use a single accelerator. If you want\n",
    "    # to use more than 1 accelerator, use jax.pmap. More information can be\n",
    "    # found in the jax documentation.\n",
    "    compute_loss_fn = jax.jit(jax.value_and_grad(compute_loss_fn, has_aux=True))\n",
    "\n",
    "    for idx in range(num_train_steps):\n",
    "        graph = dataset[idx % len(dataset)][\"input_graph\"]\n",
    "        label = dataset[idx % len(dataset)][\"target\"]\n",
    "        # Jax will re-jit your graphnet every time a new graph shape is encountered.\n",
    "        # In the limit, this means a new compilation every training step, which\n",
    "        # will result in *extremely* slow training. To prevent this, pad each\n",
    "        # batch of graphs to the nearest power of two. Since jax maintains a cache\n",
    "        # of compiled programs, the compilation cost is amortized.\n",
    "        graph = pad_graph_to_nearest_power_of_two(graph)\n",
    "\n",
    "        # Since padding is implemented with pad_with_graphs, an extra graph has\n",
    "        # been added to the batch, which means there should be an extra label.\n",
    "        label = jnp.concatenate([label, jnp.array([0])])\n",
    "\n",
    "        (loss, acc), grad = compute_loss_fn(params, graph, label)\n",
    "        updates, opt_state = opt_update(grad, opt_state, params)\n",
    "        params = optax.apply_updates(params, updates)\n",
    "        if idx % 50 == 0:\n",
    "            print(f\"step: {idx}, loss: {loss}, acc: {acc}\")\n",
    "    print(\"Training finished\")\n",
    "    return params"
   ]
  },
  {
   "cell_type": "code",
   "execution_count": 12,
   "metadata": {},
   "outputs": [],
   "source": [
    "def evaluate(dataset: List[Dict[str, Any]], params: hk.Params) -> Tuple[jnp.ndarray, jnp.ndarray]:\n",
    "    \"\"\"Evaluation Script.\"\"\"\n",
    "    # Transform impure `net_fn` to pure functions with hk.transform.\n",
    "    net = hk.without_apply_rng(hk.transform(net_fn))\n",
    "    # Get a candidate graph and label to initialize the network.\n",
    "    graph = dataset[0][\"input_graph\"]\n",
    "    accumulated_loss = 0\n",
    "    accumulated_accuracy = 0\n",
    "    compute_loss_fn = jax.jit(functools.partial(compute_loss, net=net))\n",
    "    for idx in range(len(dataset)):\n",
    "        graph = dataset[idx][\"input_graph\"]\n",
    "        label = dataset[idx][\"target\"]\n",
    "        graph = pad_graph_to_nearest_power_of_two(graph)\n",
    "        label = jnp.concatenate([label, jnp.array([0])])\n",
    "        loss, acc = compute_loss_fn(params, graph, label)\n",
    "        accumulated_accuracy += acc\n",
    "        accumulated_loss += loss\n",
    "        if idx % 100 == 0:\n",
    "            print(f\"Evaluated {idx + 1} graphs\")\n",
    "    print(\"Completed evaluation.\")\n",
    "    loss = accumulated_loss / idx\n",
    "    accuracy = accumulated_accuracy / idx\n",
    "    print(f\"Eval loss: {loss}, accuracy {accuracy}\")\n",
    "    return loss, accuracy"
   ]
  },
  {
   "cell_type": "code",
   "execution_count": 13,
   "metadata": {},
   "outputs": [
    {
     "name": "stderr",
     "output_type": "stream",
     "text": [
      "/home/nimish/anaconda3/envs/jax/lib/python3.7/site-packages/jax/_src/tree_util.py:189: FutureWarning: jax.tree_util.tree_multimap() is deprecated. Please use jax.tree_util.tree_map() instead as a drop-in replacement.\n",
      "  'instead as a drop-in replacement.', FutureWarning)\n"
     ]
    },
    {
     "name": "stdout",
     "output_type": "stream",
     "text": [
      "step: 0, loss: 0.28438887000083923, acc: 0.0\n",
      "step: 50, loss: 0.0006321418331936002, acc: 1.0\n",
      "step: 100, loss: 0.0013380241580307484, acc: 1.0\n",
      "step: 150, loss: 0.04702794551849365, acc: 1.0\n",
      "step: 200, loss: 0.041739627718925476, acc: 1.0\n",
      "step: 250, loss: 0.0028245325665920973, acc: 1.0\n",
      "step: 300, loss: 0.047925882041454315, acc: 1.0\n",
      "step: 350, loss: 0.032259050756692886, acc: 1.0\n",
      "step: 400, loss: 0.0030686105601489544, acc: 1.0\n",
      "step: 450, loss: 0.036227963864803314, acc: 1.0\n",
      "Training finished\n"
     ]
    }
   ],
   "source": [
    "params = train(train_mutag_ds, num_train_steps=500)"
   ]
  },
  {
   "cell_type": "code",
   "execution_count": 14,
   "metadata": {},
   "outputs": [
    {
     "name": "stdout",
     "output_type": "stream",
     "text": [
      "Evaluated 1 graphs\n",
      "Completed evaluation.\n",
      "Eval loss: 0.14461466670036316, accuracy 0.7567567229270935\n"
     ]
    },
    {
     "data": {
      "text/plain": [
       "(DeviceArray(0.14461467, dtype=float32), DeviceArray(0.7567567, dtype=float32))"
      ]
     },
     "execution_count": 14,
     "metadata": {},
     "output_type": "execute_result"
    }
   ],
   "source": [
    "evaluate(test_mutag_ds, params)"
   ]
  },
  {
   "cell_type": "markdown",
   "metadata": {},
   "source": [
    "##### We converge at ~76% test accuracy. The accuracy can be trained by further tuning or using a more complex networks inside the `net_fn`."
   ]
  }
 ],
 "metadata": {
  "accelerator": "GPU",
  "colab": {
   "collapsed_sections": [],
   "include_colab_link": true,
   "name": "gnn_node_classification_jraph.ipynb",
   "provenance": []
  },
  "gpuClass": "standard",
  "kernelspec": {
   "display_name": "Python 3.7.11 ('jax')",
   "language": "python",
   "name": "python3"
  },
  "language_info": {
   "codemirror_mode": {
    "name": "ipython",
    "version": 3
   },
   "file_extension": ".py",
   "mimetype": "text/x-python",
   "name": "python",
   "nbconvert_exporter": "python",
   "pygments_lexer": "ipython3",
   "version": "3.7.11"
  },
  "vscode": {
   "interpreter": {
    "hash": "6ed81ec7287607b09fe6a0abc51f69379e1e94891948ae932e291c7641f6d3f4"
   }
  }
 },
 "nbformat": 4,
 "nbformat_minor": 0
}
