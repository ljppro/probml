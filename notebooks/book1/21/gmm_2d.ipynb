{
 "cells": [
  {
   "cell_type": "markdown",
   "id": "e49e85ba",
   "metadata": {},
   "source": [
    "Please go to: https://github.com/probml/pyprobml/tree/master/notebooks/book1/03/gmm_2d.ipynb"
   ]
  }
 ],
 "metadata": {},
 "nbformat": 4,
 "nbformat_minor": 5
}
