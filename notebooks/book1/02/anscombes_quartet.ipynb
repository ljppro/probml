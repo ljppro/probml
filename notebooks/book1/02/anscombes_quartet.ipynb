{
 "cells": [
  {
   "cell_type": "markdown",
   "id": "9f403b77",
   "metadata": {},
   "source": [
    "# Anscombe’s quartet: Same low order summary statistics"
   ]
  },
  {
   "cell_type": "code",
   "execution_count": 2,
   "id": "0e26f84e",
   "metadata": {},
   "outputs": [
    {
     "name": "stdout",
     "output_type": "stream",
     "text": [
      "Collecting git+https://github.com/probml/probml-utils.git\n",
      "  Cloning https://github.com/probml/probml-utils.git to /tmp/pip-req-build-gedpcczj\n",
      "  Running command git clone -q https://github.com/probml/probml-utils.git /tmp/pip-req-build-gedpcczj\n",
      "  Resolved https://github.com/probml/probml-utils.git to commit 3f35ea473a5859b4f628e0bea2fd99363bd5f80d\n",
      "  Installing build dependencies ... \u001b[?25ldone\n",
      "\u001b[?25h  Getting requirements to build wheel ... \u001b[?25ldone\n",
      "\u001b[?25h    Preparing wheel metadata ... \u001b[?25ldone\n",
      "\u001b[?25hRequirement already satisfied: jupyter in /home/patel_zeel/miniconda3/envs/pymc_exp/lib/python3.8/site-packages (from probml-utils==0.1.dev35+g3f35ea4) (1.0.0)\n",
      "Requirement already satisfied: jax in /home/patel_zeel/miniconda3/envs/pymc_exp/lib/python3.8/site-packages (from probml-utils==0.1.dev35+g3f35ea4) (0.3.5)\n",
      "Requirement already satisfied: numpy in /home/patel_zeel/miniconda3/envs/pymc_exp/lib/python3.8/site-packages (from probml-utils==0.1.dev35+g3f35ea4) (1.22.1)\n",
      "Requirement already satisfied: graphviz in /home/patel_zeel/miniconda3/envs/pymc_exp/lib/python3.8/site-packages (from probml-utils==0.1.dev35+g3f35ea4) (0.20)\n",
      "Requirement already satisfied: scikit-learn in /home/patel_zeel/miniconda3/envs/pymc_exp/lib/python3.8/site-packages (from probml-utils==0.1.dev35+g3f35ea4) (1.0.2)\n",
      "Requirement already satisfied: jaxlib in /home/patel_zeel/miniconda3/envs/pymc_exp/lib/python3.8/site-packages (from probml-utils==0.1.dev35+g3f35ea4) (0.3.5)\n",
      "Requirement already satisfied: scipy in /home/patel_zeel/miniconda3/envs/pymc_exp/lib/python3.8/site-packages (from probml-utils==0.1.dev35+g3f35ea4) (1.7.3)\n",
      "Requirement already satisfied: distrax in /home/patel_zeel/miniconda3/envs/pymc_exp/lib/python3.8/site-packages (from probml-utils==0.1.dev35+g3f35ea4) (0.1.2)\n",
      "Requirement already satisfied: matplotlib in /home/patel_zeel/miniconda3/envs/pymc_exp/lib/python3.8/site-packages (from probml-utils==0.1.dev35+g3f35ea4) (3.5.1)\n",
      "Requirement already satisfied: absl-py>=0.9.0 in /home/patel_zeel/miniconda3/envs/pymc_exp/lib/python3.8/site-packages (from distrax->probml-utils==0.1.dev35+g3f35ea4) (1.0.0)\n",
      "Requirement already satisfied: tensorflow-probability>=0.15.0 in /home/patel_zeel/miniconda3/envs/pymc_exp/lib/python3.8/site-packages (from distrax->probml-utils==0.1.dev35+g3f35ea4) (0.16.0)\n",
      "Requirement already satisfied: chex>=0.0.7 in /home/patel_zeel/miniconda3/envs/pymc_exp/lib/python3.8/site-packages (from distrax->probml-utils==0.1.dev35+g3f35ea4) (0.1.2)\n",
      "Requirement already satisfied: six in /home/patel_zeel/miniconda3/envs/pymc_exp/lib/python3.8/site-packages (from absl-py>=0.9.0->distrax->probml-utils==0.1.dev35+g3f35ea4) (1.16.0)\n",
      "Requirement already satisfied: dm-tree>=0.1.5 in /home/patel_zeel/miniconda3/envs/pymc_exp/lib/python3.8/site-packages (from chex>=0.0.7->distrax->probml-utils==0.1.dev35+g3f35ea4) (0.1.6)\n",
      "Requirement already satisfied: toolz>=0.9.0 in /home/patel_zeel/miniconda3/envs/pymc_exp/lib/python3.8/site-packages (from chex>=0.0.7->distrax->probml-utils==0.1.dev35+g3f35ea4) (0.11.2)\n",
      "Requirement already satisfied: typing-extensions in /home/patel_zeel/miniconda3/envs/pymc_exp/lib/python3.8/site-packages (from jax->probml-utils==0.1.dev35+g3f35ea4) (4.1.1)\n",
      "Requirement already satisfied: opt-einsum in /home/patel_zeel/miniconda3/envs/pymc_exp/lib/python3.8/site-packages (from jax->probml-utils==0.1.dev35+g3f35ea4) (3.3.0)\n",
      "Requirement already satisfied: flatbuffers<3.0,>=1.12 in /home/patel_zeel/miniconda3/envs/pymc_exp/lib/python3.8/site-packages (from jaxlib->probml-utils==0.1.dev35+g3f35ea4) (2.0)\n",
      "Requirement already satisfied: decorator in /home/patel_zeel/miniconda3/envs/pymc_exp/lib/python3.8/site-packages (from tensorflow-probability>=0.15.0->distrax->probml-utils==0.1.dev35+g3f35ea4) (5.1.1)\n",
      "Requirement already satisfied: cloudpickle>=1.3 in /home/patel_zeel/miniconda3/envs/pymc_exp/lib/python3.8/site-packages (from tensorflow-probability>=0.15.0->distrax->probml-utils==0.1.dev35+g3f35ea4) (2.0.0)\n",
      "Requirement already satisfied: gast>=0.3.2 in /home/patel_zeel/miniconda3/envs/pymc_exp/lib/python3.8/site-packages (from tensorflow-probability>=0.15.0->distrax->probml-utils==0.1.dev35+g3f35ea4) (0.5.3)\n",
      "Requirement already satisfied: jupyter-console in /home/patel_zeel/miniconda3/envs/pymc_exp/lib/python3.8/site-packages (from jupyter->probml-utils==0.1.dev35+g3f35ea4) (6.4.3)\n",
      "Requirement already satisfied: ipykernel in /home/patel_zeel/miniconda3/envs/pymc_exp/lib/python3.8/site-packages (from jupyter->probml-utils==0.1.dev35+g3f35ea4) (6.9.1)\n",
      "Requirement already satisfied: notebook in /home/patel_zeel/miniconda3/envs/pymc_exp/lib/python3.8/site-packages (from jupyter->probml-utils==0.1.dev35+g3f35ea4) (6.4.11)\n",
      "Requirement already satisfied: qtconsole in /home/patel_zeel/miniconda3/envs/pymc_exp/lib/python3.8/site-packages (from jupyter->probml-utils==0.1.dev35+g3f35ea4) (5.3.0)\n",
      "Requirement already satisfied: nbconvert in /home/patel_zeel/miniconda3/envs/pymc_exp/lib/python3.8/site-packages (from jupyter->probml-utils==0.1.dev35+g3f35ea4) (6.5.0)\n",
      "Requirement already satisfied: ipywidgets in /home/patel_zeel/miniconda3/envs/pymc_exp/lib/python3.8/site-packages (from jupyter->probml-utils==0.1.dev35+g3f35ea4) (7.7.0)\n",
      "Requirement already satisfied: ipython>=7.23.1 in /home/patel_zeel/miniconda3/envs/pymc_exp/lib/python3.8/site-packages (from ipykernel->jupyter->probml-utils==0.1.dev35+g3f35ea4) (8.1.1)\n",
      "Requirement already satisfied: matplotlib-inline<0.2.0,>=0.1.0 in /home/patel_zeel/miniconda3/envs/pymc_exp/lib/python3.8/site-packages (from ipykernel->jupyter->probml-utils==0.1.dev35+g3f35ea4) (0.1.2)\n",
      "Requirement already satisfied: jupyter-client<8.0 in /home/patel_zeel/miniconda3/envs/pymc_exp/lib/python3.8/site-packages (from ipykernel->jupyter->probml-utils==0.1.dev35+g3f35ea4) (7.1.2)\n",
      "Requirement already satisfied: debugpy<2.0,>=1.0.0 in /home/patel_zeel/miniconda3/envs/pymc_exp/lib/python3.8/site-packages (from ipykernel->jupyter->probml-utils==0.1.dev35+g3f35ea4) (1.5.1)\n",
      "Requirement already satisfied: traitlets<6.0,>=5.1.0 in /home/patel_zeel/miniconda3/envs/pymc_exp/lib/python3.8/site-packages (from ipykernel->jupyter->probml-utils==0.1.dev35+g3f35ea4) (5.1.1)\n",
      "Requirement already satisfied: tornado<7.0,>=4.2 in /home/patel_zeel/miniconda3/envs/pymc_exp/lib/python3.8/site-packages (from ipykernel->jupyter->probml-utils==0.1.dev35+g3f35ea4) (6.1)\n",
      "Requirement already satisfied: nest-asyncio in /home/patel_zeel/miniconda3/envs/pymc_exp/lib/python3.8/site-packages (from ipykernel->jupyter->probml-utils==0.1.dev35+g3f35ea4) (1.5.1)\n",
      "Requirement already satisfied: jedi>=0.16 in /home/patel_zeel/miniconda3/envs/pymc_exp/lib/python3.8/site-packages (from ipython>=7.23.1->ipykernel->jupyter->probml-utils==0.1.dev35+g3f35ea4) (0.18.1)\n",
      "Requirement already satisfied: prompt-toolkit!=3.0.0,!=3.0.1,<3.1.0,>=2.0.0 in /home/patel_zeel/miniconda3/envs/pymc_exp/lib/python3.8/site-packages (from ipython>=7.23.1->ipykernel->jupyter->probml-utils==0.1.dev35+g3f35ea4) (3.0.20)\n",
      "Requirement already satisfied: backcall in /home/patel_zeel/miniconda3/envs/pymc_exp/lib/python3.8/site-packages (from ipython>=7.23.1->ipykernel->jupyter->probml-utils==0.1.dev35+g3f35ea4) (0.2.0)\n",
      "Requirement already satisfied: pygments>=2.4.0 in /home/patel_zeel/miniconda3/envs/pymc_exp/lib/python3.8/site-packages (from ipython>=7.23.1->ipykernel->jupyter->probml-utils==0.1.dev35+g3f35ea4) (2.11.2)\n",
      "Requirement already satisfied: pickleshare in /home/patel_zeel/miniconda3/envs/pymc_exp/lib/python3.8/site-packages (from ipython>=7.23.1->ipykernel->jupyter->probml-utils==0.1.dev35+g3f35ea4) (0.7.5)\n",
      "Requirement already satisfied: setuptools>=18.5 in /home/patel_zeel/miniconda3/envs/pymc_exp/lib/python3.8/site-packages (from ipython>=7.23.1->ipykernel->jupyter->probml-utils==0.1.dev35+g3f35ea4) (58.0.4)\n",
      "Requirement already satisfied: stack-data in /home/patel_zeel/miniconda3/envs/pymc_exp/lib/python3.8/site-packages (from ipython>=7.23.1->ipykernel->jupyter->probml-utils==0.1.dev35+g3f35ea4) (0.2.0)\n",
      "Requirement already satisfied: pexpect>4.3 in /home/patel_zeel/miniconda3/envs/pymc_exp/lib/python3.8/site-packages (from ipython>=7.23.1->ipykernel->jupyter->probml-utils==0.1.dev35+g3f35ea4) (4.8.0)\n",
      "Requirement already satisfied: parso<0.9.0,>=0.8.0 in /home/patel_zeel/miniconda3/envs/pymc_exp/lib/python3.8/site-packages (from jedi>=0.16->ipython>=7.23.1->ipykernel->jupyter->probml-utils==0.1.dev35+g3f35ea4) (0.8.3)\n",
      "Requirement already satisfied: jupyter-core>=4.6.0 in /home/patel_zeel/miniconda3/envs/pymc_exp/lib/python3.8/site-packages (from jupyter-client<8.0->ipykernel->jupyter->probml-utils==0.1.dev35+g3f35ea4) (4.9.2)\n",
      "Requirement already satisfied: entrypoints in /home/patel_zeel/miniconda3/envs/pymc_exp/lib/python3.8/site-packages (from jupyter-client<8.0->ipykernel->jupyter->probml-utils==0.1.dev35+g3f35ea4) (0.3)\n",
      "Requirement already satisfied: python-dateutil>=2.1 in /home/patel_zeel/miniconda3/envs/pymc_exp/lib/python3.8/site-packages (from jupyter-client<8.0->ipykernel->jupyter->probml-utils==0.1.dev35+g3f35ea4) (2.8.2)\n",
      "Requirement already satisfied: pyzmq>=13 in /home/patel_zeel/miniconda3/envs/pymc_exp/lib/python3.8/site-packages (from jupyter-client<8.0->ipykernel->jupyter->probml-utils==0.1.dev35+g3f35ea4) (22.3.0)\n"
     ]
    },
    {
     "name": "stdout",
     "output_type": "stream",
     "text": [
      "Requirement already satisfied: ptyprocess>=0.5 in /home/patel_zeel/miniconda3/envs/pymc_exp/lib/python3.8/site-packages (from pexpect>4.3->ipython>=7.23.1->ipykernel->jupyter->probml-utils==0.1.dev35+g3f35ea4) (0.7.0)\n",
      "Requirement already satisfied: wcwidth in /home/patel_zeel/miniconda3/envs/pymc_exp/lib/python3.8/site-packages (from prompt-toolkit!=3.0.0,!=3.0.1,<3.1.0,>=2.0.0->ipython>=7.23.1->ipykernel->jupyter->probml-utils==0.1.dev35+g3f35ea4) (0.2.5)\n",
      "Requirement already satisfied: ipython-genutils~=0.2.0 in /home/patel_zeel/miniconda3/envs/pymc_exp/lib/python3.8/site-packages (from ipywidgets->jupyter->probml-utils==0.1.dev35+g3f35ea4) (0.2.0)\n",
      "Requirement already satisfied: widgetsnbextension~=3.6.0 in /home/patel_zeel/miniconda3/envs/pymc_exp/lib/python3.8/site-packages (from ipywidgets->jupyter->probml-utils==0.1.dev35+g3f35ea4) (3.6.0)\n",
      "Requirement already satisfied: nbformat>=4.2.0 in /home/patel_zeel/miniconda3/envs/pymc_exp/lib/python3.8/site-packages (from ipywidgets->jupyter->probml-utils==0.1.dev35+g3f35ea4) (5.3.0)\n",
      "Requirement already satisfied: jupyterlab-widgets>=1.0.0 in /home/patel_zeel/miniconda3/envs/pymc_exp/lib/python3.8/site-packages (from ipywidgets->jupyter->probml-utils==0.1.dev35+g3f35ea4) (1.1.0)\n",
      "Requirement already satisfied: fastjsonschema in /home/patel_zeel/miniconda3/envs/pymc_exp/lib/python3.8/site-packages (from nbformat>=4.2.0->ipywidgets->jupyter->probml-utils==0.1.dev35+g3f35ea4) (2.15.3)\n",
      "Requirement already satisfied: jsonschema>=2.6 in /home/patel_zeel/miniconda3/envs/pymc_exp/lib/python3.8/site-packages (from nbformat>=4.2.0->ipywidgets->jupyter->probml-utils==0.1.dev35+g3f35ea4) (4.4.0)\n",
      "Requirement already satisfied: importlib-resources>=1.4.0 in /home/patel_zeel/miniconda3/envs/pymc_exp/lib/python3.8/site-packages (from jsonschema>=2.6->nbformat>=4.2.0->ipywidgets->jupyter->probml-utils==0.1.dev35+g3f35ea4) (5.7.1)\n",
      "Requirement already satisfied: pyrsistent!=0.17.0,!=0.17.1,!=0.17.2,>=0.14.0 in /home/patel_zeel/miniconda3/envs/pymc_exp/lib/python3.8/site-packages (from jsonschema>=2.6->nbformat>=4.2.0->ipywidgets->jupyter->probml-utils==0.1.dev35+g3f35ea4) (0.18.1)\n",
      "Requirement already satisfied: attrs>=17.4.0 in /home/patel_zeel/miniconda3/envs/pymc_exp/lib/python3.8/site-packages (from jsonschema>=2.6->nbformat>=4.2.0->ipywidgets->jupyter->probml-utils==0.1.dev35+g3f35ea4) (21.4.0)\n",
      "Requirement already satisfied: zipp>=3.1.0 in /home/patel_zeel/miniconda3/envs/pymc_exp/lib/python3.8/site-packages (from importlib-resources>=1.4.0->jsonschema>=2.6->nbformat>=4.2.0->ipywidgets->jupyter->probml-utils==0.1.dev35+g3f35ea4) (3.8.0)\n",
      "Requirement already satisfied: terminado>=0.8.3 in /home/patel_zeel/miniconda3/envs/pymc_exp/lib/python3.8/site-packages (from notebook->jupyter->probml-utils==0.1.dev35+g3f35ea4) (0.13.3)\n",
      "Requirement already satisfied: Send2Trash>=1.8.0 in /home/patel_zeel/miniconda3/envs/pymc_exp/lib/python3.8/site-packages (from notebook->jupyter->probml-utils==0.1.dev35+g3f35ea4) (1.8.0)\n",
      "Requirement already satisfied: prometheus-client in /home/patel_zeel/miniconda3/envs/pymc_exp/lib/python3.8/site-packages (from notebook->jupyter->probml-utils==0.1.dev35+g3f35ea4) (0.14.1)\n",
      "Requirement already satisfied: jinja2 in /home/patel_zeel/miniconda3/envs/pymc_exp/lib/python3.8/site-packages (from notebook->jupyter->probml-utils==0.1.dev35+g3f35ea4) (3.1.1)\n",
      "Requirement already satisfied: argon2-cffi in /home/patel_zeel/miniconda3/envs/pymc_exp/lib/python3.8/site-packages (from notebook->jupyter->probml-utils==0.1.dev35+g3f35ea4) (21.3.0)\n",
      "Requirement already satisfied: beautifulsoup4 in /home/patel_zeel/miniconda3/envs/pymc_exp/lib/python3.8/site-packages (from nbconvert->jupyter->probml-utils==0.1.dev35+g3f35ea4) (4.11.1)\n",
      "Requirement already satisfied: defusedxml in /home/patel_zeel/miniconda3/envs/pymc_exp/lib/python3.8/site-packages (from nbconvert->jupyter->probml-utils==0.1.dev35+g3f35ea4) (0.7.1)\n",
      "Requirement already satisfied: MarkupSafe>=2.0 in /home/patel_zeel/miniconda3/envs/pymc_exp/lib/python3.8/site-packages (from nbconvert->jupyter->probml-utils==0.1.dev35+g3f35ea4) (2.1.1)\n",
      "Requirement already satisfied: mistune<2,>=0.8.1 in /home/patel_zeel/miniconda3/envs/pymc_exp/lib/python3.8/site-packages (from nbconvert->jupyter->probml-utils==0.1.dev35+g3f35ea4) (0.8.4)\n",
      "Requirement already satisfied: pandocfilters>=1.4.1 in /home/patel_zeel/miniconda3/envs/pymc_exp/lib/python3.8/site-packages (from nbconvert->jupyter->probml-utils==0.1.dev35+g3f35ea4) (1.5.0)\n",
      "Requirement already satisfied: packaging in /home/patel_zeel/miniconda3/envs/pymc_exp/lib/python3.8/site-packages (from nbconvert->jupyter->probml-utils==0.1.dev35+g3f35ea4) (21.3)\n",
      "Requirement already satisfied: jupyterlab-pygments in /home/patel_zeel/miniconda3/envs/pymc_exp/lib/python3.8/site-packages (from nbconvert->jupyter->probml-utils==0.1.dev35+g3f35ea4) (0.2.2)\n",
      "Requirement already satisfied: nbclient>=0.5.0 in /home/patel_zeel/miniconda3/envs/pymc_exp/lib/python3.8/site-packages (from nbconvert->jupyter->probml-utils==0.1.dev35+g3f35ea4) (0.6.0)\n",
      "Requirement already satisfied: bleach in /home/patel_zeel/miniconda3/envs/pymc_exp/lib/python3.8/site-packages (from nbconvert->jupyter->probml-utils==0.1.dev35+g3f35ea4) (5.0.0)\n",
      "Requirement already satisfied: tinycss2 in /home/patel_zeel/miniconda3/envs/pymc_exp/lib/python3.8/site-packages (from nbconvert->jupyter->probml-utils==0.1.dev35+g3f35ea4) (1.1.1)\n",
      "Requirement already satisfied: argon2-cffi-bindings in /home/patel_zeel/miniconda3/envs/pymc_exp/lib/python3.8/site-packages (from argon2-cffi->notebook->jupyter->probml-utils==0.1.dev35+g3f35ea4) (21.2.0)\n",
      "Requirement already satisfied: cffi>=1.0.1 in /home/patel_zeel/miniconda3/envs/pymc_exp/lib/python3.8/site-packages (from argon2-cffi-bindings->argon2-cffi->notebook->jupyter->probml-utils==0.1.dev35+g3f35ea4) (1.15.0)\n",
      "Requirement already satisfied: pycparser in /home/patel_zeel/miniconda3/envs/pymc_exp/lib/python3.8/site-packages (from cffi>=1.0.1->argon2-cffi-bindings->argon2-cffi->notebook->jupyter->probml-utils==0.1.dev35+g3f35ea4) (2.21)\n",
      "Requirement already satisfied: soupsieve>1.2 in /home/patel_zeel/miniconda3/envs/pymc_exp/lib/python3.8/site-packages (from beautifulsoup4->nbconvert->jupyter->probml-utils==0.1.dev35+g3f35ea4) (2.3.2.post1)\n",
      "Requirement already satisfied: webencodings in /home/patel_zeel/miniconda3/envs/pymc_exp/lib/python3.8/site-packages (from bleach->nbconvert->jupyter->probml-utils==0.1.dev35+g3f35ea4) (0.5.1)\n",
      "Requirement already satisfied: cycler>=0.10 in /home/patel_zeel/miniconda3/envs/pymc_exp/lib/python3.8/site-packages (from matplotlib->probml-utils==0.1.dev35+g3f35ea4) (0.11.0)\n",
      "Requirement already satisfied: pyparsing>=2.2.1 in /home/patel_zeel/miniconda3/envs/pymc_exp/lib/python3.8/site-packages (from matplotlib->probml-utils==0.1.dev35+g3f35ea4) (3.0.7)\n",
      "Requirement already satisfied: fonttools>=4.22.0 in /home/patel_zeel/miniconda3/envs/pymc_exp/lib/python3.8/site-packages (from matplotlib->probml-utils==0.1.dev35+g3f35ea4) (4.31.2)\n",
      "Requirement already satisfied: kiwisolver>=1.0.1 in /home/patel_zeel/miniconda3/envs/pymc_exp/lib/python3.8/site-packages (from matplotlib->probml-utils==0.1.dev35+g3f35ea4) (1.4.2)\n",
      "Requirement already satisfied: pillow>=6.2.0 in /home/patel_zeel/miniconda3/envs/pymc_exp/lib/python3.8/site-packages (from matplotlib->probml-utils==0.1.dev35+g3f35ea4) (9.1.0)\n",
      "Requirement already satisfied: qtpy>=2.0.1 in /home/patel_zeel/miniconda3/envs/pymc_exp/lib/python3.8/site-packages (from qtconsole->jupyter->probml-utils==0.1.dev35+g3f35ea4) (2.0.1)\n",
      "Requirement already satisfied: joblib>=0.11 in /home/patel_zeel/miniconda3/envs/pymc_exp/lib/python3.8/site-packages (from scikit-learn->probml-utils==0.1.dev35+g3f35ea4) (1.1.0)\n",
      "Requirement already satisfied: threadpoolctl>=2.0.0 in /home/patel_zeel/miniconda3/envs/pymc_exp/lib/python3.8/site-packages (from scikit-learn->probml-utils==0.1.dev35+g3f35ea4) (3.1.0)\n",
      "Requirement already satisfied: executing in /home/patel_zeel/miniconda3/envs/pymc_exp/lib/python3.8/site-packages (from stack-data->ipython>=7.23.1->ipykernel->jupyter->probml-utils==0.1.dev35+g3f35ea4) (0.8.3)\n",
      "Requirement already satisfied: asttokens in /home/patel_zeel/miniconda3/envs/pymc_exp/lib/python3.8/site-packages (from stack-data->ipython>=7.23.1->ipykernel->jupyter->probml-utils==0.1.dev35+g3f35ea4) (2.0.5)\n",
      "Requirement already satisfied: pure-eval in /home/patel_zeel/miniconda3/envs/pymc_exp/lib/python3.8/site-packages (from stack-data->ipython>=7.23.1->ipykernel->jupyter->probml-utils==0.1.dev35+g3f35ea4) (0.2.2)\n"
     ]
    },
    {
     "name": "stdout",
     "output_type": "stream",
     "text": [
      "Note: you may need to restart the kernel to use updated packages.\n"
     ]
    },
    {
     "ename": "ImportError",
     "evalue": "cannot import name 'is_latexify_enabled' from 'probml_utils' (/home/patel_zeel/miniconda3/envs/pymc_exp/lib/python3.8/site-packages/probml_utils/__init__.py)",
     "output_type": "error",
     "traceback": [
      "\u001b[0;31m---------------------------------------------------------------------------\u001b[0m",
      "\u001b[0;31mImportError\u001b[0m                               Traceback (most recent call last)",
      "Input \u001b[0;32mIn [2]\u001b[0m, in \u001b[0;36m<cell line: 4>\u001b[0;34m()\u001b[0m\n\u001b[1;32m      4\u001b[0m \u001b[38;5;28;01mtry\u001b[39;00m:\n\u001b[0;32m----> 5\u001b[0m     \u001b[38;5;28;01mfrom\u001b[39;00m \u001b[38;5;21;01mprobml_utils\u001b[39;00m \u001b[38;5;28;01mimport\u001b[39;00m latexify, savefig, is_latexify_enabled\n\u001b[1;32m      6\u001b[0m \u001b[38;5;28;01mexcept\u001b[39;00m:\n",
      "\u001b[0;31mImportError\u001b[0m: cannot import name 'is_latexify_enabled' from 'probml_utils' (/home/patel_zeel/miniconda3/envs/pymc_exp/lib/python3.8/site-packages/probml_utils/__init__.py)",
      "\nDuring handling of the above exception, another exception occurred:\n",
      "\u001b[0;31mImportError\u001b[0m                               Traceback (most recent call last)",
      "Input \u001b[0;32mIn [2]\u001b[0m, in \u001b[0;36m<cell line: 4>\u001b[0;34m()\u001b[0m\n\u001b[1;32m      6\u001b[0m \u001b[38;5;28;01mexcept\u001b[39;00m:\n\u001b[1;32m      7\u001b[0m     get_ipython()\u001b[38;5;241m.\u001b[39mrun_line_magic(\u001b[38;5;124m'\u001b[39m\u001b[38;5;124mpip\u001b[39m\u001b[38;5;124m'\u001b[39m, \u001b[38;5;124m'\u001b[39m\u001b[38;5;124minstall git+https://github.com/probml/probml-utils.git\u001b[39m\u001b[38;5;124m'\u001b[39m)\n\u001b[0;32m----> 8\u001b[0m     \u001b[38;5;28;01mfrom\u001b[39;00m \u001b[38;5;21;01mprobml_utils\u001b[39;00m \u001b[38;5;28;01mimport\u001b[39;00m latexify, savefig, is_latexify_enabled\n\u001b[1;32m     10\u001b[0m \u001b[38;5;28;01mfrom\u001b[39;00m \u001b[38;5;21;01msklearn\u001b[39;00m\u001b[38;5;21;01m.\u001b[39;00m\u001b[38;5;21;01mlinear_model\u001b[39;00m \u001b[38;5;28;01mimport\u001b[39;00m LinearRegression\n",
      "\u001b[0;31mImportError\u001b[0m: cannot import name 'is_latexify_enabled' from 'probml_utils' (/home/patel_zeel/miniconda3/envs/pymc_exp/lib/python3.8/site-packages/probml_utils/__init__.py)"
     ]
    }
   ],
   "source": [
    "import jax.numpy as jnp\n",
    "import seaborn as sns\n",
    "import matplotlib.pyplot as plt\n",
    "\n",
    "try:\n",
    "    from probml_utils import latexify, savefig, is_latexify_enabled\n",
    "except:\n",
    "    %pip install git+https://github.com/probml/probml-utils.git\n",
    "    from probml_utils import latexify, savefig, is_latexify_enabled\n",
    "\n",
    "from sklearn.linear_model import LinearRegression"
   ]
  },
  {
   "cell_type": "code",
   "execution_count": null,
   "id": "e6aa30bc",
   "metadata": {
    "tags": [
     "hide-input"
    ]
   },
   "outputs": [],
   "source": [
    "latexify(width_scale_factor=4, fig_height=1.5)"
   ]
  },
  {
   "cell_type": "code",
   "execution_count": null,
   "id": "d36699ad",
   "metadata": {},
   "outputs": [],
   "source": [
    "SCATTER_SIZE = 6 if is_latexify_enabled() else 24\n",
    "FIG_SIZE = None if is_latexify_enabled() else (12, 3)\n",
    "\n",
    "\n",
    "def make_graph(ax, data, color=None):\n",
    "    x = data[\"x\"]\n",
    "    y = data[\"y\"]\n",
    "    dataset_no = data[\"dataset_no\"]\n",
    "\n",
    "    model = LinearRegression().fit(x, y)\n",
    "    x_range = jnp.linspace(1, 20, num=20).reshape(-1, 1)\n",
    "    y_pred = model.predict(x_range)\n",
    "\n",
    "    ax.plot(x_range, y_pred, color=color)\n",
    "    ax.scatter(x, y, s=SCATTER_SIZE, color=color)\n",
    "\n",
    "    ax.set_xlim(0, 20)\n",
    "    ax.set_ylim(0, 14)\n",
    "\n",
    "    ax.set_xlabel(\"$x$\")\n",
    "    ax.set_ylabel(\"$y$\")"
   ]
  },
  {
   "cell_type": "code",
   "execution_count": null,
   "id": "06c07637",
   "metadata": {},
   "outputs": [],
   "source": [
    "df = sns.load_dataset(\"anscombe\")\n",
    "dataset_names = df[\"dataset\"].unique()\n",
    "colors = [\"tab:blue\", \"tab:orange\", \"tab:green\", \"tab:red\"]\n",
    "\n",
    "for i, name in enumerate(dataset_names):\n",
    "    plt.figure()\n",
    "    print(name)\n",
    "    name_index = df[\"dataset\"] == name\n",
    "    data_df = df[name_index]\n",
    "    data_df = data_df.sort_values(by=\"x\")\n",
    "    x = data_df[\"x\"].values.reshape(-1, 1)\n",
    "    y = data_df[\"y\"].values.reshape(-1, 1)\n",
    "\n",
    "    data = {\"x\": x, \"y\": y, \"dataset_no\": dataset_names[i]}\n",
    "\n",
    "    ax = plt.gca()\n",
    "    make_graph(ax, data, colors[i])\n",
    "\n",
    "    mean_x = data_df[\"x\"].to_numpy().mean()\n",
    "    mean_y = data_df[\"y\"].to_numpy().mean()\n",
    "\n",
    "    ax.set_title(f\"Dataset: {name}\")  # title for text-book\n",
    "    print(data_df[[\"x\", \"y\"]].agg([\"count\", \"mean\", \"var\"]))\n",
    "\n",
    "    sns.despine()\n",
    "\n",
    "    savefig(f\"anscombes_quartet_{name}_latexified.pdf\")\n",
    "\n",
    "    ax.set_title(f\"{name}, mean_x={mean_x:0.3f}, mean_y={mean_y:0.3f}\")  # title for jupyter-book"
   ]
  },
  {
   "cell_type": "code",
   "execution_count": null,
   "id": "1149441b",
   "metadata": {},
   "outputs": [],
   "source": [
    "# Compare the two different estimators for the variance\n",
    "# https://github.com/probml/pml-book/issues/264\n",
    "for d in [\"I\", \"II\", \"III\", \"IV\"]:\n",
    "    print(\"dataset \", d)\n",
    "\n",
    "    x = df[df[\"dataset\"] == d][\"x\"].to_numpy()\n",
    "    print(\"var x, MLE = {:.2f}\".format(((x - x.mean()) ** 2).mean()))\n",
    "    print(\"var x, numpy: {:.2f}\".format(x.var()))\n",
    "    print(\"var x, unbiased estimator: {:.2f}\\n\".format(x.var(ddof=1)))\n",
    "\n",
    "    y = df[df[\"dataset\"] == d][\"y\"].to_numpy()\n",
    "    print(\"var y, MLE = {:.2f}\".format(((y - y.mean()) ** 2).mean()))\n",
    "    print(\"var y, numpy: {:.2f}\".format(y.var()))\n",
    "    print(\"var y, unbiased estimator: {:.2f}\\n\".format(y.var(ddof=1)))"
   ]
  },
  {
   "cell_type": "code",
   "execution_count": null,
   "id": "bb758cb9",
   "metadata": {},
   "outputs": [],
   "source": []
  }
 ],
 "metadata": {
  "kernelspec": {
   "display_name": "Python [conda env:pymc_exp]",
   "language": "python",
   "name": "conda-env-pymc_exp-py"
  },
  "language_info": {
   "codemirror_mode": {
    "name": "ipython",
    "version": 3
   },
   "file_extension": ".py",
   "mimetype": "text/x-python",
   "name": "python",
   "nbconvert_exporter": "python",
   "pygments_lexer": "ipython3",
   "version": "3.8.0"
  }
 },
 "nbformat": 4,
 "nbformat_minor": 5
}
