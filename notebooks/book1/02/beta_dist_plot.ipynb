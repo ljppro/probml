{
 "cells": [
  {
   "cell_type": "code",
   "execution_count": 1,
   "id": "14f20ac3",
   "metadata": {},
   "outputs": [
    {
     "name": "stdout",
     "output_type": "stream",
     "text": [
      "Collecting jax\n",
      "  Downloading jax-0.3.7.tar.gz (944 kB)\n",
      "Note: you may need to restart the kernel to use updated packages.\n"
     ]
    },
    {
     "name": "stderr",
     "output_type": "stream",
     "text": [
      "ERROR: Could not find a version that satisfies the requirement jaxlib (from versions: none)\n",
      "ERROR: No matching distribution found for jaxlib\n"
     ]
    },
    {
     "ename": "ModuleNotFoundError",
     "evalue": "No module named 'jax'",
     "output_type": "error",
     "traceback": [
      "\u001b[1;31m---------------------------------------------------------------------------\u001b[0m",
      "\u001b[1;31mModuleNotFoundError\u001b[0m                       Traceback (most recent call last)",
      "\u001b[1;32mc:\\Users\\User\\Documents\\GitHub\\pyprobml\\notebooks\\book1\\02\\beta_dist_plot.ipynb Cell 1'\u001b[0m in \u001b[0;36m<cell line: 1>\u001b[1;34m()\u001b[0m\n\u001b[0;32m      <a href='vscode-notebook-cell:/c%3A/Users/User/Documents/GitHub/pyprobml/notebooks/book1/02/beta_dist_plot.ipynb#ch0000001?line=0'>1</a>\u001b[0m \u001b[39mtry\u001b[39;00m:\n\u001b[1;32m----> <a href='vscode-notebook-cell:/c%3A/Users/User/Documents/GitHub/pyprobml/notebooks/book1/02/beta_dist_plot.ipynb#ch0000001?line=1'>2</a>\u001b[0m     \u001b[39mimport\u001b[39;00m \u001b[39mjax\u001b[39;00m\n\u001b[0;32m      <a href='vscode-notebook-cell:/c%3A/Users/User/Documents/GitHub/pyprobml/notebooks/book1/02/beta_dist_plot.ipynb#ch0000001?line=2'>3</a>\u001b[0m \u001b[39mexcept\u001b[39;00m:\n",
      "\u001b[1;31mModuleNotFoundError\u001b[0m: No module named 'jax'",
      "\nDuring handling of the above exception, another exception occurred:\n",
      "\u001b[1;31mModuleNotFoundError\u001b[0m                       Traceback (most recent call last)",
      "\u001b[1;32mc:\\Users\\User\\Documents\\GitHub\\pyprobml\\notebooks\\book1\\02\\beta_dist_plot.ipynb Cell 1'\u001b[0m in \u001b[0;36m<cell line: 1>\u001b[1;34m()\u001b[0m\n\u001b[0;32m      <a href='vscode-notebook-cell:/c%3A/Users/User/Documents/GitHub/pyprobml/notebooks/book1/02/beta_dist_plot.ipynb#ch0000001?line=2'>3</a>\u001b[0m \u001b[39mexcept\u001b[39;00m:\n\u001b[0;32m      <a href='vscode-notebook-cell:/c%3A/Users/User/Documents/GitHub/pyprobml/notebooks/book1/02/beta_dist_plot.ipynb#ch0000001?line=3'>4</a>\u001b[0m     get_ipython()\u001b[39m.\u001b[39mrun_line_magic(\u001b[39m'\u001b[39m\u001b[39mpip\u001b[39m\u001b[39m'\u001b[39m, \u001b[39m'\u001b[39m\u001b[39minstall jax jaxlib\u001b[39m\u001b[39m'\u001b[39m)\n\u001b[1;32m----> <a href='vscode-notebook-cell:/c%3A/Users/User/Documents/GitHub/pyprobml/notebooks/book1/02/beta_dist_plot.ipynb#ch0000001?line=4'>5</a>\u001b[0m     \u001b[39mimport\u001b[39;00m \u001b[39mjax\u001b[39;00m\n\u001b[0;32m      <a href='vscode-notebook-cell:/c%3A/Users/User/Documents/GitHub/pyprobml/notebooks/book1/02/beta_dist_plot.ipynb#ch0000001?line=5'>6</a>\u001b[0m \u001b[39mimport\u001b[39;00m \u001b[39mjax\u001b[39;00m\u001b[39m.\u001b[39;00m\u001b[39mnumpy\u001b[39;00m \u001b[39mas\u001b[39;00m \u001b[39mjnp\u001b[39;00m\n\u001b[0;32m      <a href='vscode-notebook-cell:/c%3A/Users/User/Documents/GitHub/pyprobml/notebooks/book1/02/beta_dist_plot.ipynb#ch0000001?line=6'>7</a>\u001b[0m \u001b[39mfrom\u001b[39;00m \u001b[39mjax\u001b[39;00m\u001b[39m.\u001b[39;00m\u001b[39mscipy\u001b[39;00m\u001b[39m.\u001b[39;00m\u001b[39mstats\u001b[39;00m \u001b[39mimport\u001b[39;00m beta\n",
      "\u001b[1;31mModuleNotFoundError\u001b[0m: No module named 'jax'"
     ]
    }
   ],
   "source": [
    "try:\n",
    "    import jax\n",
    "except:\n",
    "    %pip install jax jaxlib\n",
    "    import jax\n",
    "import jax.numpy as jnp\n",
    "from jax.scipy.stats import beta\n",
    "\n",
    "try:\n",
    "    import matplotlib.pyplot as plt\n",
    "except:\n",
    "    %pip install matplotlib\n",
    "    import matplotlib.pyplot as plt\n",
    "\n",
    "try:\n",
    "    import seaborn as sns\n",
    "except:\n",
    "    %pip install seaborn\n",
    "    import seaborn as sns"
   ]
  },
  {
   "cell_type": "code",
   "execution_count": 2,
   "id": "a58c2e7c",
   "metadata": {},
   "outputs": [],
   "source": [
    "import os\n",
    "\n",
    "LATEXIFY = \"LATEXIFY\" in os.environ\n",
    "\n",
    "if LATEXIFY:\n",
    "    import sys\n",
    "\n",
    "    sys.path.append(\"scripts\")  # Don't change to \"../scripts\", instead, run this nb from repo's root with ipython\n",
    "    try:\n",
    "      from plot_utils import latexify, savefig\n",
    "    except:\n",
    "      sys.path.append(\"scripts\")\n",
    "      from plot_utils import latexify, savefig\n",
    "\n",
    "    latexify(width_scale_factor=2,fig_height=1.5)"
   ]
  },
  {
   "cell_type": "code",
   "execution_count": null,
   "id": "30dc8e99",
   "metadata": {},
   "outputs": [],
   "source": [
    "def make_graph(data):\n",
    "    x= data[\"x\"]\n",
    "    a_list = data[\"aa\"]\n",
    "    b_list= data[\"bb\"]\n",
    "    props = data[\"props\"]\n",
    "\n",
    "    for a,b,p in zip(a_list,b_list,props):\n",
    "      y = beta.pdf(x,a,b)\n",
    "      plt.plot(x,y,p, lw=2,label='a=%.1f,b=%.1f' % (a, b))\n",
    "\n",
    "      plt.xlabel(\"$x$\")\n",
    "      plt.ylabel(\"$pdf$\")\n",
    "      plt.legend(bbox_to_anchor=(1, 1),fontsize=12,loc=\"upper right\")\n",
    "      plt.title('Beta distributions')\n",
    "      sns.despine()\n",
    "      if LATEXIFY:\n",
    "          savefig('betadist_latexified.pdf')"
   ]
  },
  {
   "cell_type": "code",
   "execution_count": null,
   "id": "e1bfbffe",
   "metadata": {},
   "outputs": [],
   "source": [
    "x = jnp.linspace(0, 1, 100)\n",
    "aa = [0.1, 0.1, 1.0, 2.0, 2.0]\n",
    "bb = [0.1, 1.0, 1.0, 2.0, 8.0]\n",
    "props = ['b', 'r', 'k', 'g', 'c']\n",
    "\n",
    "data = {\"x\":x, \"aa\":aa, \"bb\":bb, \"props\":props}\n",
    "make_graph(data)"
   ]
  },
  {
   "cell_type": "code",
   "execution_count": null,
   "id": "678384ac",
   "metadata": {},
   "outputs": [],
   "source": [
    "from ipywidgets import interact\n",
    "\n",
    "@interact(a=(0.1, 10), b=(0.1, 10))\n",
    "def generate_random(a,b):\n",
    "    data= {\"x\": jnp.linspace(0, 1, 100), \"aa\":[a],\"bb\":[b],'props':['r']}\n",
    "    make_graph(data)\n",
    "    plt.yticks(jnp.arange(0, 11, step=1))"
   ]
  }
 ],
 "metadata": {
  "interpreter": {
   "hash": "057122632ce981b0b0a5641a196a2d879636510fd771017ff088220be07f3561"
  },
  "kernelspec": {
   "display_name": "Python 3.9.7 ('vscode')",
   "language": "python",
   "name": "python3"
  },
  "language_info": {
   "codemirror_mode": {
    "name": "ipython",
    "version": 3
   },
   "file_extension": ".py",
   "mimetype": "text/x-python",
   "name": "python",
   "nbconvert_exporter": "python",
   "pygments_lexer": "ipython3",
   "version": "3.9.7"
  }
 },
 "nbformat": 4,
 "nbformat_minor": 5
}
