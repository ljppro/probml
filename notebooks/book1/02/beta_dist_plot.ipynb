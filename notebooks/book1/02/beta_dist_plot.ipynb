{
 "cells": [
  {
   "cell_type": "code",
   "execution_count": null,
   "id": "faa75923",
   "metadata": {},
   "outputs": [],
   "source": [
    "import numpy as np\n",
    "import matplotlib.pyplot as plt\n",
    "import probml_utils as pml\n",
    "\n",
    "from scipy.stats import beta\n",
    "\n",
    "\n",
    "x = np.linspace(0, 1, 100)\n",
    "aa = [0.1, 0.1, 1.0, 2.0, 2.0]\n",
    "bb = [0.1, 1.0, 1.0, 2.0, 8.0]\n",
    "# props = ['b-', 'r:', 'k-.', 'g--', 'c-']\n",
    "props = [\"b\", \"r\", \"k\", \"g\", \"c\"]\n",
    "for a, b, p in zip(aa, bb, props):\n",
    "    y = beta.pdf(x, a, b)\n",
    "    plt.plot(x, y, p, lw=3, label=\"a=%.1f,b=%.1f\" % (a, b))\n",
    "plt.legend(fontsize=14)\n",
    "plt.title(\"Beta distributions\")\n",
    "pml.savefig(\"betadist.pdf\", dpi=300)\n",
    "plt.show()"
   ]
  }
 ],
 "metadata": {},
 "nbformat": 4,
 "nbformat_minor": 5
}
