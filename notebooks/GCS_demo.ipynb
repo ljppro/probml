{
  "nbformat": 4,
  "nbformat_minor": 0,
  "metadata": {
    "colab": {
      "name": "GCS_demo.ipynb",
      "provenance": [],
      "authorship_tag": "ABX9TyOR2ZjxEvs1Bi9052PYFaZH",
      "include_colab_link": true
    },
    "kernelspec": {
      "name": "python3",
      "display_name": "Python 3"
    },
    "language_info": {
      "name": "python"
    }
  },
  "cells": [
    {
      "cell_type": "markdown",
      "metadata": {
        "id": "view-in-github",
        "colab_type": "text"
      },
      "source": [
        "<a href=\"https://colab.research.google.com/github/always-newbie161/pyprobml/blob/hermissue_gcs/notebooks/GCS_demo.ipynb\" target=\"_parent\"><img src=\"https://colab.research.google.com/assets/colab-badge.svg\" alt=\"Open In Colab\"/></a>"
      ]
    },
    {
      "cell_type": "markdown",
      "metadata": {
        "id": "G7sHV8tjjy-S"
      },
      "source": [
        "### Mounting to GCS bucket\n",
        "\n",
        "and read/write data from/to it."
      ]
    },
    {
      "cell_type": "markdown",
      "metadata": {
        "id": "xFPk2qWsjrqO"
      },
      "source": [
        "**Replace bucket_name with name of the your GCS bucket**\n",
        "\n",
        "Note: you should first create the bucket in GCP if its not yet.\n",
        "\n",
        "This [colab](https://colab.research.google.com/notebooks/io.ipynb#scrollTo=7Z2jcRKwUHqV) shows you how to create a bucket within a project(go to GCS block)"
      ]
    },
    {
      "cell_type": "code",
      "metadata": {
        "id": "IdZ7N_hLjL95"
      },
      "source": [
        "bucket_name=\"gsoc_bucket\""
      ],
      "execution_count": null,
      "outputs": []
    },
    {
      "cell_type": "markdown",
      "metadata": {
        "id": "VtP4SSFkpCuT"
      },
      "source": [
        "This code mounts your bucket to the current session"
      ]
    },
    {
      "cell_type": "code",
      "metadata": {
        "id": "V4adu90SjfwF"
      },
      "source": [
        "def auth_and_mount(bucket_name):\n",
        "  from google.colab import auth\n",
        "  auth.authenticate_user()\n",
        "  !echo \"deb http://packages.cloud.google.com/apt gcsfuse-bionic main\" > /etc/apt/sources.list.d/gcsfuse.list\n",
        "  !curl https://packages.cloud.google.com/apt/doc/apt-key.gpg | apt-key add -\n",
        "  !apt -qq update\n",
        "  !apt -qq install gcsfuse\n",
        "  !mkdir $bucket_name\n",
        "  !gcsfuse $bucket_name /content/$bucket_name"
      ],
      "execution_count": null,
      "outputs": []
    },
    {
      "cell_type": "code",
      "metadata": {
        "colab": {
          "base_uri": "https://localhost:8080/"
        },
        "id": "4aerqvlMlcP_",
        "outputId": "7ab4f58e-e9c8-474a-fd23-9da44fb53ec2"
      },
      "source": [
        "auth_and_mount(bucket_name)"
      ],
      "execution_count": null,
      "outputs": [
        {
          "output_type": "stream",
          "text": [
            "  % Total    % Received % Xferd  Average Speed   Time    Time     Time  Current\n",
            "                                 Dload  Upload   Total   Spent    Left  Speed\n",
            "\r  0     0    0     0    0     0      0      0 --:--:-- --:--:-- --:--:--     0\r  0     0    0     0    0     0      0      0 --:--:-- --:--:-- --:--:--     0\r100  2537  100  2537    0     0  48788      0 --:--:-- --:--:-- --:--:-- 47867\n",
            "OK\n",
            "83 packages can be upgraded. Run 'apt list --upgradable' to see them.\n",
            "The following NEW packages will be installed:\n",
            "  gcsfuse\n",
            "0 upgraded, 1 newly installed, 0 to remove and 83 not upgraded.\n",
            "Need to get 10.8 MB of archives.\n",
            "After this operation, 23.1 MB of additional disk space will be used.\n",
            "Selecting previously unselected package gcsfuse.\n",
            "(Reading database ... 160772 files and directories currently installed.)\n",
            "Preparing to unpack .../gcsfuse_0.35.1_amd64.deb ...\n",
            "Unpacking gcsfuse (0.35.1) ...\n",
            "Setting up gcsfuse (0.35.1) ...\n",
            "2021/06/30 06:54:41.596900 Using mount point: /content/gsoc_bucket\n",
            "2021/06/30 06:54:41.604057 Opening GCS connection...\n",
            "2021/06/30 06:54:41.759475 Mounting file system \"gsoc_bucket\"...\n",
            "2021/06/30 06:54:41.796761 File system has been successfully mounted.\n"
          ],
          "name": "stdout"
        }
      ]
    },
    {
      "cell_type": "code",
      "metadata": {
        "colab": {
          "base_uri": "https://localhost:8080/"
        },
        "id": "Wcr20Zy6ls9h",
        "outputId": "f048c8d9-a03c-48b0-9137-c372d2d06605"
      },
      "source": [
        "cd /content/$bucket_name"
      ],
      "execution_count": null,
      "outputs": [
        {
          "output_type": "stream",
          "text": [
            "/content/gsoc_bucket\n"
          ],
          "name": "stdout"
        }
      ]
    },
    {
      "cell_type": "code",
      "metadata": {
        "id": "RJp9oEoql6GA"
      },
      "source": [
        "!mkdir test_folder"
      ],
      "execution_count": null,
      "outputs": []
    },
    {
      "cell_type": "code",
      "metadata": {
        "id": "X8gVcAhvmA7j"
      },
      "source": [
        "with open('./test_folder/test_file.txt', 'w') as f:\n",
        "  f.write('this file get saved in the test_folder you just created')"
      ],
      "execution_count": null,
      "outputs": []
    },
    {
      "cell_type": "markdown",
      "metadata": {
        "id": "92Pdgij2m5vv"
      },
      "source": [
        "You can check in your cloud platform that these changes are rendered in your GCS bucket"
      ]
    },
    {
      "cell_type": "markdown",
      "metadata": {
        "id": "72G9xEy9nMCT"
      },
      "source": [
        "Reverting the changes.."
      ]
    },
    {
      "cell_type": "code",
      "metadata": {
        "id": "t-mz_MyanG2O"
      },
      "source": [
        "!rm ./test_folder/test_file.txt"
      ],
      "execution_count": null,
      "outputs": []
    },
    {
      "cell_type": "markdown",
      "metadata": {
        "id": "eE7kaNQroXlY"
      },
      "source": [
        "`-rf` is used because even though you clear the directory, `.ipynb_checkpoints` will be present in the folder (in GCP), So you have to force delete the directory."
      ]
    },
    {
      "cell_type": "code",
      "metadata": {
        "id": "pkIx80pfnTHz"
      },
      "source": [
        "!rm -rf test_folder"
      ],
      "execution_count": null,
      "outputs": []
    }
  ]
}