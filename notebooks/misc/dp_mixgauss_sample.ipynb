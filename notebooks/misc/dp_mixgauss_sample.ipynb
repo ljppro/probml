{
 "cells": [
  {
   "cell_type": "code",
   "execution_count": 5,
   "metadata": {},
   "outputs": [],
   "source": [
    "try:\n",
    "    import probml_utils as pml\n",
    "except ModuleNotFoundError:\n",
    "    %pip install -qq git+https://github.com/probml/probml-utils.git\n",
    "    import probml_utils as pml"
   ]
  },
  {
   "cell_type": "code",
   "execution_count": null,
   "metadata": {},
   "outputs": [],
   "source": [
    "from probml_utils.dp_mixgauss_utils import dp_mixgauss_sample, NormalInverseWishart"
   ]
  },
  {
   "cell_type": "code",
   "execution_count": 2,
   "metadata": {},
   "outputs": [],
   "source": [
    "import jax.numpy as jnp\n",
    "from jax import random, vmap\n",
    "from scipy.linalg import sqrtm\n",
    "import matplotlib.pyplot as plt"
   ]
  },
  {
   "cell_type": "code",
   "execution_count": null,
   "metadata": {},
   "outputs": [],
   "source": [
    "# Example\n",
    "dim = 2\n",
    "# Set the hyperparameter for the NIW distribution\n",
    "hyper_params = dict(loc=jnp.zeros(dim), mean_precision=0.05, df=dim + 5, scale=jnp.eye(dim))\n",
    "\n",
    "# Generate the NIW object\n",
    "dp_base_measure = NormalInverseWishart(**hyper_params)\n",
    "key = random.PRNGKey(0)\n",
    "num_of_samples = 1000\n",
    "key, *subkeys = random.split(key, 3)\n",
    "\n",
    "# Sampling\n",
    "output1 = dp_mixgauss_sample(key, num_of_samples, 1.0, dp_base_measure)\n",
    "cluster_params1, cluster_indices1, samples1 = output1\n",
    "output2 = dp_mixgauss_sample(key, num_of_samples, 2.0, dp_base_measure)\n",
    "cluster_params2, cluster_indices2, samples2 = output2\n",
    "\n",
    "# Plotting\n",
    "cluster_parameters = (cluster_params1, cluster_params2)\n",
    "cluster_indices = (cluster_indices1, cluster_indices2)\n",
    "dp_samples = (samples1, samples2)\n",
    "bb = jnp.arange(0, 2 * jnp.pi, 0.02)\n",
    "sample_size = [50, 500, 1000]\n",
    "fig, axes = plt.subplots(3, 2)\n",
    "plt.setp(axes, xticks=[], yticks=[])\n",
    "for i in range(2):\n",
    "    Mu = cluster_parameters[i][\"mu\"]\n",
    "    Sigma = cluster_parameters[i][\"Sigma\"]\n",
    "    Z = cluster_indices[i]\n",
    "    X = dp_samples[i]\n",
    "    Sig_root = jnp.array([sqrtm(sigma) for sigma in Sigma])\n",
    "    for j in range(3):\n",
    "        s = sample_size[j]\n",
    "        axes[j, i].plot(X[:s, 0], X[:s, 1], \".\", markersize=5)\n",
    "        for k in jnp.unique(Z[:s]):\n",
    "            sig_root = Sig_root[\n",
    "                k,\n",
    "            ]\n",
    "            mu = Mu[\n",
    "                [k],\n",
    "            ].T\n",
    "            circ = mu.dot(jnp.ones((1, len(bb)))) + sig_root.dot(jnp.vstack([jnp.sin(bb), jnp.cos(bb)]))\n",
    "            axes[j, i].plot(circ[0, :], circ[1, :], linewidth=2, color=\"k\")\n",
    "plt.show()"
   ]
  }
 ],
 "metadata": {
  "interpreter": {
   "hash": "916dbcbb3f70747c44a77c7bcd40155683ae19c65e1c03b4aa3499c5328201f1"
  },
  "kernelspec": {
   "display_name": "Python 3.8.10 64-bit",
   "language": "python",
   "name": "python3"
  },
  "language_info": {
   "codemirror_mode": {
    "name": "ipython",
    "version": 3
   },
   "file_extension": ".py",
   "mimetype": "text/x-python",
   "name": "python",
   "nbconvert_exporter": "python",
   "pygments_lexer": "ipython3",
   "version": "3.8.10"
  },
  "orig_nbformat": 4
 },
 "nbformat": 4,
 "nbformat_minor": 2
}
